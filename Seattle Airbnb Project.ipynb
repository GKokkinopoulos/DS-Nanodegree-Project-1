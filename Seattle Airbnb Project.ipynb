{
 "cells": [
  {
   "cell_type": "code",
   "execution_count": 1,
   "id": "b2415bab",
   "metadata": {},
   "outputs": [],
   "source": [
    "# Let's import the necessary libraries\n",
    "\n",
    "import numpy as np\n",
    "import pandas as pd\n",
    "import matplotlib.pyplot as plt\n",
    "from sklearn.linear_model import LinearRegression\n",
    "from sklearn.model_selection import train_test_split\n",
    "from sklearn.metrics import r2_score, mean_squared_error\n",
    "import seaborn as sns\n",
    "%matplotlib inline\n",
    "\n"
   ]
  },
  {
   "cell_type": "code",
   "execution_count": 2,
   "id": "3853a1e3",
   "metadata": {},
   "outputs": [],
   "source": [
    "#and read the data\n",
    "df_cal = pd.read_csv('./calendar.csv')\n",
    "df_list = pd.read_csv('./listings.csv')\n",
    "df_rev = pd.read_csv('./reviews.csv')\n"
   ]
  },
  {
   "cell_type": "code",
   "execution_count": 3,
   "id": "c532f663",
   "metadata": {},
   "outputs": [
    {
     "name": "stdout",
     "output_type": "stream",
     "text": [
      "(3818, 92)\n",
      "(1393570, 4)\n",
      "(84849, 6)\n"
     ]
    }
   ],
   "source": [
    "print(df_list.shape)\n",
    "print(df_cal.shape)\n",
    "print(df_rev.shape)\n"
   ]
  },
  {
   "cell_type": "code",
   "execution_count": 4,
   "id": "8af1b3c4",
   "metadata": {},
   "outputs": [
    {
     "data": {
      "text/html": [
       "<div>\n",
       "<style scoped>\n",
       "    .dataframe tbody tr th:only-of-type {\n",
       "        vertical-align: middle;\n",
       "    }\n",
       "\n",
       "    .dataframe tbody tr th {\n",
       "        vertical-align: top;\n",
       "    }\n",
       "\n",
       "    .dataframe thead th {\n",
       "        text-align: right;\n",
       "    }\n",
       "</style>\n",
       "<table border=\"1\" class=\"dataframe\">\n",
       "  <thead>\n",
       "    <tr style=\"text-align: right;\">\n",
       "      <th></th>\n",
       "      <th>id</th>\n",
       "      <th>listing_url</th>\n",
       "      <th>scrape_id</th>\n",
       "      <th>last_scraped</th>\n",
       "      <th>name</th>\n",
       "      <th>summary</th>\n",
       "      <th>space</th>\n",
       "      <th>description</th>\n",
       "      <th>experiences_offered</th>\n",
       "      <th>neighborhood_overview</th>\n",
       "      <th>...</th>\n",
       "      <th>review_scores_value</th>\n",
       "      <th>requires_license</th>\n",
       "      <th>license</th>\n",
       "      <th>jurisdiction_names</th>\n",
       "      <th>instant_bookable</th>\n",
       "      <th>cancellation_policy</th>\n",
       "      <th>require_guest_profile_picture</th>\n",
       "      <th>require_guest_phone_verification</th>\n",
       "      <th>calculated_host_listings_count</th>\n",
       "      <th>reviews_per_month</th>\n",
       "    </tr>\n",
       "  </thead>\n",
       "  <tbody>\n",
       "    <tr>\n",
       "      <th>0</th>\n",
       "      <td>241032</td>\n",
       "      <td>https://www.airbnb.com/rooms/241032</td>\n",
       "      <td>20160104002432</td>\n",
       "      <td>2016-01-04</td>\n",
       "      <td>Stylish Queen Anne Apartment</td>\n",
       "      <td>NaN</td>\n",
       "      <td>Make your self at home in this charming one-be...</td>\n",
       "      <td>Make your self at home in this charming one-be...</td>\n",
       "      <td>none</td>\n",
       "      <td>NaN</td>\n",
       "      <td>...</td>\n",
       "      <td>10.0</td>\n",
       "      <td>f</td>\n",
       "      <td>NaN</td>\n",
       "      <td>WASHINGTON</td>\n",
       "      <td>f</td>\n",
       "      <td>moderate</td>\n",
       "      <td>f</td>\n",
       "      <td>f</td>\n",
       "      <td>2</td>\n",
       "      <td>4.07</td>\n",
       "    </tr>\n",
       "    <tr>\n",
       "      <th>1</th>\n",
       "      <td>953595</td>\n",
       "      <td>https://www.airbnb.com/rooms/953595</td>\n",
       "      <td>20160104002432</td>\n",
       "      <td>2016-01-04</td>\n",
       "      <td>Bright &amp; Airy Queen Anne Apartment</td>\n",
       "      <td>Chemically sensitive? We've removed the irrita...</td>\n",
       "      <td>Beautiful, hypoallergenic apartment in an extr...</td>\n",
       "      <td>Chemically sensitive? We've removed the irrita...</td>\n",
       "      <td>none</td>\n",
       "      <td>Queen Anne is a wonderful, truly functional vi...</td>\n",
       "      <td>...</td>\n",
       "      <td>10.0</td>\n",
       "      <td>f</td>\n",
       "      <td>NaN</td>\n",
       "      <td>WASHINGTON</td>\n",
       "      <td>f</td>\n",
       "      <td>strict</td>\n",
       "      <td>t</td>\n",
       "      <td>t</td>\n",
       "      <td>6</td>\n",
       "      <td>1.48</td>\n",
       "    </tr>\n",
       "    <tr>\n",
       "      <th>2</th>\n",
       "      <td>3308979</td>\n",
       "      <td>https://www.airbnb.com/rooms/3308979</td>\n",
       "      <td>20160104002432</td>\n",
       "      <td>2016-01-04</td>\n",
       "      <td>New Modern House-Amazing water view</td>\n",
       "      <td>New modern house built in 2013.  Spectacular s...</td>\n",
       "      <td>Our house is modern, light and fresh with a wa...</td>\n",
       "      <td>New modern house built in 2013.  Spectacular s...</td>\n",
       "      <td>none</td>\n",
       "      <td>Upper Queen Anne is a charming neighborhood fu...</td>\n",
       "      <td>...</td>\n",
       "      <td>10.0</td>\n",
       "      <td>f</td>\n",
       "      <td>NaN</td>\n",
       "      <td>WASHINGTON</td>\n",
       "      <td>f</td>\n",
       "      <td>strict</td>\n",
       "      <td>f</td>\n",
       "      <td>f</td>\n",
       "      <td>2</td>\n",
       "      <td>1.15</td>\n",
       "    </tr>\n",
       "    <tr>\n",
       "      <th>3</th>\n",
       "      <td>7421966</td>\n",
       "      <td>https://www.airbnb.com/rooms/7421966</td>\n",
       "      <td>20160104002432</td>\n",
       "      <td>2016-01-04</td>\n",
       "      <td>Queen Anne Chateau</td>\n",
       "      <td>A charming apartment that sits atop Queen Anne...</td>\n",
       "      <td>NaN</td>\n",
       "      <td>A charming apartment that sits atop Queen Anne...</td>\n",
       "      <td>none</td>\n",
       "      <td>NaN</td>\n",
       "      <td>...</td>\n",
       "      <td>NaN</td>\n",
       "      <td>f</td>\n",
       "      <td>NaN</td>\n",
       "      <td>WASHINGTON</td>\n",
       "      <td>f</td>\n",
       "      <td>flexible</td>\n",
       "      <td>f</td>\n",
       "      <td>f</td>\n",
       "      <td>1</td>\n",
       "      <td>NaN</td>\n",
       "    </tr>\n",
       "    <tr>\n",
       "      <th>4</th>\n",
       "      <td>278830</td>\n",
       "      <td>https://www.airbnb.com/rooms/278830</td>\n",
       "      <td>20160104002432</td>\n",
       "      <td>2016-01-04</td>\n",
       "      <td>Charming craftsman 3 bdm house</td>\n",
       "      <td>Cozy family craftman house in beautiful neighb...</td>\n",
       "      <td>Cozy family craftman house in beautiful neighb...</td>\n",
       "      <td>Cozy family craftman house in beautiful neighb...</td>\n",
       "      <td>none</td>\n",
       "      <td>We are in the beautiful neighborhood of Queen ...</td>\n",
       "      <td>...</td>\n",
       "      <td>9.0</td>\n",
       "      <td>f</td>\n",
       "      <td>NaN</td>\n",
       "      <td>WASHINGTON</td>\n",
       "      <td>f</td>\n",
       "      <td>strict</td>\n",
       "      <td>f</td>\n",
       "      <td>f</td>\n",
       "      <td>1</td>\n",
       "      <td>0.89</td>\n",
       "    </tr>\n",
       "  </tbody>\n",
       "</table>\n",
       "<p>5 rows × 92 columns</p>\n",
       "</div>"
      ],
      "text/plain": [
       "        id                           listing_url       scrape_id last_scraped  \\\n",
       "0   241032   https://www.airbnb.com/rooms/241032  20160104002432   2016-01-04   \n",
       "1   953595   https://www.airbnb.com/rooms/953595  20160104002432   2016-01-04   \n",
       "2  3308979  https://www.airbnb.com/rooms/3308979  20160104002432   2016-01-04   \n",
       "3  7421966  https://www.airbnb.com/rooms/7421966  20160104002432   2016-01-04   \n",
       "4   278830   https://www.airbnb.com/rooms/278830  20160104002432   2016-01-04   \n",
       "\n",
       "                                  name  \\\n",
       "0         Stylish Queen Anne Apartment   \n",
       "1   Bright & Airy Queen Anne Apartment   \n",
       "2  New Modern House-Amazing water view   \n",
       "3                   Queen Anne Chateau   \n",
       "4       Charming craftsman 3 bdm house   \n",
       "\n",
       "                                             summary  \\\n",
       "0                                                NaN   \n",
       "1  Chemically sensitive? We've removed the irrita...   \n",
       "2  New modern house built in 2013.  Spectacular s...   \n",
       "3  A charming apartment that sits atop Queen Anne...   \n",
       "4  Cozy family craftman house in beautiful neighb...   \n",
       "\n",
       "                                               space  \\\n",
       "0  Make your self at home in this charming one-be...   \n",
       "1  Beautiful, hypoallergenic apartment in an extr...   \n",
       "2  Our house is modern, light and fresh with a wa...   \n",
       "3                                                NaN   \n",
       "4  Cozy family craftman house in beautiful neighb...   \n",
       "\n",
       "                                         description experiences_offered  \\\n",
       "0  Make your self at home in this charming one-be...                none   \n",
       "1  Chemically sensitive? We've removed the irrita...                none   \n",
       "2  New modern house built in 2013.  Spectacular s...                none   \n",
       "3  A charming apartment that sits atop Queen Anne...                none   \n",
       "4  Cozy family craftman house in beautiful neighb...                none   \n",
       "\n",
       "                               neighborhood_overview  ... review_scores_value  \\\n",
       "0                                                NaN  ...                10.0   \n",
       "1  Queen Anne is a wonderful, truly functional vi...  ...                10.0   \n",
       "2  Upper Queen Anne is a charming neighborhood fu...  ...                10.0   \n",
       "3                                                NaN  ...                 NaN   \n",
       "4  We are in the beautiful neighborhood of Queen ...  ...                 9.0   \n",
       "\n",
       "  requires_license license jurisdiction_names instant_bookable  \\\n",
       "0                f     NaN         WASHINGTON                f   \n",
       "1                f     NaN         WASHINGTON                f   \n",
       "2                f     NaN         WASHINGTON                f   \n",
       "3                f     NaN         WASHINGTON                f   \n",
       "4                f     NaN         WASHINGTON                f   \n",
       "\n",
       "  cancellation_policy  require_guest_profile_picture  \\\n",
       "0            moderate                              f   \n",
       "1              strict                              t   \n",
       "2              strict                              f   \n",
       "3            flexible                              f   \n",
       "4              strict                              f   \n",
       "\n",
       "  require_guest_phone_verification calculated_host_listings_count  \\\n",
       "0                                f                              2   \n",
       "1                                t                              6   \n",
       "2                                f                              2   \n",
       "3                                f                              1   \n",
       "4                                f                              1   \n",
       "\n",
       "  reviews_per_month  \n",
       "0              4.07  \n",
       "1              1.48  \n",
       "2              1.15  \n",
       "3               NaN  \n",
       "4              0.89  \n",
       "\n",
       "[5 rows x 92 columns]"
      ]
     },
     "execution_count": 4,
     "metadata": {},
     "output_type": "execute_result"
    }
   ],
   "source": [
    "#First look at the table with all listings available\n",
    "df_list.head()"
   ]
  },
  {
   "cell_type": "code",
   "execution_count": 5,
   "id": "b2f94339",
   "metadata": {},
   "outputs": [
    {
     "name": "stdout",
     "output_type": "stream",
     "text": [
      "   listing_id        date available   price\n",
      "0      241032  2016-01-04         t  $85.00\n",
      "1      241032  2016-01-05         t  $85.00\n",
      "2      241032  2016-01-06         f     NaN\n",
      "3      241032  2016-01-07         f     NaN\n",
      "4      241032  2016-01-08         f     NaN\n",
      "<class 'pandas.core.frame.DataFrame'>\n",
      "RangeIndex: 1393570 entries, 0 to 1393569\n",
      "Data columns (total 4 columns):\n",
      " #   Column      Non-Null Count    Dtype \n",
      "---  ------      --------------    ----- \n",
      " 0   listing_id  1393570 non-null  int64 \n",
      " 1   date        1393570 non-null  object\n",
      " 2   available   1393570 non-null  object\n",
      " 3   price       934542 non-null   object\n",
      "dtypes: int64(1), object(3)\n",
      "memory usage: 42.5+ MB\n",
      "None\n"
     ]
    }
   ],
   "source": [
    "#And this is the table with the calendar for 2016-this shows what dates in the calendar year each listing has been booked for\n",
    "print(df_cal.head())\n",
    "print(df_cal.info())"
   ]
  },
  {
   "cell_type": "code",
   "execution_count": 6,
   "id": "7a830c5c",
   "metadata": {},
   "outputs": [
    {
     "name": "stdout",
     "output_type": "stream",
     "text": [
      "   listing_id        id        date  reviewer_id reviewer_name  \\\n",
      "0     7202016  38917982  2015-07-19     28943674        Bianca   \n",
      "1     7202016  39087409  2015-07-20     32440555         Frank   \n",
      "2     7202016  39820030  2015-07-26     37722850           Ian   \n",
      "3     7202016  40813543  2015-08-02     33671805        George   \n",
      "4     7202016  41986501  2015-08-10     34959538          Ming   \n",
      "\n",
      "                                            comments  \n",
      "0  Cute and cozy place. Perfect location to every...  \n",
      "1  Kelly has a great room in a very central locat...  \n",
      "2  Very spacious apartment, and in a great neighb...  \n",
      "3  Close to Seattle Center and all it has to offe...  \n",
      "4  Kelly was a great host and very accommodating ...  \n",
      "<class 'pandas.core.frame.DataFrame'>\n",
      "RangeIndex: 84849 entries, 0 to 84848\n",
      "Data columns (total 6 columns):\n",
      " #   Column         Non-Null Count  Dtype \n",
      "---  ------         --------------  ----- \n",
      " 0   listing_id     84849 non-null  int64 \n",
      " 1   id             84849 non-null  int64 \n",
      " 2   date           84849 non-null  object\n",
      " 3   reviewer_id    84849 non-null  int64 \n",
      " 4   reviewer_name  84849 non-null  object\n",
      " 5   comments       84831 non-null  object\n",
      "dtypes: int64(3), object(3)\n",
      "memory usage: 3.9+ MB\n",
      "None\n"
     ]
    }
   ],
   "source": [
    "#Finally this is the table with the reviews for each listing for the period 2009-2015\n",
    "print(df_rev.head())\n",
    "print(df_rev.info())"
   ]
  },
  {
   "cell_type": "code",
   "execution_count": 7,
   "id": "5946568a",
   "metadata": {},
   "outputs": [],
   "source": [
    "#Let's start exploring the relationship between month of the year and demand based on number of reviews from 2009 to 2015\n",
    "#First we turn date to month\n",
    "df_rev['month_name']=pd.to_datetime(df_rev['date'],format='%Y-%m-%d').dt.month_name()"
   ]
  },
  {
   "cell_type": "code",
   "execution_count": 8,
   "id": "0e29a9b4",
   "metadata": {},
   "outputs": [],
   "source": [
    "#We also change date to month as a number 1,2,..,12 (will help with sorting)\n",
    "df_rev['month']=pd.to_datetime(df_rev['date'],format='%Y-%m-%d').dt.month"
   ]
  },
  {
   "cell_type": "code",
   "execution_count": 9,
   "id": "a9960a2a",
   "metadata": {},
   "outputs": [
    {
     "data": {
      "text/html": [
       "<div>\n",
       "<style scoped>\n",
       "    .dataframe tbody tr th:only-of-type {\n",
       "        vertical-align: middle;\n",
       "    }\n",
       "\n",
       "    .dataframe tbody tr th {\n",
       "        vertical-align: top;\n",
       "    }\n",
       "\n",
       "    .dataframe thead th {\n",
       "        text-align: right;\n",
       "    }\n",
       "</style>\n",
       "<table border=\"1\" class=\"dataframe\">\n",
       "  <thead>\n",
       "    <tr style=\"text-align: right;\">\n",
       "      <th></th>\n",
       "      <th>listing_id</th>\n",
       "      <th>id</th>\n",
       "      <th>date</th>\n",
       "      <th>reviewer_id</th>\n",
       "      <th>reviewer_name</th>\n",
       "      <th>comments</th>\n",
       "      <th>month_name</th>\n",
       "      <th>month</th>\n",
       "    </tr>\n",
       "  </thead>\n",
       "  <tbody>\n",
       "    <tr>\n",
       "      <th>0</th>\n",
       "      <td>7202016</td>\n",
       "      <td>38917982</td>\n",
       "      <td>2015-07-19</td>\n",
       "      <td>28943674</td>\n",
       "      <td>Bianca</td>\n",
       "      <td>Cute and cozy place. Perfect location to every...</td>\n",
       "      <td>July</td>\n",
       "      <td>7</td>\n",
       "    </tr>\n",
       "    <tr>\n",
       "      <th>1</th>\n",
       "      <td>7202016</td>\n",
       "      <td>39087409</td>\n",
       "      <td>2015-07-20</td>\n",
       "      <td>32440555</td>\n",
       "      <td>Frank</td>\n",
       "      <td>Kelly has a great room in a very central locat...</td>\n",
       "      <td>July</td>\n",
       "      <td>7</td>\n",
       "    </tr>\n",
       "    <tr>\n",
       "      <th>2</th>\n",
       "      <td>7202016</td>\n",
       "      <td>39820030</td>\n",
       "      <td>2015-07-26</td>\n",
       "      <td>37722850</td>\n",
       "      <td>Ian</td>\n",
       "      <td>Very spacious apartment, and in a great neighb...</td>\n",
       "      <td>July</td>\n",
       "      <td>7</td>\n",
       "    </tr>\n",
       "    <tr>\n",
       "      <th>3</th>\n",
       "      <td>7202016</td>\n",
       "      <td>40813543</td>\n",
       "      <td>2015-08-02</td>\n",
       "      <td>33671805</td>\n",
       "      <td>George</td>\n",
       "      <td>Close to Seattle Center and all it has to offe...</td>\n",
       "      <td>August</td>\n",
       "      <td>8</td>\n",
       "    </tr>\n",
       "    <tr>\n",
       "      <th>4</th>\n",
       "      <td>7202016</td>\n",
       "      <td>41986501</td>\n",
       "      <td>2015-08-10</td>\n",
       "      <td>34959538</td>\n",
       "      <td>Ming</td>\n",
       "      <td>Kelly was a great host and very accommodating ...</td>\n",
       "      <td>August</td>\n",
       "      <td>8</td>\n",
       "    </tr>\n",
       "  </tbody>\n",
       "</table>\n",
       "</div>"
      ],
      "text/plain": [
       "   listing_id        id        date  reviewer_id reviewer_name  \\\n",
       "0     7202016  38917982  2015-07-19     28943674        Bianca   \n",
       "1     7202016  39087409  2015-07-20     32440555         Frank   \n",
       "2     7202016  39820030  2015-07-26     37722850           Ian   \n",
       "3     7202016  40813543  2015-08-02     33671805        George   \n",
       "4     7202016  41986501  2015-08-10     34959538          Ming   \n",
       "\n",
       "                                            comments month_name  month  \n",
       "0  Cute and cozy place. Perfect location to every...       July      7  \n",
       "1  Kelly has a great room in a very central locat...       July      7  \n",
       "2  Very spacious apartment, and in a great neighb...       July      7  \n",
       "3  Close to Seattle Center and all it has to offe...     August      8  \n",
       "4  Kelly was a great host and very accommodating ...     August      8  "
      ]
     },
     "execution_count": 9,
     "metadata": {},
     "output_type": "execute_result"
    }
   ],
   "source": [
    "#Columns added at the end\n",
    "df_rev.head()"
   ]
  },
  {
   "cell_type": "code",
   "execution_count": 10,
   "id": "e7f10905",
   "metadata": {},
   "outputs": [],
   "source": [
    "#Number of reviews per month (e.g. how many reviews we had in all Januaries together from 2009 to 2015. Same for other months)\n",
    "df_rev_by_month=df_rev.groupby(['month_name','month']).id.nunique().reset_index().sort_values(['month'])"
   ]
  },
  {
   "cell_type": "code",
   "execution_count": 11,
   "id": "b14e545a",
   "metadata": {},
   "outputs": [
    {
     "data": {
      "text/html": [
       "<div>\n",
       "<style scoped>\n",
       "    .dataframe tbody tr th:only-of-type {\n",
       "        vertical-align: middle;\n",
       "    }\n",
       "\n",
       "    .dataframe tbody tr th {\n",
       "        vertical-align: top;\n",
       "    }\n",
       "\n",
       "    .dataframe thead th {\n",
       "        text-align: right;\n",
       "    }\n",
       "</style>\n",
       "<table border=\"1\" class=\"dataframe\">\n",
       "  <thead>\n",
       "    <tr style=\"text-align: right;\">\n",
       "      <th></th>\n",
       "      <th>month_name</th>\n",
       "      <th>month</th>\n",
       "      <th>id</th>\n",
       "    </tr>\n",
       "  </thead>\n",
       "  <tbody>\n",
       "    <tr>\n",
       "      <th>4</th>\n",
       "      <td>January</td>\n",
       "      <td>1</td>\n",
       "      <td>2867</td>\n",
       "    </tr>\n",
       "    <tr>\n",
       "      <th>3</th>\n",
       "      <td>February</td>\n",
       "      <td>2</td>\n",
       "      <td>2643</td>\n",
       "    </tr>\n",
       "    <tr>\n",
       "      <th>7</th>\n",
       "      <td>March</td>\n",
       "      <td>3</td>\n",
       "      <td>4158</td>\n",
       "    </tr>\n",
       "    <tr>\n",
       "      <th>0</th>\n",
       "      <td>April</td>\n",
       "      <td>4</td>\n",
       "      <td>4233</td>\n",
       "    </tr>\n",
       "    <tr>\n",
       "      <th>8</th>\n",
       "      <td>May</td>\n",
       "      <td>5</td>\n",
       "      <td>5854</td>\n",
       "    </tr>\n",
       "    <tr>\n",
       "      <th>6</th>\n",
       "      <td>June</td>\n",
       "      <td>6</td>\n",
       "      <td>8544</td>\n",
       "    </tr>\n",
       "    <tr>\n",
       "      <th>5</th>\n",
       "      <td>July</td>\n",
       "      <td>7</td>\n",
       "      <td>10503</td>\n",
       "    </tr>\n",
       "    <tr>\n",
       "      <th>1</th>\n",
       "      <td>August</td>\n",
       "      <td>8</td>\n",
       "      <td>13018</td>\n",
       "    </tr>\n",
       "    <tr>\n",
       "      <th>11</th>\n",
       "      <td>September</td>\n",
       "      <td>9</td>\n",
       "      <td>11677</td>\n",
       "    </tr>\n",
       "    <tr>\n",
       "      <th>10</th>\n",
       "      <td>October</td>\n",
       "      <td>10</td>\n",
       "      <td>8955</td>\n",
       "    </tr>\n",
       "    <tr>\n",
       "      <th>9</th>\n",
       "      <td>November</td>\n",
       "      <td>11</td>\n",
       "      <td>6665</td>\n",
       "    </tr>\n",
       "    <tr>\n",
       "      <th>2</th>\n",
       "      <td>December</td>\n",
       "      <td>12</td>\n",
       "      <td>5732</td>\n",
       "    </tr>\n",
       "  </tbody>\n",
       "</table>\n",
       "</div>"
      ],
      "text/plain": [
       "   month_name  month     id\n",
       "4     January      1   2867\n",
       "3    February      2   2643\n",
       "7       March      3   4158\n",
       "0       April      4   4233\n",
       "8         May      5   5854\n",
       "6        June      6   8544\n",
       "5        July      7  10503\n",
       "1      August      8  13018\n",
       "11  September      9  11677\n",
       "10    October     10   8955\n",
       "9    November     11   6665\n",
       "2    December     12   5732"
      ]
     },
     "execution_count": 11,
     "metadata": {},
     "output_type": "execute_result"
    }
   ],
   "source": [
    "#Here it is\n",
    "df_rev_by_month"
   ]
  },
  {
   "cell_type": "code",
   "execution_count": 12,
   "id": "2645e2b0",
   "metadata": {},
   "outputs": [
    {
     "data": {
      "image/png": "[encoded data removed]",
      "text/plain": [
       "<Figure size 432x288 with 1 Axes>"
      ]
     },
     "metadata": {
      "needs_background": "light"
     },
     "output_type": "display_data"
    }
   ],
   "source": [
    "# More than obvious from the table above that Seattle is a summer destination.\n",
    "# However and informative graph is always better than mere numbers. Let's give it a try then\n",
    "plt.bar(df_rev_by_month.month_name,df_rev_by_month.id);\n",
    "plt.title('Bookings by month');\n",
    "plt.xticks(rotation=60);"
   ]
  },
  {
   "cell_type": "code",
   "execution_count": 13,
   "id": "87e8e126",
   "metadata": {},
   "outputs": [],
   "source": [
    "# Look like Normal distribution peaked around August, slightly negatively skewed towards fall rather than winter.\n",
    "# Does this reflect on the prices of the listings at all? The calendar dataset has the prices for 2016 for the dates\n",
    "# in which each listing is available. Let's see what it tells us."
   ]
  },
  {
   "cell_type": "code",
   "execution_count": 14,
   "id": "109b7657",
   "metadata": {},
   "outputs": [],
   "source": [
    "# As mentioned above there is no price available for any dates when the listing is booked (or unavailable by the \n",
    "# owner anyway). Let's drop any missing prices. The rest of the data is more than enough for inferences to be made\n",
    "df_cal_prices=df_cal.dropna(subset='price',axis=0)"
   ]
  },
  {
   "cell_type": "code",
   "execution_count": 15,
   "id": "ba8b03ed",
   "metadata": {},
   "outputs": [
    {
     "name": "stderr",
     "output_type": "stream",
     "text": [
      "C:\\Users\\KokkinopoulosG\\AppData\\Local\\Temp\\ipykernel_12408\\3116217305.py:2: SettingWithCopyWarning: \n",
      "A value is trying to be set on a copy of a slice from a DataFrame.\n",
      "Try using .loc[row_indexer,col_indexer] = value instead\n",
      "\n",
      "See the caveats in the documentation: https://pandas.pydata.org/pandas-docs/stable/user_guide/indexing.html#returning-a-view-versus-a-copy\n",
      "  df_cal_prices['month_name']=pd.to_datetime(df_cal_prices['date'],format='%Y-%m-%d').dt.month_name()\n",
      "C:\\Users\\KokkinopoulosG\\AppData\\Local\\Temp\\ipykernel_12408\\3116217305.py:3: SettingWithCopyWarning: \n",
      "A value is trying to be set on a copy of a slice from a DataFrame.\n",
      "Try using .loc[row_indexer,col_indexer] = value instead\n",
      "\n",
      "See the caveats in the documentation: https://pandas.pydata.org/pandas-docs/stable/user_guide/indexing.html#returning-a-view-versus-a-copy\n",
      "  df_cal_prices['month']=pd.to_datetime(df_cal_prices['date'],format='%Y-%m-%d').dt.month\n"
     ]
    }
   ],
   "source": [
    "# Same as above. Let's create month name and month number 1-12 (will help with sorting)\n",
    "df_cal_prices['month_name']=pd.to_datetime(df_cal_prices['date'],format='%Y-%m-%d').dt.month_name()\n",
    "df_cal_prices['month']=pd.to_datetime(df_cal_prices['date'],format='%Y-%m-%d').dt.month"
   ]
  },
  {
   "cell_type": "code",
   "execution_count": 16,
   "id": "254782db",
   "metadata": {},
   "outputs": [
    {
     "name": "stderr",
     "output_type": "stream",
     "text": [
      "C:\\Users\\KokkinopoulosG\\AppData\\Local\\Temp\\ipykernel_12408\\3365103272.py:3: FutureWarning: The default value of regex will change from True to False in a future version. In addition, single character regular expressions will *not* be treated as literal strings when regex=True.\n",
      "  df_cal_prices['price_num']=df_cal_prices['price'].str.replace('$','').str.replace(',','').astype('float')\n",
      "C:\\Users\\KokkinopoulosG\\AppData\\Local\\Temp\\ipykernel_12408\\3365103272.py:3: SettingWithCopyWarning: \n",
      "A value is trying to be set on a copy of a slice from a DataFrame.\n",
      "Try using .loc[row_indexer,col_indexer] = value instead\n",
      "\n",
      "See the caveats in the documentation: https://pandas.pydata.org/pandas-docs/stable/user_guide/indexing.html#returning-a-view-versus-a-copy\n",
      "  df_cal_prices['price_num']=df_cal_prices['price'].str.replace('$','').str.replace(',','').astype('float')\n"
     ]
    }
   ],
   "source": [
    "# Some more data preparation is also needed as price comes in currency format (string has been used in the dataset)\n",
    "# We need to change it to numeric\n",
    "df_cal_prices['price_num']=df_cal_prices['price'].str.replace('$','').str.replace(',','').astype('float')"
   ]
  },
  {
   "cell_type": "code",
   "execution_count": 17,
   "id": "159475ea",
   "metadata": {},
   "outputs": [],
   "source": [
    "# As earlier let's group price by month (in this case it is for 2016 only). Average price will be calculated\n",
    "df_cal_prices_monthly=df_cal_prices.groupby(['month_name','month']).mean()['price_num'].reset_index().sort_values(['month'])\n"
   ]
  },
  {
   "cell_type": "code",
   "execution_count": 18,
   "id": "f6860762",
   "metadata": {},
   "outputs": [
    {
     "data": {
      "text/html": [
       "<div>\n",
       "<style scoped>\n",
       "    .dataframe tbody tr th:only-of-type {\n",
       "        vertical-align: middle;\n",
       "    }\n",
       "\n",
       "    .dataframe tbody tr th {\n",
       "        vertical-align: top;\n",
       "    }\n",
       "\n",
       "    .dataframe thead th {\n",
       "        text-align: right;\n",
       "    }\n",
       "</style>\n",
       "<table border=\"1\" class=\"dataframe\">\n",
       "  <thead>\n",
       "    <tr style=\"text-align: right;\">\n",
       "      <th></th>\n",
       "      <th>month_name</th>\n",
       "      <th>month</th>\n",
       "      <th>price_num</th>\n",
       "    </tr>\n",
       "  </thead>\n",
       "  <tbody>\n",
       "    <tr>\n",
       "      <th>4</th>\n",
       "      <td>January</td>\n",
       "      <td>1</td>\n",
       "      <td>122.912176</td>\n",
       "    </tr>\n",
       "    <tr>\n",
       "      <th>3</th>\n",
       "      <td>February</td>\n",
       "      <td>2</td>\n",
       "      <td>124.293927</td>\n",
       "    </tr>\n",
       "    <tr>\n",
       "      <th>7</th>\n",
       "      <td>March</td>\n",
       "      <td>3</td>\n",
       "      <td>128.644488</td>\n",
       "    </tr>\n",
       "    <tr>\n",
       "      <th>0</th>\n",
       "      <td>April</td>\n",
       "      <td>4</td>\n",
       "      <td>135.097005</td>\n",
       "    </tr>\n",
       "    <tr>\n",
       "      <th>8</th>\n",
       "      <td>May</td>\n",
       "      <td>5</td>\n",
       "      <td>139.538183</td>\n",
       "    </tr>\n",
       "    <tr>\n",
       "      <th>6</th>\n",
       "      <td>June</td>\n",
       "      <td>6</td>\n",
       "      <td>147.473137</td>\n",
       "    </tr>\n",
       "    <tr>\n",
       "      <th>5</th>\n",
       "      <td>July</td>\n",
       "      <td>7</td>\n",
       "      <td>152.094150</td>\n",
       "    </tr>\n",
       "    <tr>\n",
       "      <th>1</th>\n",
       "      <td>August</td>\n",
       "      <td>8</td>\n",
       "      <td>150.656594</td>\n",
       "    </tr>\n",
       "    <tr>\n",
       "      <th>11</th>\n",
       "      <td>September</td>\n",
       "      <td>9</td>\n",
       "      <td>143.255949</td>\n",
       "    </tr>\n",
       "    <tr>\n",
       "      <th>10</th>\n",
       "      <td>October</td>\n",
       "      <td>10</td>\n",
       "      <td>137.031939</td>\n",
       "    </tr>\n",
       "    <tr>\n",
       "      <th>9</th>\n",
       "      <td>November</td>\n",
       "      <td>11</td>\n",
       "      <td>135.688738</td>\n",
       "    </tr>\n",
       "    <tr>\n",
       "      <th>2</th>\n",
       "      <td>December</td>\n",
       "      <td>12</td>\n",
       "      <td>137.251835</td>\n",
       "    </tr>\n",
       "  </tbody>\n",
       "</table>\n",
       "</div>"
      ],
      "text/plain": [
       "   month_name  month   price_num\n",
       "4     January      1  122.912176\n",
       "3    February      2  124.293927\n",
       "7       March      3  128.644488\n",
       "0       April      4  135.097005\n",
       "8         May      5  139.538183\n",
       "6        June      6  147.473137\n",
       "5        July      7  152.094150\n",
       "1      August      8  150.656594\n",
       "11  September      9  143.255949\n",
       "10    October     10  137.031939\n",
       "9    November     11  135.688738\n",
       "2    December     12  137.251835"
      ]
     },
     "execution_count": 18,
     "metadata": {},
     "output_type": "execute_result"
    }
   ],
   "source": [
    "# Any findings then?\n",
    "df_cal_prices_monthly"
   ]
  },
  {
   "cell_type": "code",
   "execution_count": 19,
   "id": "834512cc",
   "metadata": {},
   "outputs": [],
   "source": [
    "# Similar inference with previous table - summer being a bit more pricey. \n"
   ]
  },
  {
   "cell_type": "code",
   "execution_count": 20,
   "id": "319a2348",
   "metadata": {},
   "outputs": [
    {
     "data": {
      "image/png": "[encoded data removed]",
      "text/plain": [
       "<Figure size 432x288 with 1 Axes>"
      ]
     },
     "metadata": {
      "needs_background": "light"
     },
     "output_type": "display_data"
    }
   ],
   "source": [
    "# But the graph tells more of the truth not caught by eye in the table\n",
    "plt.bar(df_cal_prices_monthly.month_name,df_cal_prices_monthly.price_num);\n",
    "plt.title('Average price by month');\n",
    "plt.xticks(rotation=60);"
   ]
  },
  {
   "cell_type": "code",
   "execution_count": 21,
   "id": "253f452e",
   "metadata": {},
   "outputs": [],
   "source": [
    "# Yet another slightly negatively (towards fall) skewed Normal distribution.\n",
    "# So prices tend to follow demand. But does it happen quite proportionately? See calculation below:"
   ]
  },
  {
   "cell_type": "code",
   "execution_count": 22,
   "id": "7d6a5d4b",
   "metadata": {},
   "outputs": [
    {
     "name": "stdout",
     "output_type": "stream",
     "text": [
      "Total bookings in August of previous years:  13018\n",
      "Total bookings in January of previous years:  2867\n",
      "That's an increase of  354.1 %\n"
     ]
    }
   ],
   "source": [
    "print('Total bookings in August of previous years: ',list(df_rev_by_month[df_rev_by_month.month_name=='August']['id'])[0]),\n",
    "print('Total bookings in January of previous years: ',list(df_rev_by_month[df_rev_by_month.month_name=='January']['id'])[0])\n",
    "print(\"That's an increase of \",round((list(df_rev_by_month[df_rev_by_month.month_name=='August']['id'])[0]/\n",
    "list(df_rev_by_month[df_rev_by_month.month_name=='January']['id'])[0]-1)*100,1),'%')\n"
   ]
  },
  {
   "cell_type": "code",
   "execution_count": 23,
   "id": "72d2252b",
   "metadata": {},
   "outputs": [
    {
     "name": "stdout",
     "output_type": "stream",
     "text": [
      "Average price in August for current year: $ 150.66\n",
      "Average price in January for current year: $ 122.91\n",
      "That's an increase of  22.6 %\n"
     ]
    }
   ],
   "source": [
    "print('Average price in August for current year: $',round(list(df_cal_prices_monthly[df_cal_prices_monthly.month_name=='August']['price_num'])[0],2)),\n",
    "print('Average price in January for current year: $',round(list(df_cal_prices_monthly[df_cal_prices_monthly.month_name=='January']['price_num'])[0],2)),\n",
    "print(\"That's an increase of \",round((list(df_cal_prices_monthly[df_cal_prices_monthly.month_name=='August']['price_num'])[0]/\n",
    "list(df_cal_prices_monthly[df_cal_prices_monthly.month_name=='January']['price_num'])[0]-1)*100,1),'%')\n"
   ]
  },
  {
   "cell_type": "code",
   "execution_count": 24,
   "id": "9ef0aec1",
   "metadata": {},
   "outputs": [],
   "source": [
    "## It seems not all owners price their properties in the summer as high as they could"
   ]
  },
  {
   "cell_type": "code",
   "execution_count": 25,
   "id": "10a65909",
   "metadata": {},
   "outputs": [],
   "source": [
    "## Let's now examine if new listings avalable each year lead to higher demand (or it could possibly be vice versa)"
   ]
  },
  {
   "cell_type": "code",
   "execution_count": 26,
   "id": "08ee1bb7",
   "metadata": {},
   "outputs": [],
   "source": [
    "## We are going to need year instead of month for this query\n",
    "## Calendar dataset (aw well as listings one) only has the listings available for 2016 so not very helpful\n",
    "## for chronological data. Reviews dataset will lead us again\n",
    "df_rev['year']=pd.to_datetime(df_rev['date'],format='%Y-%m-%d').dt.year\n"
   ]
  },
  {
   "cell_type": "code",
   "execution_count": 27,
   "id": "b86ca0bb",
   "metadata": {},
   "outputs": [
    {
     "data": {
      "text/plain": [
       "year\n",
       "2009       4\n",
       "2010      35\n",
       "2011      96\n",
       "2012     232\n",
       "2013     508\n",
       "2014    1203\n",
       "2015    3091\n",
       "Name: listing_id, dtype: int64"
      ]
     },
     "execution_count": 27,
     "metadata": {},
     "output_type": "execute_result"
    }
   ],
   "source": [
    "# Excluding these first 3 days of the year and any reviews been made so far, let's calculate number of listings\n",
    "# been reviewed over the years\n",
    "df_rev[df_rev.year!=2016].groupby(['year']).listing_id.nunique()"
   ]
  },
  {
   "cell_type": "code",
   "execution_count": 28,
   "id": "b4171806",
   "metadata": {},
   "outputs": [
    {
     "name": "stderr",
     "output_type": "stream",
     "text": [
      "C:\\Users\\KokkinopoulosG\\AppData\\Local\\Temp\\ipykernel_12408\\11588390.py:2: FutureWarning: Indexing with multiple keys (implicitly converted to a tuple of keys) will be deprecated, use a list instead.\n",
      "  df_rev_summary_year=df_rev[df_rev.year!=2016].groupby(['year'])['listing_id','id','reviewer_id'].nunique().reset_index()\n"
     ]
    }
   ],
   "source": [
    "# So what about number of reviews (id) and number of unique reviewers (reviewer_id)\n",
    "df_rev_summary_year=df_rev[df_rev.year!=2016].groupby(['year'])['listing_id','id','reviewer_id'].nunique().reset_index()"
   ]
  },
  {
   "cell_type": "code",
   "execution_count": 29,
   "id": "d73891cd",
   "metadata": {},
   "outputs": [
    {
     "data": {
      "text/html": [
       "<div>\n",
       "<style scoped>\n",
       "    .dataframe tbody tr th:only-of-type {\n",
       "        vertical-align: middle;\n",
       "    }\n",
       "\n",
       "    .dataframe tbody tr th {\n",
       "        vertical-align: top;\n",
       "    }\n",
       "\n",
       "    .dataframe thead th {\n",
       "        text-align: right;\n",
       "    }\n",
       "</style>\n",
       "<table border=\"1\" class=\"dataframe\">\n",
       "  <thead>\n",
       "    <tr style=\"text-align: right;\">\n",
       "      <th></th>\n",
       "      <th>year</th>\n",
       "      <th>listing_id</th>\n",
       "      <th>id</th>\n",
       "      <th>reviewer_id</th>\n",
       "    </tr>\n",
       "  </thead>\n",
       "  <tbody>\n",
       "    <tr>\n",
       "      <th>0</th>\n",
       "      <td>2009</td>\n",
       "      <td>4</td>\n",
       "      <td>17</td>\n",
       "      <td>16</td>\n",
       "    </tr>\n",
       "    <tr>\n",
       "      <th>1</th>\n",
       "      <td>2010</td>\n",
       "      <td>35</td>\n",
       "      <td>254</td>\n",
       "      <td>238</td>\n",
       "    </tr>\n",
       "    <tr>\n",
       "      <th>2</th>\n",
       "      <td>2011</td>\n",
       "      <td>96</td>\n",
       "      <td>1169</td>\n",
       "      <td>1107</td>\n",
       "    </tr>\n",
       "    <tr>\n",
       "      <th>3</th>\n",
       "      <td>2012</td>\n",
       "      <td>232</td>\n",
       "      <td>3251</td>\n",
       "      <td>3051</td>\n",
       "    </tr>\n",
       "    <tr>\n",
       "      <th>4</th>\n",
       "      <td>2013</td>\n",
       "      <td>508</td>\n",
       "      <td>7077</td>\n",
       "      <td>6644</td>\n",
       "    </tr>\n",
       "    <tr>\n",
       "      <th>5</th>\n",
       "      <td>2014</td>\n",
       "      <td>1203</td>\n",
       "      <td>20365</td>\n",
       "      <td>18928</td>\n",
       "    </tr>\n",
       "    <tr>\n",
       "      <th>6</th>\n",
       "      <td>2015</td>\n",
       "      <td>3091</td>\n",
       "      <td>52493</td>\n",
       "      <td>48089</td>\n",
       "    </tr>\n",
       "  </tbody>\n",
       "</table>\n",
       "</div>"
      ],
      "text/plain": [
       "   year  listing_id     id  reviewer_id\n",
       "0  2009           4     17           16\n",
       "1  2010          35    254          238\n",
       "2  2011          96   1169         1107\n",
       "3  2012         232   3251         3051\n",
       "4  2013         508   7077         6644\n",
       "5  2014        1203  20365        18928\n",
       "6  2015        3091  52493        48089"
      ]
     },
     "execution_count": 29,
     "metadata": {},
     "output_type": "execute_result"
    }
   ],
   "source": [
    "df_rev_summary_year"
   ]
  },
  {
   "cell_type": "code",
   "execution_count": 30,
   "id": "da25de28",
   "metadata": {},
   "outputs": [],
   "source": [
    "#As expected an upward trend in all 3 metrics but the variation in the numbers make it hard for inference.\n",
    "# Let's put another bar chart then (grouped this time)\n",
    "sns.set(style=\"white\")\n",
    "sns.set(style=\"whitegrid\", color_codes=True)"
   ]
  },
  {
   "cell_type": "code",
   "execution_count": 31,
   "id": "0f33d1df",
   "metadata": {},
   "outputs": [],
   "source": [
    "years = np.arange(len(df_rev_summary_year['year']))\n",
    "listings=df_rev_summary_year['listing_id']\n",
    "reviews=df_rev_summary_year['id']\n",
    "reviewers=df_rev_summary_year['reviewer_id']\n",
    "width=0.2"
   ]
  },
  {
   "cell_type": "code",
   "execution_count": 32,
   "id": "f2f46b2f",
   "metadata": {},
   "outputs": [
    {
     "data": {
      "image/png": "[encoded data removed]",
      "text/plain": [
       "<Figure size 432x288 with 1 Axes>"
      ]
     },
     "metadata": {},
     "output_type": "display_data"
    }
   ],
   "source": [
    "plt.bar(years-width, listings, width, color='green')\n",
    "plt.bar(years, reviewers, width, color='blue')\n",
    "plt.bar(years+width, reviews, width, color='red')\n",
    "\n",
    "plt.xticks(years, list(df_rev_summary_year['year']))\n",
    "plt.xlabel(\"Years\")\n",
    "plt.ylabel(\"Totals\")\n",
    "plt.legend([\"Listings\",\"Reviewers\", \"Reviews\" ])\n",
    "\n",
    "plt.show()"
   ]
  },
  {
   "cell_type": "code",
   "execution_count": 33,
   "id": "b2845488",
   "metadata": {},
   "outputs": [],
   "source": [
    "#First 3-4 years really tiny compared to subsequent ones. Absolute numbers don't tell much of the truth here...\n",
    "# Shall we look into percentage increase instead?"
   ]
  },
  {
   "cell_type": "code",
   "execution_count": 34,
   "id": "c8fa4973",
   "metadata": {},
   "outputs": [],
   "source": [
    "df_rev_pct_change_temp=df_rev_summary_year.set_index('year').pct_change()*100"
   ]
  },
  {
   "cell_type": "code",
   "execution_count": 35,
   "id": "9e222e87",
   "metadata": {},
   "outputs": [],
   "source": [
    "df_rev_pct_change_temp_rounded=round(df_rev_pct_change_temp,0)"
   ]
  },
  {
   "cell_type": "code",
   "execution_count": 36,
   "id": "f3211449",
   "metadata": {},
   "outputs": [
    {
     "data": {
      "text/html": [
       "<div>\n",
       "<style scoped>\n",
       "    .dataframe tbody tr th:only-of-type {\n",
       "        vertical-align: middle;\n",
       "    }\n",
       "\n",
       "    .dataframe tbody tr th {\n",
       "        vertical-align: top;\n",
       "    }\n",
       "\n",
       "    .dataframe thead th {\n",
       "        text-align: right;\n",
       "    }\n",
       "</style>\n",
       "<table border=\"1\" class=\"dataframe\">\n",
       "  <thead>\n",
       "    <tr style=\"text-align: right;\">\n",
       "      <th></th>\n",
       "      <th>listing_id</th>\n",
       "      <th>id</th>\n",
       "      <th>reviewer_id</th>\n",
       "    </tr>\n",
       "    <tr>\n",
       "      <th>year</th>\n",
       "      <th></th>\n",
       "      <th></th>\n",
       "      <th></th>\n",
       "    </tr>\n",
       "  </thead>\n",
       "  <tbody>\n",
       "    <tr>\n",
       "      <th>2009</th>\n",
       "      <td>NaN</td>\n",
       "      <td>NaN</td>\n",
       "      <td>NaN</td>\n",
       "    </tr>\n",
       "    <tr>\n",
       "      <th>2010</th>\n",
       "      <td>775.0</td>\n",
       "      <td>1394.0</td>\n",
       "      <td>1388.0</td>\n",
       "    </tr>\n",
       "    <tr>\n",
       "      <th>2011</th>\n",
       "      <td>174.0</td>\n",
       "      <td>360.0</td>\n",
       "      <td>365.0</td>\n",
       "    </tr>\n",
       "    <tr>\n",
       "      <th>2012</th>\n",
       "      <td>142.0</td>\n",
       "      <td>178.0</td>\n",
       "      <td>176.0</td>\n",
       "    </tr>\n",
       "    <tr>\n",
       "      <th>2013</th>\n",
       "      <td>119.0</td>\n",
       "      <td>118.0</td>\n",
       "      <td>118.0</td>\n",
       "    </tr>\n",
       "    <tr>\n",
       "      <th>2014</th>\n",
       "      <td>137.0</td>\n",
       "      <td>188.0</td>\n",
       "      <td>185.0</td>\n",
       "    </tr>\n",
       "    <tr>\n",
       "      <th>2015</th>\n",
       "      <td>157.0</td>\n",
       "      <td>158.0</td>\n",
       "      <td>154.0</td>\n",
       "    </tr>\n",
       "  </tbody>\n",
       "</table>\n",
       "</div>"
      ],
      "text/plain": [
       "      listing_id      id  reviewer_id\n",
       "year                                 \n",
       "2009         NaN     NaN          NaN\n",
       "2010       775.0  1394.0       1388.0\n",
       "2011       174.0   360.0        365.0\n",
       "2012       142.0   178.0        176.0\n",
       "2013       119.0   118.0        118.0\n",
       "2014       137.0   188.0        185.0\n",
       "2015       157.0   158.0        154.0"
      ]
     },
     "execution_count": 36,
     "metadata": {},
     "output_type": "execute_result"
    }
   ],
   "source": [
    "df_rev_pct_change_temp_rounded"
   ]
  },
  {
   "cell_type": "code",
   "execution_count": 37,
   "id": "2aad066a",
   "metadata": {},
   "outputs": [],
   "source": [
    "# First year obviously needs to be discardes\n",
    "df_rev_pct_change=df_rev_pct_change_temp_rounded.reset_index()[1:]"
   ]
  },
  {
   "cell_type": "code",
   "execution_count": 38,
   "id": "065ef510",
   "metadata": {},
   "outputs": [
    {
     "data": {
      "text/html": [
       "<div>\n",
       "<style scoped>\n",
       "    .dataframe tbody tr th:only-of-type {\n",
       "        vertical-align: middle;\n",
       "    }\n",
       "\n",
       "    .dataframe tbody tr th {\n",
       "        vertical-align: top;\n",
       "    }\n",
       "\n",
       "    .dataframe thead th {\n",
       "        text-align: right;\n",
       "    }\n",
       "</style>\n",
       "<table border=\"1\" class=\"dataframe\">\n",
       "  <thead>\n",
       "    <tr style=\"text-align: right;\">\n",
       "      <th></th>\n",
       "      <th>year</th>\n",
       "      <th>listing_id</th>\n",
       "      <th>id</th>\n",
       "      <th>reviewer_id</th>\n",
       "    </tr>\n",
       "  </thead>\n",
       "  <tbody>\n",
       "    <tr>\n",
       "      <th>1</th>\n",
       "      <td>2010</td>\n",
       "      <td>775.0</td>\n",
       "      <td>1394.0</td>\n",
       "      <td>1388.0</td>\n",
       "    </tr>\n",
       "    <tr>\n",
       "      <th>2</th>\n",
       "      <td>2011</td>\n",
       "      <td>174.0</td>\n",
       "      <td>360.0</td>\n",
       "      <td>365.0</td>\n",
       "    </tr>\n",
       "    <tr>\n",
       "      <th>3</th>\n",
       "      <td>2012</td>\n",
       "      <td>142.0</td>\n",
       "      <td>178.0</td>\n",
       "      <td>176.0</td>\n",
       "    </tr>\n",
       "    <tr>\n",
       "      <th>4</th>\n",
       "      <td>2013</td>\n",
       "      <td>119.0</td>\n",
       "      <td>118.0</td>\n",
       "      <td>118.0</td>\n",
       "    </tr>\n",
       "    <tr>\n",
       "      <th>5</th>\n",
       "      <td>2014</td>\n",
       "      <td>137.0</td>\n",
       "      <td>188.0</td>\n",
       "      <td>185.0</td>\n",
       "    </tr>\n",
       "    <tr>\n",
       "      <th>6</th>\n",
       "      <td>2015</td>\n",
       "      <td>157.0</td>\n",
       "      <td>158.0</td>\n",
       "      <td>154.0</td>\n",
       "    </tr>\n",
       "  </tbody>\n",
       "</table>\n",
       "</div>"
      ],
      "text/plain": [
       "   year  listing_id      id  reviewer_id\n",
       "1  2010       775.0  1394.0       1388.0\n",
       "2  2011       174.0   360.0        365.0\n",
       "3  2012       142.0   178.0        176.0\n",
       "4  2013       119.0   118.0        118.0\n",
       "5  2014       137.0   188.0        185.0\n",
       "6  2015       157.0   158.0        154.0"
      ]
     },
     "execution_count": 38,
     "metadata": {},
     "output_type": "execute_result"
    }
   ],
   "source": [
    "df_rev_pct_change"
   ]
  },
  {
   "cell_type": "code",
   "execution_count": 39,
   "id": "44d35621",
   "metadata": {},
   "outputs": [],
   "source": [
    "# And then seek for more help from another graph"
   ]
  },
  {
   "cell_type": "code",
   "execution_count": 40,
   "id": "228040de",
   "metadata": {},
   "outputs": [],
   "source": [
    "years_2 = np.arange(len(df_rev_pct_change['year']))\n",
    "listings_2=df_rev_pct_change['listing_id']\n",
    "reviews_2=df_rev_pct_change['id']\n",
    "reviewers_2=df_rev_pct_change['reviewer_id']\n",
    "width=0.2"
   ]
  },
  {
   "cell_type": "code",
   "execution_count": 41,
   "id": "4999935c",
   "metadata": {},
   "outputs": [
    {
     "data": {
      "image/png": "[encoded data removed]",
      "text/plain": [
       "<Figure size 432x288 with 1 Axes>"
      ]
     },
     "metadata": {},
     "output_type": "display_data"
    }
   ],
   "source": [
    "plt.bar(years_2-width, listings_2, width, color='green')\n",
    "plt.bar(years_2, reviewers_2, width, color='blue')\n",
    "plt.bar(years_2+width, reviews_2, width, color='red')\n",
    "\n",
    "plt.xticks(years_2, list(df_rev_pct_change['year']))\n",
    "plt.xlabel(\"Years\")\n",
    "plt.ylabel(\"% change vs last year\")\n",
    "plt.legend([\"Listings\",\"Reviewers\", \"Reviews\" ])\n",
    "\n",
    "plt.show()"
   ]
  },
  {
   "cell_type": "code",
   "execution_count": 42,
   "id": "b53f2601",
   "metadata": {},
   "outputs": [],
   "source": [
    "# We can see that from 2012 onwards the percentage increase in listings and bookings (as shown by reviews)\n",
    "# follow each other. \n",
    "# That wasn't particularly the case in the first two years though as the demand there was more rapidly increased than\n",
    "# the supply, possibly due to the increasing popularity of Airbnb as a platform"
   ]
  },
  {
   "cell_type": "code",
   "execution_count": 43,
   "id": "3a6436ac",
   "metadata": {},
   "outputs": [],
   "source": [
    "# Finally, let's explore what affects the prices of the listings by using data from the listings table"
   ]
  },
  {
   "cell_type": "code",
   "execution_count": 44,
   "id": "31a3cc45",
   "metadata": {},
   "outputs": [],
   "source": [
    "# Create a copy where the price format will change to number (as in the calendar dataset above)\n",
    "df_list_prices=df_list"
   ]
  },
  {
   "cell_type": "code",
   "execution_count": 45,
   "id": "8fdef89b",
   "metadata": {},
   "outputs": [
    {
     "name": "stderr",
     "output_type": "stream",
     "text": [
      "C:\\Users\\KokkinopoulosG\\AppData\\Local\\Temp\\ipykernel_12408\\1193763243.py:1: FutureWarning: The default value of regex will change from True to False in a future version. In addition, single character regular expressions will *not* be treated as literal strings when regex=True.\n",
      "  df_list_prices['price_num']=df_list_prices['price'].str.replace('$','').str.replace(',','').astype('float')\n"
     ]
    }
   ],
   "source": [
    "df_list_prices['price_num']=df_list_prices['price'].str.replace('$','').str.replace(',','').astype('float')"
   ]
  },
  {
   "cell_type": "code",
   "execution_count": 46,
   "id": "963874c3",
   "metadata": {},
   "outputs": [],
   "source": [
    "# Let's pick some of the variables which seem to be of particular effect on the price\n",
    "# You might have noticed that price is the first of these variable. Obviously this is NOT and independent variable\n",
    "# as the name of the list below states - it's the response one. I have just put it here so that I can calculate\n",
    "# its correlation with the really independent ones (all others then)\n",
    "\n",
    "independent_variables=['price_num','host_response_rate','host_acceptance_rate','host_is_superhost','neighbourhood_group_cleansed','property_type',\n",
    "                       'room_type','accommodates','bathrooms','bedrooms','beds','bed_type','security_deposit',\n",
    "                       'cleaning_fee','guests_included','extra_people','minimum_nights','maximum_nights','availability_30',\n",
    "                       'availability_60','availability_90','availability_365','number_of_reviews',\n",
    "                       'review_scores_rating','review_scores_accuracy','review_scores_cleanliness','review_scores_checkin',\n",
    "                       'review_scores_communication','review_scores_location','review_scores_value','instant_bookable',\n",
    "                       'cancellation_policy','require_guest_profile_picture','require_guest_phone_verification','reviews_per_month',\n",
    "                       'is_location_exact'\n",
    "                      ]"
   ]
  },
  {
   "cell_type": "code",
   "execution_count": 47,
   "id": "09a9e2bd",
   "metadata": {},
   "outputs": [],
   "source": [
    "# Let's narrow down to the necessary variables (that's the main reason for using this copy table)\n",
    "df_list_prices=df_list_prices[independent_variables]"
   ]
  },
  {
   "cell_type": "code",
   "execution_count": 48,
   "id": "3fb28c2c",
   "metadata": {},
   "outputs": [
    {
     "data": {
      "text/plain": [
       "(3815, 36)"
      ]
     },
     "execution_count": 48,
     "metadata": {},
     "output_type": "execute_result"
    }
   ],
   "source": [
    "# What if I try to drop missing data in the categorical variables \n",
    "\n",
    "df_list_prices.dropna(subset=['is_location_exact','neighbourhood_group_cleansed','property_type','room_type','bed_type',\n",
    "                              'host_is_superhost','instant_bookable','cancellation_policy','require_guest_profile_picture',\n",
    "                              'require_guest_phone_verification']\n",
    "                      ,axis=0).shape\n",
    "               "
   ]
  },
  {
   "cell_type": "code",
   "execution_count": 49,
   "id": "0d191505",
   "metadata": {},
   "outputs": [],
   "source": [
    "# 3815 of the initial 3818 values remain - not a big loss so let's give it a go."
   ]
  },
  {
   "cell_type": "code",
   "execution_count": 50,
   "id": "f46adb69",
   "metadata": {},
   "outputs": [],
   "source": [
    "df_list_prices=df_list_prices.dropna(subset=['is_location_exact','neighbourhood_group_cleansed','property_type','room_type','bed_type',\n",
    "                              'host_is_superhost','instant_bookable','cancellation_policy','require_guest_profile_picture',\n",
    "                              'require_guest_phone_verification']\n",
    "                      ,axis=0)\n",
    "               "
   ]
  },
  {
   "cell_type": "code",
   "execution_count": 51,
   "id": "a4c82021",
   "metadata": {},
   "outputs": [
    {
     "data": {
      "text/plain": [
       "(1233, 36)"
      ]
     },
     "execution_count": 51,
     "metadata": {},
     "output_type": "execute_result"
    }
   ],
   "source": [
    "# Are thing equally good if I drop missing data in the numeric ones?\n",
    "df_list_prices.dropna(subset=['host_acceptance_rate','bathrooms','bedrooms','beds','availability_30','availability_60','availability_90',\n",
    "                              'availability_365','number_of_reviews','review_scores_rating','review_scores_accuracy','review_scores_cleanliness',\n",
    "                              'review_scores_checkin','review_scores_communication','review_scores_location','review_scores_value',\n",
    "                              'reviews_per_month','host_response_rate','accommodates','security_deposit','cleaning_fee','guests_included',\n",
    "                              'extra_people','minimum_nights','maximum_nights'],axis=0).shape"
   ]
  },
  {
   "cell_type": "code",
   "execution_count": 52,
   "id": "a098525a",
   "metadata": {},
   "outputs": [],
   "source": [
    "# Not as good news here. Only 1233 rows (around 30%) remain here.\n",
    "# Dropping is not recommended then.\n",
    "# Even imputting (by using mean perhaps) is risky, so let's see the big picture: \n",
    "# Are all these variables considerably correlated with price? Let's see below:"
   ]
  },
  {
   "cell_type": "code",
   "execution_count": 53,
   "id": "8fd38611",
   "metadata": {},
   "outputs": [],
   "source": [
    "# Let's put all numeric explanatory (as well as the response) variables together\n",
    "num_vars=['price_num','host_acceptance_rate','bathrooms','bedrooms','beds','availability_30','availability_60','availability_90',\n",
    "                              'availability_365','number_of_reviews','review_scores_rating','review_scores_accuracy','review_scores_cleanliness',\n",
    "                              'review_scores_checkin','review_scores_communication','review_scores_location','review_scores_value',\n",
    "                              'reviews_per_month','host_response_rate','accommodates','security_deposit','cleaning_fee','guests_included',\n",
    "                              'extra_people','minimum_nights','maximum_nights']"
   ]
  },
  {
   "cell_type": "code",
   "execution_count": 54,
   "id": "01ccb22c",
   "metadata": {},
   "outputs": [],
   "source": [
    "# I am going to need to see all correlations available so let's change the settings\n",
    "pd.set_option('display.max_rows', None)\n",
    "pd.set_option('display.max_columns', None)\n"
   ]
  },
  {
   "cell_type": "code",
   "execution_count": 55,
   "id": "b242e849",
   "metadata": {},
   "outputs": [
    {
     "data": {
      "text/plain": [
       "price_num                      1.000000\n",
       "bathrooms                      0.516703\n",
       "bedrooms                       0.628138\n",
       "beds                           0.589924\n",
       "availability_30               -0.037223\n",
       "availability_60               -0.048817\n",
       "availability_90               -0.058222\n",
       "availability_365              -0.014980\n",
       "number_of_reviews             -0.124598\n",
       "review_scores_rating           0.055551\n",
       "review_scores_accuracy         0.019026\n",
       "review_scores_cleanliness      0.054357\n",
       "review_scores_checkin          0.007877\n",
       "review_scores_communication    0.012990\n",
       "review_scores_location         0.075069\n",
       "review_scores_value           -0.041776\n",
       "reviews_per_month             -0.218588\n",
       "accommodates                   0.652665\n",
       "guests_included                0.393150\n",
       "minimum_nights                 0.017329\n",
       "maximum_nights                -0.003448\n",
       "Name: price_num, dtype: float64"
      ]
     },
     "execution_count": 55,
     "metadata": {},
     "output_type": "execute_result"
    }
   ],
   "source": [
    "# This is the correlations table... or, to be honest, a subset of that looking at price's column only\n",
    "df_list_prices[num_vars].corr()['price_num']"
   ]
  },
  {
   "cell_type": "code",
   "execution_count": 56,
   "id": "6742a7aa",
   "metadata": {},
   "outputs": [],
   "source": [
    "# Bathrooms, bedrooms and beds are quite strongly correlated to price (as expected) as well as accomodates (number of people)\n",
    "# and guests included.  Number of reviews seem to be important too (though negatively) as well as monthly reviews.\n",
    "# But these two sets of variables seem to be correlated to each other as they describe similar or related things.\n",
    "# So let's look closer at the correlation of these variables only to each other\n",
    "\n",
    "num_vars_new=['price_num','bedrooms','bathrooms','beds','reviews_per_month','number_of_reviews',\n",
    "              'accommodates','guests_included']\n"
   ]
  },
  {
   "cell_type": "code",
   "execution_count": 57,
   "id": "e9ff12c7",
   "metadata": {},
   "outputs": [
    {
     "data": {
      "image/png": "[encoded data removed]",
      "text/plain": [
       "<Figure size 432x288 with 2 Axes>"
      ]
     },
     "metadata": {},
     "output_type": "display_data"
    }
   ],
   "source": [
    "# A heatmap will make the difference here\n",
    "sns.heatmap(df_list_prices[num_vars_new].corr(), annot=True, fmt=\".2f\");"
   ]
  },
  {
   "cell_type": "code",
   "execution_count": 58,
   "id": "5c9cd823",
   "metadata": {},
   "outputs": [],
   "source": [
    "# As expected bathrooms, bedrooms,beds, accomodates and guests included are quite strongly correlated \n",
    "# to each other\n",
    "# Same with number of review and reviews per month\n",
    "# Let's see missing values"
   ]
  },
  {
   "cell_type": "code",
   "execution_count": 59,
   "id": "3017637b",
   "metadata": {},
   "outputs": [
    {
     "data": {
      "text/plain": [
       "price_num              0\n",
       "bedrooms               6\n",
       "bathrooms             16\n",
       "beds                   1\n",
       "reviews_per_month    624\n",
       "number_of_reviews      0\n",
       "accommodates           0\n",
       "guests_included        0\n",
       "dtype: int64"
      ]
     },
     "execution_count": 59,
     "metadata": {},
     "output_type": "execute_result"
    }
   ],
   "source": [
    "df_list_prices[num_vars_new].isnull().sum()"
   ]
  },
  {
   "cell_type": "code",
   "execution_count": null,
   "id": "cba2366f",
   "metadata": {},
   "outputs": [],
   "source": [
    "# It seems that bedrooms is a good option (only 6 missing values and very high correlation)\n",
    "# On the other hand reviews per month has bigger correlation with price (0.22 to 0.12) than number of reviews\n",
    "# but it drops 624 rows (around 16%) so the latter will be selected\n"
   ]
  },
  {
   "cell_type": "code",
   "execution_count": 60,
   "id": "74934efb",
   "metadata": {},
   "outputs": [],
   "source": [
    "num_vars_2=['price_num','bedrooms','number_of_reviews']\n",
    "num_vars_3=['bedrooms','number_of_reviews']"
   ]
  },
  {
   "cell_type": "code",
   "execution_count": 61,
   "id": "92fd101c",
   "metadata": {},
   "outputs": [],
   "source": [
    "# Bring settings back to default\n",
    "pd.set_option('display.max_rows', 10)\n",
    "pd.set_option('display.max_columns', 10)"
   ]
  },
  {
   "cell_type": "code",
   "execution_count": 62,
   "id": "9ae4fc81",
   "metadata": {},
   "outputs": [
    {
     "data": {
      "text/html": [
       "<div>\n",
       "<style scoped>\n",
       "    .dataframe tbody tr th:only-of-type {\n",
       "        vertical-align: middle;\n",
       "    }\n",
       "\n",
       "    .dataframe tbody tr th {\n",
       "        vertical-align: top;\n",
       "    }\n",
       "\n",
       "    .dataframe thead th {\n",
       "        text-align: right;\n",
       "    }\n",
       "</style>\n",
       "<table border=\"1\" class=\"dataframe\">\n",
       "  <thead>\n",
       "    <tr style=\"text-align: right;\">\n",
       "      <th></th>\n",
       "      <th>price_num</th>\n",
       "      <th>bedrooms</th>\n",
       "      <th>number_of_reviews</th>\n",
       "    </tr>\n",
       "  </thead>\n",
       "  <tbody>\n",
       "    <tr>\n",
       "      <th>price_num</th>\n",
       "      <td>1.000000</td>\n",
       "      <td>0.628138</td>\n",
       "      <td>-0.124598</td>\n",
       "    </tr>\n",
       "    <tr>\n",
       "      <th>bedrooms</th>\n",
       "      <td>0.628138</td>\n",
       "      <td>1.000000</td>\n",
       "      <td>-0.105771</td>\n",
       "    </tr>\n",
       "    <tr>\n",
       "      <th>number_of_reviews</th>\n",
       "      <td>-0.124598</td>\n",
       "      <td>-0.105771</td>\n",
       "      <td>1.000000</td>\n",
       "    </tr>\n",
       "  </tbody>\n",
       "</table>\n",
       "</div>"
      ],
      "text/plain": [
       "                   price_num  bedrooms  number_of_reviews\n",
       "price_num           1.000000  0.628138          -0.124598\n",
       "bedrooms            0.628138  1.000000          -0.105771\n",
       "number_of_reviews  -0.124598 -0.105771           1.000000"
      ]
     },
     "execution_count": 62,
     "metadata": {},
     "output_type": "execute_result"
    }
   ],
   "source": [
    "df_list_prices[num_vars_2].corr()"
   ]
  },
  {
   "cell_type": "code",
   "execution_count": 65,
   "id": "aaa799d4",
   "metadata": {},
   "outputs": [],
   "source": [
    "#Let's remove missing values\n",
    "df_list_prices.dropna(subset='bedrooms',axis=0,inplace=True)"
   ]
  },
  {
   "cell_type": "code",
   "execution_count": 67,
   "id": "d48fd5af",
   "metadata": {},
   "outputs": [],
   "source": [
    "# Let's see what happens with the categorical variables \n",
    "cat_vars=['is_location_exact','neighbourhood_group_cleansed','property_type','room_type','bed_type',\n",
    "                              'host_is_superhost','instant_bookable','cancellation_policy','require_guest_profile_picture',\n",
    "                              'require_guest_phone_verification']"
   ]
  },
  {
   "cell_type": "code",
   "execution_count": 68,
   "id": "8581e7bb",
   "metadata": {},
   "outputs": [],
   "source": [
    "# We will create the dummy ones\n",
    "for var in  cat_vars:\n",
    "        \n",
    "        df_list_prices = pd.concat([df_list_prices.drop(var, axis=1), pd.get_dummies(df_list_prices[var], prefix=var, prefix_sep='_')], axis=1)\n",
    "    "
   ]
  },
  {
   "cell_type": "code",
   "execution_count": 69,
   "id": "af5bdd18",
   "metadata": {},
   "outputs": [],
   "source": [
    "# Finally let's drop the variables that have been discarded\n",
    "df_list_prices.drop(['host_acceptance_rate','accommodates','bathrooms','beds','availability_30','availability_60','availability_90','availability_365',\n",
    "                     'review_scores_rating','review_scores_accuracy','review_scores_cleanliness','review_scores_checkin',\n",
    "                     'review_scores_communication','review_scores_location','review_scores_value','reviews_per_month','host_response_rate',\n",
    "                      'security_deposit','cleaning_fee','guests_included','extra_people','minimum_nights',\n",
    "                     'maximum_nights'],axis=1,inplace=True)"
   ]
  },
  {
   "cell_type": "code",
   "execution_count": 71,
   "id": "ff51b8f4",
   "metadata": {},
   "outputs": [
    {
     "data": {
      "text/plain": [
       "(3809, 57)"
      ]
     },
     "execution_count": 71,
     "metadata": {},
     "output_type": "execute_result"
    }
   ],
   "source": [
    "df_list_prices.shape"
   ]
  },
  {
   "cell_type": "code",
   "execution_count": null,
   "id": "c41a255f",
   "metadata": {},
   "outputs": [],
   "source": []
  },
  {
   "cell_type": "code",
   "execution_count": 72,
   "id": "716bba6d",
   "metadata": {},
   "outputs": [],
   "source": [
    "# Let's separate the independent variables from the response one\n",
    "y=df_list_prices['price_num']\n",
    "X=df_list_prices.drop(['price_num'],axis=1)"
   ]
  },
  {
   "cell_type": "code",
   "execution_count": 73,
   "id": "f4428e32",
   "metadata": {},
   "outputs": [
    {
     "name": "stderr",
     "output_type": "stream",
     "text": [
      "c:\\Miniconda\\Miniconda3\\envs\\basic_env\\lib\\site-packages\\sklearn\\linear_model\\_base.py:141: FutureWarning: 'normalize' was deprecated in version 1.0 and will be removed in 1.2.\n",
      "If you wish to scale the data, use Pipeline with a StandardScaler in a preprocessing stage. To reproduce the previous behavior:\n",
      "\n",
      "from sklearn.pipeline import make_pipeline\n",
      "\n",
      "model = make_pipeline(StandardScaler(with_mean=False), LinearRegression())\n",
      "\n",
      "If you wish to pass a sample_weight parameter, you need to pass it as a fit parameter to each step of the pipeline as follows:\n",
      "\n",
      "kwargs = {s[0] + '__sample_weight': sample_weight for s in model.steps}\n",
      "model.fit(X, y, **kwargs)\n",
      "\n",
      "\n",
      "  warnings.warn(\n"
     ]
    }
   ],
   "source": [
    "#Split into train and test\n",
    "X_train, X_test, y_train, y_test = train_test_split(X, y, test_size=0.3, random_state=42)\n",
    "\n",
    "lm_model = LinearRegression(normalize=True) # Instantiate\n",
    "lm_model.fit(X_train, y_train) #Fit\n",
    "\n",
    "#Predict using your model\n",
    "y_test_preds = lm_model.predict(X_test)\n",
    "y_train_preds = lm_model.predict(X_train)\n",
    "\n",
    "#Score using your model\n",
    "test_score = r2_score(y_test, y_test_preds)\n",
    "train_score = r2_score(y_train, y_train_preds)\n",
    "\n",
    "    "
   ]
  },
  {
   "cell_type": "code",
   "execution_count": 74,
   "id": "5da1fcf9",
   "metadata": {},
   "outputs": [
    {
     "name": "stdout",
     "output_type": "stream",
     "text": [
      "The rsquared on the training data was 0.5508444680471313.  The rsquared on the test data was -1.239683540223447e+22.\n"
     ]
    }
   ],
   "source": [
    "# So let's test our work\n",
    "print(\"The rsquared on the training data was {}.  The rsquared on the test data was {}.\".format(train_score, test_score))"
   ]
  },
  {
   "cell_type": "code",
   "execution_count": 75,
   "id": "c555bd31",
   "metadata": {},
   "outputs": [],
   "source": [
    "# Training data is good but test data is almost 0. Too much overfitting\n",
    "# Did we discard any categorical variables at all?\n",
    "# What if there is correlation between them?\n",
    "# Let's isolote the numeric ones first, then we will look into categorical ones"
   ]
  },
  {
   "cell_type": "code",
   "execution_count": 76,
   "id": "affee8fe",
   "metadata": {},
   "outputs": [],
   "source": [
    "X2=df_list_prices[num_vars_3]\n"
   ]
  },
  {
   "cell_type": "code",
   "execution_count": 77,
   "id": "b22be3d7",
   "metadata": {},
   "outputs": [
    {
     "name": "stderr",
     "output_type": "stream",
     "text": [
      "c:\\Miniconda\\Miniconda3\\envs\\basic_env\\lib\\site-packages\\sklearn\\linear_model\\_base.py:141: FutureWarning: 'normalize' was deprecated in version 1.0 and will be removed in 1.2.\n",
      "If you wish to scale the data, use Pipeline with a StandardScaler in a preprocessing stage. To reproduce the previous behavior:\n",
      "\n",
      "from sklearn.pipeline import make_pipeline\n",
      "\n",
      "model = make_pipeline(StandardScaler(with_mean=False), LinearRegression())\n",
      "\n",
      "If you wish to pass a sample_weight parameter, you need to pass it as a fit parameter to each step of the pipeline as follows:\n",
      "\n",
      "kwargs = {s[0] + '__sample_weight': sample_weight for s in model.steps}\n",
      "model.fit(X, y, **kwargs)\n",
      "\n",
      "\n",
      "  warnings.warn(\n"
     ]
    }
   ],
   "source": [
    "X2_train, X2_test, y2_train, y2_test = train_test_split(X2, y, test_size=0.3, random_state=42)\n",
    "\n",
    "lm_model2 = LinearRegression(normalize=True) # Instantiate\n",
    "lm_model2.fit(X2_train, y2_train) #Fit\n",
    "\n",
    "#Predict using your model\n",
    "y2_test_preds = lm_model2.predict(X2_test)\n",
    "y2_train_preds = lm_model2.predict(X2_train)\n",
    "\n",
    "#Score using your model\n",
    "test_score = r2_score(y2_test, y2_test_preds)\n",
    "train_score = r2_score(y2_train, y2_train_preds)\n"
   ]
  },
  {
   "cell_type": "code",
   "execution_count": 78,
   "id": "357139a0",
   "metadata": {},
   "outputs": [
    {
     "name": "stdout",
     "output_type": "stream",
     "text": [
      "The rsquared on the training data was 0.3989135084603903.  The rsquared on the test data was 0.39554074990083854.\n"
     ]
    }
   ],
   "source": [
    "# Test results again\n",
    "print(\"The rsquared on the training data was {}.  The rsquared on the test data was {}.\".format(train_score, test_score))"
   ]
  },
  {
   "cell_type": "code",
   "execution_count": 79,
   "id": "d1d78958",
   "metadata": {},
   "outputs": [],
   "source": [
    "# Test set does equally good here\n",
    "# Let's see the coefficients then"
   ]
  },
  {
   "cell_type": "code",
   "execution_count": 80,
   "id": "750d5d65",
   "metadata": {},
   "outputs": [
    {
     "name": "stdout",
     "output_type": "stream",
     "text": [
      "[62.68345    -0.14729674]\n",
      "48.96391374915629\n"
     ]
    },
    {
     "name": "stderr",
     "output_type": "stream",
     "text": [
      "c:\\Miniconda\\Miniconda3\\envs\\basic_env\\lib\\site-packages\\sklearn\\linear_model\\_base.py:141: FutureWarning: 'normalize' was deprecated in version 1.0 and will be removed in 1.2.\n",
      "If you wish to scale the data, use Pipeline with a StandardScaler in a preprocessing stage. To reproduce the previous behavior:\n",
      "\n",
      "from sklearn.pipeline import make_pipeline\n",
      "\n",
      "model = make_pipeline(StandardScaler(with_mean=False), LinearRegression())\n",
      "\n",
      "If you wish to pass a sample_weight parameter, you need to pass it as a fit parameter to each step of the pipeline as follows:\n",
      "\n",
      "kwargs = {s[0] + '__sample_weight': sample_weight for s in model.steps}\n",
      "model.fit(X, y, **kwargs)\n",
      "\n",
      "\n",
      "  warnings.warn(\n",
      "c:\\Miniconda\\Miniconda3\\envs\\basic_env\\lib\\site-packages\\sklearn\\linear_model\\_base.py:141: FutureWarning: 'normalize' was deprecated in version 1.0 and will be removed in 1.2.\n",
      "If you wish to scale the data, use Pipeline with a StandardScaler in a preprocessing stage. To reproduce the previous behavior:\n",
      "\n",
      "from sklearn.pipeline import make_pipeline\n",
      "\n",
      "model = make_pipeline(StandardScaler(with_mean=False), LinearRegression())\n",
      "\n",
      "If you wish to pass a sample_weight parameter, you need to pass it as a fit parameter to each step of the pipeline as follows:\n",
      "\n",
      "kwargs = {s[0] + '__sample_weight': sample_weight for s in model.steps}\n",
      "model.fit(X, y, **kwargs)\n",
      "\n",
      "\n",
      "  warnings.warn(\n"
     ]
    }
   ],
   "source": [
    "print(lm_model.fit(X2_train, y2_train).coef_)\n",
    "print(lm_model.fit(X2_train, y2_train).intercept_)\n"
   ]
  },
  {
   "cell_type": "code",
   "execution_count": 81,
   "id": "2eb58618",
   "metadata": {},
   "outputs": [],
   "source": [
    "#Let's investigate if there are any categorical variables that affect price more than others\n",
    "cat_vars2=list(df_list_prices.select_dtypes(include='uint8').columns)"
   ]
  },
  {
   "cell_type": "code",
   "execution_count": 82,
   "id": "67ba9f99",
   "metadata": {},
   "outputs": [
    {
     "data": {
      "text/plain": [
       "['is_location_exact_f',\n",
       " 'is_location_exact_t',\n",
       " 'neighbourhood_group_cleansed_Ballard',\n",
       " 'neighbourhood_group_cleansed_Beacon Hill',\n",
       " 'neighbourhood_group_cleansed_Capitol Hill',\n",
       " 'neighbourhood_group_cleansed_Cascade',\n",
       " 'neighbourhood_group_cleansed_Central Area',\n",
       " 'neighbourhood_group_cleansed_Delridge',\n",
       " 'neighbourhood_group_cleansed_Downtown',\n",
       " 'neighbourhood_group_cleansed_Interbay',\n",
       " 'neighbourhood_group_cleansed_Lake City',\n",
       " 'neighbourhood_group_cleansed_Magnolia',\n",
       " 'neighbourhood_group_cleansed_Northgate',\n",
       " 'neighbourhood_group_cleansed_Other neighborhoods',\n",
       " 'neighbourhood_group_cleansed_Queen Anne',\n",
       " 'neighbourhood_group_cleansed_Rainier Valley',\n",
       " 'neighbourhood_group_cleansed_Seward Park',\n",
       " 'neighbourhood_group_cleansed_University District',\n",
       " 'neighbourhood_group_cleansed_West Seattle',\n",
       " 'property_type_Apartment',\n",
       " 'property_type_Bed & Breakfast',\n",
       " 'property_type_Boat',\n",
       " 'property_type_Bungalow',\n",
       " 'property_type_Cabin',\n",
       " 'property_type_Camper/RV',\n",
       " 'property_type_Chalet',\n",
       " 'property_type_Condominium',\n",
       " 'property_type_Dorm',\n",
       " 'property_type_House',\n",
       " 'property_type_Loft',\n",
       " 'property_type_Other',\n",
       " 'property_type_Tent',\n",
       " 'property_type_Townhouse',\n",
       " 'property_type_Treehouse',\n",
       " 'property_type_Yurt',\n",
       " 'room_type_Entire home/apt',\n",
       " 'room_type_Private room',\n",
       " 'room_type_Shared room',\n",
       " 'bed_type_Airbed',\n",
       " 'bed_type_Couch',\n",
       " 'bed_type_Futon',\n",
       " 'bed_type_Pull-out Sofa',\n",
       " 'bed_type_Real Bed',\n",
       " 'host_is_superhost_f',\n",
       " 'host_is_superhost_t',\n",
       " 'instant_bookable_f',\n",
       " 'instant_bookable_t',\n",
       " 'cancellation_policy_flexible',\n",
       " 'cancellation_policy_moderate',\n",
       " 'cancellation_policy_strict',\n",
       " 'require_guest_profile_picture_f',\n",
       " 'require_guest_profile_picture_t',\n",
       " 'require_guest_phone_verification_f',\n",
       " 'require_guest_phone_verification_t']"
      ]
     },
     "execution_count": 82,
     "metadata": {},
     "output_type": "execute_result"
    }
   ],
   "source": [
    "cat_vars2"
   ]
  },
  {
   "cell_type": "code",
   "execution_count": 83,
   "id": "769fcc2e",
   "metadata": {},
   "outputs": [],
   "source": [
    "#Let's add price_num\n",
    "cat_vars2=['price_num','is_location_exact_f', 'is_location_exact_t',\n",
    "       'neighbourhood_group_cleansed_Ballard',\n",
    "       'neighbourhood_group_cleansed_Beacon Hill',\n",
    "       'neighbourhood_group_cleansed_Capitol Hill',\n",
    "       'neighbourhood_group_cleansed_Cascade',\n",
    "       'neighbourhood_group_cleansed_Central Area',\n",
    "       'neighbourhood_group_cleansed_Delridge',\n",
    "       'neighbourhood_group_cleansed_Downtown',\n",
    "       'neighbourhood_group_cleansed_Interbay',\n",
    "       'neighbourhood_group_cleansed_Lake City',\n",
    "       'neighbourhood_group_cleansed_Magnolia',\n",
    "       'neighbourhood_group_cleansed_Northgate',\n",
    "       'neighbourhood_group_cleansed_Other neighborhoods',\n",
    "       'neighbourhood_group_cleansed_Queen Anne',\n",
    "       'neighbourhood_group_cleansed_Rainier Valley',\n",
    "       'neighbourhood_group_cleansed_Seward Park',\n",
    "       'neighbourhood_group_cleansed_University District',\n",
    "       'neighbourhood_group_cleansed_West Seattle', 'property_type_Apartment',\n",
    "       'property_type_Bed & Breakfast', 'property_type_Boat',\n",
    "       'property_type_Bungalow', 'property_type_Cabin',\n",
    "       'property_type_Camper/RV', 'property_type_Chalet',\n",
    "       'property_type_Condominium', 'property_type_Dorm',\n",
    "       'property_type_House', 'property_type_Loft', 'property_type_Other',\n",
    "       'property_type_Tent', 'property_type_Townhouse',\n",
    "       'property_type_Treehouse', 'property_type_Yurt',\n",
    "       'room_type_Entire home/apt', 'room_type_Private room',\n",
    "       'room_type_Shared room', 'bed_type_Airbed', 'bed_type_Couch',\n",
    "       'bed_type_Futon', 'bed_type_Pull-out Sofa', 'bed_type_Real Bed',\n",
    "       'host_is_superhost_f', 'host_is_superhost_t', 'instant_bookable_f',\n",
    "       'instant_bookable_t', 'cancellation_policy_flexible',\n",
    "       'cancellation_policy_moderate', 'cancellation_policy_strict',\n",
    "       'require_guest_profile_picture_f', 'require_guest_profile_picture_t',\n",
    "       'require_guest_phone_verification_f',\n",
    "       'require_guest_phone_verification_t']"
   ]
  },
  {
   "cell_type": "code",
   "execution_count": 84,
   "id": "b5506cee",
   "metadata": {},
   "outputs": [],
   "source": [
    "pd.set_option('display.max_rows',None)"
   ]
  },
  {
   "cell_type": "code",
   "execution_count": 85,
   "id": "d4814906",
   "metadata": {},
   "outputs": [
    {
     "name": "stdout",
     "output_type": "stream",
     "text": [
      "price_num                                           1.000000\n",
      "is_location_exact_f                                -0.016068\n",
      "is_location_exact_t                                 0.016068\n",
      "neighbourhood_group_cleansed_Ballard               -0.009247\n",
      "neighbourhood_group_cleansed_Beacon Hill           -0.065948\n",
      "neighbourhood_group_cleansed_Capitol Hill           0.012803\n",
      "neighbourhood_group_cleansed_Cascade                0.020767\n",
      "neighbourhood_group_cleansed_Central Area           0.001313\n",
      "neighbourhood_group_cleansed_Delridge              -0.072035\n",
      "neighbourhood_group_cleansed_Downtown               0.117111\n",
      "neighbourhood_group_cleansed_Interbay              -0.010876\n",
      "neighbourhood_group_cleansed_Lake City             -0.052314\n",
      "neighbourhood_group_cleansed_Magnolia               0.070206\n",
      "neighbourhood_group_cleansed_Northgate             -0.063949\n",
      "neighbourhood_group_cleansed_Other neighborhoods   -0.045508\n",
      "neighbourhood_group_cleansed_Queen Anne             0.093840\n",
      "neighbourhood_group_cleansed_Rainier Valley        -0.083519\n",
      "neighbourhood_group_cleansed_Seward Park           -0.023343\n",
      "neighbourhood_group_cleansed_University District   -0.069168\n",
      "neighbourhood_group_cleansed_West Seattle           0.035672\n",
      "property_type_Apartment                            -0.050560\n",
      "property_type_Bed & Breakfast                      -0.017463\n",
      "property_type_Boat                                  0.078439\n",
      "property_type_Bungalow                             -0.008011\n",
      "property_type_Cabin                                -0.019219\n",
      "property_type_Camper/RV                            -0.004870\n",
      "property_type_Chalet                               -0.007482\n",
      "property_type_Condominium                           0.040077\n",
      "property_type_Dorm                                 -0.022457\n",
      "property_type_House                                 0.044434\n",
      "property_type_Loft                                  0.008811\n",
      "property_type_Other                                -0.028917\n",
      "property_type_Tent                                 -0.029700\n",
      "property_type_Townhouse                             0.002932\n",
      "property_type_Treehouse                            -0.008387\n",
      "property_type_Yurt                                 -0.005020\n",
      "room_type_Entire home/apt                           0.436081\n",
      "room_type_Private room                             -0.387880\n",
      "room_type_Shared room                              -0.158552\n",
      "bed_type_Airbed                                    -0.050538\n",
      "bed_type_Couch                                     -0.041260\n",
      "bed_type_Futon                                     -0.085966\n",
      "bed_type_Pull-out Sofa                             -0.062014\n",
      "bed_type_Real Bed                                   0.126046\n",
      "host_is_superhost_f                                -0.012138\n",
      "host_is_superhost_t                                 0.012138\n",
      "instant_bookable_f                                  0.031128\n",
      "instant_bookable_t                                 -0.031128\n",
      "cancellation_policy_flexible                       -0.135110\n",
      "cancellation_policy_moderate                       -0.101608\n",
      "cancellation_policy_strict                          0.227130\n",
      "require_guest_profile_picture_f                    -0.063923\n",
      "require_guest_profile_picture_t                     0.063923\n",
      "require_guest_phone_verification_f                 -0.058168\n",
      "require_guest_phone_verification_t                  0.058168\n",
      "Name: price_num, dtype: float64\n"
     ]
    }
   ],
   "source": [
    "print(df_list_prices[cat_vars2].corr()['price_num'])\n",
    "pd.set_option('display.max_rows',10)"
   ]
  },
  {
   "cell_type": "code",
   "execution_count": 86,
   "id": "ec498fab",
   "metadata": {},
   "outputs": [],
   "source": [
    "# It seems that variables related to room type and cancellation policy are the most important ones.\n",
    "# So let's add them to the numerical ones"
   ]
  },
  {
   "cell_type": "code",
   "execution_count": 87,
   "id": "782f1f08",
   "metadata": {},
   "outputs": [],
   "source": [
    "mixed_vars=['bedrooms','number_of_reviews','room_type_Entire home/apt','room_type_Private room','room_type_Shared room',\n",
    "'cancellation_policy_flexible','cancellation_policy_moderate','cancellation_policy_strict']"
   ]
  },
  {
   "cell_type": "code",
   "execution_count": 88,
   "id": "fbda589e",
   "metadata": {},
   "outputs": [
    {
     "name": "stderr",
     "output_type": "stream",
     "text": [
      "c:\\Miniconda\\Miniconda3\\envs\\basic_env\\lib\\site-packages\\sklearn\\linear_model\\_base.py:141: FutureWarning: 'normalize' was deprecated in version 1.0 and will be removed in 1.2.\n",
      "If you wish to scale the data, use Pipeline with a StandardScaler in a preprocessing stage. To reproduce the previous behavior:\n",
      "\n",
      "from sklearn.pipeline import make_pipeline\n",
      "\n",
      "model = make_pipeline(StandardScaler(with_mean=False), LinearRegression())\n",
      "\n",
      "If you wish to pass a sample_weight parameter, you need to pass it as a fit parameter to each step of the pipeline as follows:\n",
      "\n",
      "kwargs = {s[0] + '__sample_weight': sample_weight for s in model.steps}\n",
      "model.fit(X, y, **kwargs)\n",
      "\n",
      "\n",
      "  warnings.warn(\n"
     ]
    }
   ],
   "source": [
    "X3=df_list_prices[mixed_vars]\n",
    "\n",
    "X3_train, X3_test, y3_train, y3_test = train_test_split(X3, y, test_size=0.3, random_state=42)\n",
    "\n",
    "lm_model3 = LinearRegression(normalize=True) # Instantiate\n",
    "lm_model3.fit(X3_train, y3_train) #Fit\n",
    "\n",
    "#Predict using your model\n",
    "y3_test_preds = lm_model3.predict(X3_test)\n",
    "y3_train_preds = lm_model3.predict(X3_train)\n",
    "\n",
    "#Score using your model\n",
    "test_score = r2_score(y3_test, y3_test_preds)\n",
    "train_score = r2_score(y3_train, y3_train_preds)\n"
   ]
  },
  {
   "cell_type": "code",
   "execution_count": 89,
   "id": "b6b4bd32",
   "metadata": {},
   "outputs": [
    {
     "name": "stdout",
     "output_type": "stream",
     "text": [
      "The rsquared on the training data was 0.4894220447278539.  The rsquared on the test data was 0.4843623938828233.\n",
      "Coefficients are:  [ 54.30813831  -0.13381161  29.00708272 -22.61063674 -55.05768324\n",
      "  -2.84829265  -5.20850281   7.50734196]\n",
      "Intercept is:  48.54190422211971\n"
     ]
    },
    {
     "name": "stderr",
     "output_type": "stream",
     "text": [
      "c:\\Miniconda\\Miniconda3\\envs\\basic_env\\lib\\site-packages\\sklearn\\linear_model\\_base.py:141: FutureWarning: 'normalize' was deprecated in version 1.0 and will be removed in 1.2.\n",
      "If you wish to scale the data, use Pipeline with a StandardScaler in a preprocessing stage. To reproduce the previous behavior:\n",
      "\n",
      "from sklearn.pipeline import make_pipeline\n",
      "\n",
      "model = make_pipeline(StandardScaler(with_mean=False), LinearRegression())\n",
      "\n",
      "If you wish to pass a sample_weight parameter, you need to pass it as a fit parameter to each step of the pipeline as follows:\n",
      "\n",
      "kwargs = {s[0] + '__sample_weight': sample_weight for s in model.steps}\n",
      "model.fit(X, y, **kwargs)\n",
      "\n",
      "\n",
      "  warnings.warn(\n",
      "c:\\Miniconda\\Miniconda3\\envs\\basic_env\\lib\\site-packages\\sklearn\\linear_model\\_base.py:141: FutureWarning: 'normalize' was deprecated in version 1.0 and will be removed in 1.2.\n",
      "If you wish to scale the data, use Pipeline with a StandardScaler in a preprocessing stage. To reproduce the previous behavior:\n",
      "\n",
      "from sklearn.pipeline import make_pipeline\n",
      "\n",
      "model = make_pipeline(StandardScaler(with_mean=False), LinearRegression())\n",
      "\n",
      "If you wish to pass a sample_weight parameter, you need to pass it as a fit parameter to each step of the pipeline as follows:\n",
      "\n",
      "kwargs = {s[0] + '__sample_weight': sample_weight for s in model.steps}\n",
      "model.fit(X, y, **kwargs)\n",
      "\n",
      "\n",
      "  warnings.warn(\n"
     ]
    }
   ],
   "source": [
    "# Results\n",
    "print(\"The rsquared on the training data was {}.  The rsquared on the test data was {}.\".format(train_score, test_score))\n",
    "print('Coefficients are: ',lm_model.fit(X3_train, y3_train).coef_)\n",
    "print('Intercept is: ',lm_model.fit(X3_train, y3_train).intercept_)"
   ]
  },
  {
   "cell_type": "code",
   "execution_count": 90,
   "id": "1cb891aa",
   "metadata": {},
   "outputs": [],
   "source": [
    "#Substantially better than earlier:\n",
    "# R squared is at 48% up from 39% and it's almost the same in both sets so this model fits perfectly to the test set\n",
    "# An extra room would increase the price by $54 whereas Entire apartments are about $51 (difference between 29 and -22)\n",
    "# more expensive than private rooms.\n",
    "# Finally, a strict cancellation policy plays a positive role in the price compared to flexible and moderate ($10 up \n",
    "# compared to flexible)"
   ]
  },
  {
   "cell_type": "code",
   "execution_count": null,
   "id": "5fc50023",
   "metadata": {},
   "outputs": [],
   "source": []
  }
 ],
 "metadata": {
  "kernelspec": {
   "display_name": "Python 3 (ipykernel)",
   "language": "python",
   "name": "python3"
  },
  "language_info": {
   "codemirror_mode": {
    "name": "ipython",
    "version": 3
   },
   "file_extension": ".py",
   "mimetype": "text/x-python",
   "name": "python",
   "nbconvert_exporter": "python",
   "pygments_lexer": "ipython3",
   "version": "3.10.4"
  }
 },
 "nbformat": 4,
 "nbformat_minor": 5
}
