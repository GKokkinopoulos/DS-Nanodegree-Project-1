{
 "cells": [
  {
   "cell_type": "markdown",
   "id": "5237867a",
   "metadata": {},
   "source": [
    "# Section 1: Business understanding\n",
    "\n",
    "This project is about Airbnb accommodation in Seattle.The analysis wll try to answer the following questions:\n",
    "\n",
    "#### 1. What are the busiest times of the year to visit Seattle and how this reflects on prices.\n",
    "#### 2. Whether there is a relationship between new listings and the demand over the years.\n",
    "#### 3. What the main factors that affect the price of a listing are.\n"
   ]
  },
  {
   "cell_type": "code",
   "execution_count": 1,
   "id": "0a556f1b",
   "metadata": {},
   "outputs": [],
   "source": [
    "# Let's import the necessary libraries\n",
    "\n",
    "import numpy as np\n",
    "import pandas as pd\n",
    "import matplotlib.pyplot as plt\n",
    "from sklearn.linear_model import LinearRegression\n",
    "from sklearn.model_selection import train_test_split\n",
    "from sklearn.metrics import r2_score, mean_squared_error\n",
    "import seaborn as sns\n",
    "%matplotlib inline\n"
   ]
  },
  {
   "cell_type": "markdown",
   "id": "b57d7bfb",
   "metadata": {},
   "source": [
    "# Section 2: Data understanding\n",
    "\n",
    "### Gather\n",
    "\n",
    "Let's start by loading the data"
   ]
  },
  {
   "cell_type": "code",
   "execution_count": 2,
   "id": "3853a1e3",
   "metadata": {},
   "outputs": [],
   "source": [
    "df_cal = pd.read_csv('./calendar.csv')\n",
    "df_list = pd.read_csv('./listings.csv')\n",
    "df_rev = pd.read_csv('./reviews.csv')\n"
   ]
  },
  {
   "cell_type": "markdown",
   "id": "1f4b04f4",
   "metadata": {},
   "source": [
    "### Assess"
   ]
  },
  {
   "cell_type": "markdown",
   "id": "a720559f",
   "metadata": {},
   "source": [
    "Strong attention to detail starts with knowing how many rows and columns we have in the datasets"
   ]
  },
  {
   "cell_type": "code",
   "execution_count": 3,
   "id": "c532f663",
   "metadata": {},
   "outputs": [
    {
     "name": "stdout",
     "output_type": "stream",
     "text": [
      "(3818, 92)\n",
      "(1393570, 4)\n",
      "(84849, 6)\n"
     ]
    }
   ],
   "source": [
    "print(df_list.shape)\n",
    "print(df_cal.shape)\n",
    "print(df_rev.shape)\n"
   ]
  },
  {
   "cell_type": "markdown",
   "id": "d425f3da",
   "metadata": {},
   "source": [
    "Let's see what the listings table looks like and the data types of the columns"
   ]
  },
  {
   "cell_type": "code",
   "execution_count": 4,
   "id": "8af1b3c4",
   "metadata": {
    "scrolled": true
   },
   "outputs": [
    {
     "data": {
      "text/html": [
       "<div>\n",
       "<style scoped>\n",
       "    .dataframe tbody tr th:only-of-type {\n",
       "        vertical-align: middle;\n",
       "    }\n",
       "\n",
       "    .dataframe tbody tr th {\n",
       "        vertical-align: top;\n",
       "    }\n",
       "\n",
       "    .dataframe thead th {\n",
       "        text-align: right;\n",
       "    }\n",
       "</style>\n",
       "<table border=\"1\" class=\"dataframe\">\n",
       "  <thead>\n",
       "    <tr style=\"text-align: right;\">\n",
       "      <th></th>\n",
       "      <th>id</th>\n",
       "      <th>listing_url</th>\n",
       "      <th>scrape_id</th>\n",
       "      <th>last_scraped</th>\n",
       "      <th>name</th>\n",
       "      <th>summary</th>\n",
       "      <th>space</th>\n",
       "      <th>description</th>\n",
       "      <th>experiences_offered</th>\n",
       "      <th>neighborhood_overview</th>\n",
       "      <th>notes</th>\n",
       "      <th>transit</th>\n",
       "      <th>thumbnail_url</th>\n",
       "      <th>medium_url</th>\n",
       "      <th>picture_url</th>\n",
       "      <th>xl_picture_url</th>\n",
       "      <th>host_id</th>\n",
       "      <th>host_url</th>\n",
       "      <th>host_name</th>\n",
       "      <th>host_since</th>\n",
       "      <th>host_location</th>\n",
       "      <th>host_about</th>\n",
       "      <th>host_response_time</th>\n",
       "      <th>host_response_rate</th>\n",
       "      <th>host_acceptance_rate</th>\n",
       "      <th>host_is_superhost</th>\n",
       "      <th>host_thumbnail_url</th>\n",
       "      <th>host_picture_url</th>\n",
       "      <th>host_neighbourhood</th>\n",
       "      <th>host_listings_count</th>\n",
       "      <th>host_total_listings_count</th>\n",
       "      <th>host_verifications</th>\n",
       "      <th>host_has_profile_pic</th>\n",
       "      <th>host_identity_verified</th>\n",
       "      <th>street</th>\n",
       "      <th>neighbourhood</th>\n",
       "      <th>neighbourhood_cleansed</th>\n",
       "      <th>neighbourhood_group_cleansed</th>\n",
       "      <th>city</th>\n",
       "      <th>state</th>\n",
       "      <th>zipcode</th>\n",
       "      <th>market</th>\n",
       "      <th>smart_location</th>\n",
       "      <th>country_code</th>\n",
       "      <th>country</th>\n",
       "      <th>latitude</th>\n",
       "      <th>longitude</th>\n",
       "      <th>is_location_exact</th>\n",
       "      <th>property_type</th>\n",
       "      <th>room_type</th>\n",
       "      <th>accommodates</th>\n",
       "      <th>bathrooms</th>\n",
       "      <th>bedrooms</th>\n",
       "      <th>beds</th>\n",
       "      <th>bed_type</th>\n",
       "      <th>amenities</th>\n",
       "      <th>square_feet</th>\n",
       "      <th>price</th>\n",
       "      <th>weekly_price</th>\n",
       "      <th>monthly_price</th>\n",
       "      <th>security_deposit</th>\n",
       "      <th>cleaning_fee</th>\n",
       "      <th>guests_included</th>\n",
       "      <th>extra_people</th>\n",
       "      <th>minimum_nights</th>\n",
       "      <th>maximum_nights</th>\n",
       "      <th>calendar_updated</th>\n",
       "      <th>has_availability</th>\n",
       "      <th>availability_30</th>\n",
       "      <th>availability_60</th>\n",
       "      <th>availability_90</th>\n",
       "      <th>availability_365</th>\n",
       "      <th>calendar_last_scraped</th>\n",
       "      <th>number_of_reviews</th>\n",
       "      <th>first_review</th>\n",
       "      <th>last_review</th>\n",
       "      <th>review_scores_rating</th>\n",
       "      <th>review_scores_accuracy</th>\n",
       "      <th>review_scores_cleanliness</th>\n",
       "      <th>review_scores_checkin</th>\n",
       "      <th>review_scores_communication</th>\n",
       "      <th>review_scores_location</th>\n",
       "      <th>review_scores_value</th>\n",
       "      <th>requires_license</th>\n",
       "      <th>license</th>\n",
       "      <th>jurisdiction_names</th>\n",
       "      <th>instant_bookable</th>\n",
       "      <th>cancellation_policy</th>\n",
       "      <th>require_guest_profile_picture</th>\n",
       "      <th>require_guest_phone_verification</th>\n",
       "      <th>calculated_host_listings_count</th>\n",
       "      <th>reviews_per_month</th>\n",
       "    </tr>\n",
       "  </thead>\n",
       "  <tbody>\n",
       "    <tr>\n",
       "      <th>0</th>\n",
       "      <td>241032</td>\n",
       "      <td>https://www.airbnb.com/rooms/241032</td>\n",
       "      <td>20160104002432</td>\n",
       "      <td>2016-01-04</td>\n",
       "      <td>Stylish Queen Anne Apartment</td>\n",
       "      <td>NaN</td>\n",
       "      <td>Make your self at home in this charming one-be...</td>\n",
       "      <td>Make your self at home in this charming one-be...</td>\n",
       "      <td>none</td>\n",
       "      <td>NaN</td>\n",
       "      <td>NaN</td>\n",
       "      <td>NaN</td>\n",
       "      <td>NaN</td>\n",
       "      <td>NaN</td>\n",
       "      <td>https://a1.muscache.com/ac/pictures/67560560/c...</td>\n",
       "      <td>NaN</td>\n",
       "      <td>956883</td>\n",
       "      <td>https://www.airbnb.com/users/show/956883</td>\n",
       "      <td>Maija</td>\n",
       "      <td>2011-08-11</td>\n",
       "      <td>Seattle, Washington, United States</td>\n",
       "      <td>I am an artist, interior designer, and run a s...</td>\n",
       "      <td>within a few hours</td>\n",
       "      <td>96%</td>\n",
       "      <td>100%</td>\n",
       "      <td>f</td>\n",
       "      <td>https://a0.muscache.com/ac/users/956883/profil...</td>\n",
       "      <td>https://a0.muscache.com/ac/users/956883/profil...</td>\n",
       "      <td>Queen Anne</td>\n",
       "      <td>3.0</td>\n",
       "      <td>3.0</td>\n",
       "      <td>['email', 'phone', 'reviews', 'kba']</td>\n",
       "      <td>t</td>\n",
       "      <td>t</td>\n",
       "      <td>Gilman Dr W, Seattle, WA 98119, United States</td>\n",
       "      <td>Queen Anne</td>\n",
       "      <td>West Queen Anne</td>\n",
       "      <td>Queen Anne</td>\n",
       "      <td>Seattle</td>\n",
       "      <td>WA</td>\n",
       "      <td>98119</td>\n",
       "      <td>Seattle</td>\n",
       "      <td>Seattle, WA</td>\n",
       "      <td>US</td>\n",
       "      <td>United States</td>\n",
       "      <td>47.636289</td>\n",
       "      <td>-122.371025</td>\n",
       "      <td>t</td>\n",
       "      <td>Apartment</td>\n",
       "      <td>Entire home/apt</td>\n",
       "      <td>4</td>\n",
       "      <td>1.0</td>\n",
       "      <td>1.0</td>\n",
       "      <td>1.0</td>\n",
       "      <td>Real Bed</td>\n",
       "      <td>{TV,\"Cable TV\",Internet,\"Wireless Internet\",\"A...</td>\n",
       "      <td>NaN</td>\n",
       "      <td>$85.00</td>\n",
       "      <td>NaN</td>\n",
       "      <td>NaN</td>\n",
       "      <td>NaN</td>\n",
       "      <td>NaN</td>\n",
       "      <td>2</td>\n",
       "      <td>$5.00</td>\n",
       "      <td>1</td>\n",
       "      <td>365</td>\n",
       "      <td>4 weeks ago</td>\n",
       "      <td>t</td>\n",
       "      <td>14</td>\n",
       "      <td>41</td>\n",
       "      <td>71</td>\n",
       "      <td>346</td>\n",
       "      <td>2016-01-04</td>\n",
       "      <td>207</td>\n",
       "      <td>2011-11-01</td>\n",
       "      <td>2016-01-02</td>\n",
       "      <td>95.0</td>\n",
       "      <td>10.0</td>\n",
       "      <td>10.0</td>\n",
       "      <td>10.0</td>\n",
       "      <td>10.0</td>\n",
       "      <td>9.0</td>\n",
       "      <td>10.0</td>\n",
       "      <td>f</td>\n",
       "      <td>NaN</td>\n",
       "      <td>WASHINGTON</td>\n",
       "      <td>f</td>\n",
       "      <td>moderate</td>\n",
       "      <td>f</td>\n",
       "      <td>f</td>\n",
       "      <td>2</td>\n",
       "      <td>4.07</td>\n",
       "    </tr>\n",
       "    <tr>\n",
       "      <th>1</th>\n",
       "      <td>953595</td>\n",
       "      <td>https://www.airbnb.com/rooms/953595</td>\n",
       "      <td>20160104002432</td>\n",
       "      <td>2016-01-04</td>\n",
       "      <td>Bright &amp; Airy Queen Anne Apartment</td>\n",
       "      <td>Chemically sensitive? We've removed the irrita...</td>\n",
       "      <td>Beautiful, hypoallergenic apartment in an extr...</td>\n",
       "      <td>Chemically sensitive? We've removed the irrita...</td>\n",
       "      <td>none</td>\n",
       "      <td>Queen Anne is a wonderful, truly functional vi...</td>\n",
       "      <td>What's up with the free pillows?  Our home was...</td>\n",
       "      <td>Convenient bus stops are just down the block, ...</td>\n",
       "      <td>https://a0.muscache.com/ac/pictures/14409893/f...</td>\n",
       "      <td>https://a0.muscache.com/im/pictures/14409893/f...</td>\n",
       "      <td>https://a0.muscache.com/ac/pictures/14409893/f...</td>\n",
       "      <td>https://a0.muscache.com/ac/pictures/14409893/f...</td>\n",
       "      <td>5177328</td>\n",
       "      <td>https://www.airbnb.com/users/show/5177328</td>\n",
       "      <td>Andrea</td>\n",
       "      <td>2013-02-21</td>\n",
       "      <td>Seattle, Washington, United States</td>\n",
       "      <td>Living east coast/left coast/overseas.  Time i...</td>\n",
       "      <td>within an hour</td>\n",
       "      <td>98%</td>\n",
       "      <td>100%</td>\n",
       "      <td>t</td>\n",
       "      <td>https://a0.muscache.com/ac/users/5177328/profi...</td>\n",
       "      <td>https://a0.muscache.com/ac/users/5177328/profi...</td>\n",
       "      <td>Queen Anne</td>\n",
       "      <td>6.0</td>\n",
       "      <td>6.0</td>\n",
       "      <td>['email', 'phone', 'facebook', 'linkedin', 're...</td>\n",
       "      <td>t</td>\n",
       "      <td>t</td>\n",
       "      <td>7th Avenue West, Seattle, WA 98119, United States</td>\n",
       "      <td>Queen Anne</td>\n",
       "      <td>West Queen Anne</td>\n",
       "      <td>Queen Anne</td>\n",
       "      <td>Seattle</td>\n",
       "      <td>WA</td>\n",
       "      <td>98119</td>\n",
       "      <td>Seattle</td>\n",
       "      <td>Seattle, WA</td>\n",
       "      <td>US</td>\n",
       "      <td>United States</td>\n",
       "      <td>47.639123</td>\n",
       "      <td>-122.365666</td>\n",
       "      <td>t</td>\n",
       "      <td>Apartment</td>\n",
       "      <td>Entire home/apt</td>\n",
       "      <td>4</td>\n",
       "      <td>1.0</td>\n",
       "      <td>1.0</td>\n",
       "      <td>1.0</td>\n",
       "      <td>Real Bed</td>\n",
       "      <td>{TV,Internet,\"Wireless Internet\",Kitchen,\"Free...</td>\n",
       "      <td>NaN</td>\n",
       "      <td>$150.00</td>\n",
       "      <td>$1,000.00</td>\n",
       "      <td>$3,000.00</td>\n",
       "      <td>$100.00</td>\n",
       "      <td>$40.00</td>\n",
       "      <td>1</td>\n",
       "      <td>$0.00</td>\n",
       "      <td>2</td>\n",
       "      <td>90</td>\n",
       "      <td>today</td>\n",
       "      <td>t</td>\n",
       "      <td>13</td>\n",
       "      <td>13</td>\n",
       "      <td>16</td>\n",
       "      <td>291</td>\n",
       "      <td>2016-01-04</td>\n",
       "      <td>43</td>\n",
       "      <td>2013-08-19</td>\n",
       "      <td>2015-12-29</td>\n",
       "      <td>96.0</td>\n",
       "      <td>10.0</td>\n",
       "      <td>10.0</td>\n",
       "      <td>10.0</td>\n",
       "      <td>10.0</td>\n",
       "      <td>10.0</td>\n",
       "      <td>10.0</td>\n",
       "      <td>f</td>\n",
       "      <td>NaN</td>\n",
       "      <td>WASHINGTON</td>\n",
       "      <td>f</td>\n",
       "      <td>strict</td>\n",
       "      <td>t</td>\n",
       "      <td>t</td>\n",
       "      <td>6</td>\n",
       "      <td>1.48</td>\n",
       "    </tr>\n",
       "    <tr>\n",
       "      <th>2</th>\n",
       "      <td>3308979</td>\n",
       "      <td>https://www.airbnb.com/rooms/3308979</td>\n",
       "      <td>20160104002432</td>\n",
       "      <td>2016-01-04</td>\n",
       "      <td>New Modern House-Amazing water view</td>\n",
       "      <td>New modern house built in 2013.  Spectacular s...</td>\n",
       "      <td>Our house is modern, light and fresh with a wa...</td>\n",
       "      <td>New modern house built in 2013.  Spectacular s...</td>\n",
       "      <td>none</td>\n",
       "      <td>Upper Queen Anne is a charming neighborhood fu...</td>\n",
       "      <td>Our house is located just 5 short blocks to To...</td>\n",
       "      <td>A bus stop is just 2 blocks away.   Easy bus a...</td>\n",
       "      <td>NaN</td>\n",
       "      <td>NaN</td>\n",
       "      <td>https://a2.muscache.com/ac/pictures/b4324e0f-a...</td>\n",
       "      <td>NaN</td>\n",
       "      <td>16708587</td>\n",
       "      <td>https://www.airbnb.com/users/show/16708587</td>\n",
       "      <td>Jill</td>\n",
       "      <td>2014-06-12</td>\n",
       "      <td>Seattle, Washington, United States</td>\n",
       "      <td>i love living in Seattle.  i grew up in the mi...</td>\n",
       "      <td>within a few hours</td>\n",
       "      <td>67%</td>\n",
       "      <td>100%</td>\n",
       "      <td>f</td>\n",
       "      <td>https://a1.muscache.com/ac/users/16708587/prof...</td>\n",
       "      <td>https://a1.muscache.com/ac/users/16708587/prof...</td>\n",
       "      <td>Queen Anne</td>\n",
       "      <td>2.0</td>\n",
       "      <td>2.0</td>\n",
       "      <td>['email', 'phone', 'google', 'reviews', 'jumio']</td>\n",
       "      <td>t</td>\n",
       "      <td>t</td>\n",
       "      <td>West Lee Street, Seattle, WA 98119, United States</td>\n",
       "      <td>Queen Anne</td>\n",
       "      <td>West Queen Anne</td>\n",
       "      <td>Queen Anne</td>\n",
       "      <td>Seattle</td>\n",
       "      <td>WA</td>\n",
       "      <td>98119</td>\n",
       "      <td>Seattle</td>\n",
       "      <td>Seattle, WA</td>\n",
       "      <td>US</td>\n",
       "      <td>United States</td>\n",
       "      <td>47.629724</td>\n",
       "      <td>-122.369483</td>\n",
       "      <td>t</td>\n",
       "      <td>House</td>\n",
       "      <td>Entire home/apt</td>\n",
       "      <td>11</td>\n",
       "      <td>4.5</td>\n",
       "      <td>5.0</td>\n",
       "      <td>7.0</td>\n",
       "      <td>Real Bed</td>\n",
       "      <td>{TV,\"Cable TV\",Internet,\"Wireless Internet\",\"A...</td>\n",
       "      <td>NaN</td>\n",
       "      <td>$975.00</td>\n",
       "      <td>NaN</td>\n",
       "      <td>NaN</td>\n",
       "      <td>$1,000.00</td>\n",
       "      <td>$300.00</td>\n",
       "      <td>10</td>\n",
       "      <td>$25.00</td>\n",
       "      <td>4</td>\n",
       "      <td>30</td>\n",
       "      <td>5 weeks ago</td>\n",
       "      <td>t</td>\n",
       "      <td>1</td>\n",
       "      <td>6</td>\n",
       "      <td>17</td>\n",
       "      <td>220</td>\n",
       "      <td>2016-01-04</td>\n",
       "      <td>20</td>\n",
       "      <td>2014-07-30</td>\n",
       "      <td>2015-09-03</td>\n",
       "      <td>97.0</td>\n",
       "      <td>10.0</td>\n",
       "      <td>10.0</td>\n",
       "      <td>10.0</td>\n",
       "      <td>10.0</td>\n",
       "      <td>10.0</td>\n",
       "      <td>10.0</td>\n",
       "      <td>f</td>\n",
       "      <td>NaN</td>\n",
       "      <td>WASHINGTON</td>\n",
       "      <td>f</td>\n",
       "      <td>strict</td>\n",
       "      <td>f</td>\n",
       "      <td>f</td>\n",
       "      <td>2</td>\n",
       "      <td>1.15</td>\n",
       "    </tr>\n",
       "    <tr>\n",
       "      <th>3</th>\n",
       "      <td>7421966</td>\n",
       "      <td>https://www.airbnb.com/rooms/7421966</td>\n",
       "      <td>20160104002432</td>\n",
       "      <td>2016-01-04</td>\n",
       "      <td>Queen Anne Chateau</td>\n",
       "      <td>A charming apartment that sits atop Queen Anne...</td>\n",
       "      <td>NaN</td>\n",
       "      <td>A charming apartment that sits atop Queen Anne...</td>\n",
       "      <td>none</td>\n",
       "      <td>NaN</td>\n",
       "      <td>NaN</td>\n",
       "      <td>NaN</td>\n",
       "      <td>NaN</td>\n",
       "      <td>NaN</td>\n",
       "      <td>https://a0.muscache.com/ac/pictures/94146944/6...</td>\n",
       "      <td>NaN</td>\n",
       "      <td>9851441</td>\n",
       "      <td>https://www.airbnb.com/users/show/9851441</td>\n",
       "      <td>Emily</td>\n",
       "      <td>2013-11-06</td>\n",
       "      <td>Seattle, Washington, United States</td>\n",
       "      <td>NaN</td>\n",
       "      <td>NaN</td>\n",
       "      <td>NaN</td>\n",
       "      <td>NaN</td>\n",
       "      <td>f</td>\n",
       "      <td>https://a2.muscache.com/ac/users/9851441/profi...</td>\n",
       "      <td>https://a2.muscache.com/ac/users/9851441/profi...</td>\n",
       "      <td>Queen Anne</td>\n",
       "      <td>1.0</td>\n",
       "      <td>1.0</td>\n",
       "      <td>['email', 'phone', 'facebook', 'reviews', 'jum...</td>\n",
       "      <td>t</td>\n",
       "      <td>t</td>\n",
       "      <td>8th Avenue West, Seattle, WA 98119, United States</td>\n",
       "      <td>Queen Anne</td>\n",
       "      <td>West Queen Anne</td>\n",
       "      <td>Queen Anne</td>\n",
       "      <td>Seattle</td>\n",
       "      <td>WA</td>\n",
       "      <td>98119</td>\n",
       "      <td>Seattle</td>\n",
       "      <td>Seattle, WA</td>\n",
       "      <td>US</td>\n",
       "      <td>United States</td>\n",
       "      <td>47.638473</td>\n",
       "      <td>-122.369279</td>\n",
       "      <td>t</td>\n",
       "      <td>Apartment</td>\n",
       "      <td>Entire home/apt</td>\n",
       "      <td>3</td>\n",
       "      <td>1.0</td>\n",
       "      <td>0.0</td>\n",
       "      <td>2.0</td>\n",
       "      <td>Real Bed</td>\n",
       "      <td>{Internet,\"Wireless Internet\",Kitchen,\"Indoor ...</td>\n",
       "      <td>NaN</td>\n",
       "      <td>$100.00</td>\n",
       "      <td>$650.00</td>\n",
       "      <td>$2,300.00</td>\n",
       "      <td>NaN</td>\n",
       "      <td>NaN</td>\n",
       "      <td>1</td>\n",
       "      <td>$0.00</td>\n",
       "      <td>1</td>\n",
       "      <td>1125</td>\n",
       "      <td>6 months ago</td>\n",
       "      <td>t</td>\n",
       "      <td>0</td>\n",
       "      <td>0</td>\n",
       "      <td>0</td>\n",
       "      <td>143</td>\n",
       "      <td>2016-01-04</td>\n",
       "      <td>0</td>\n",
       "      <td>NaN</td>\n",
       "      <td>NaN</td>\n",
       "      <td>NaN</td>\n",
       "      <td>NaN</td>\n",
       "      <td>NaN</td>\n",
       "      <td>NaN</td>\n",
       "      <td>NaN</td>\n",
       "      <td>NaN</td>\n",
       "      <td>NaN</td>\n",
       "      <td>f</td>\n",
       "      <td>NaN</td>\n",
       "      <td>WASHINGTON</td>\n",
       "      <td>f</td>\n",
       "      <td>flexible</td>\n",
       "      <td>f</td>\n",
       "      <td>f</td>\n",
       "      <td>1</td>\n",
       "      <td>NaN</td>\n",
       "    </tr>\n",
       "    <tr>\n",
       "      <th>4</th>\n",
       "      <td>278830</td>\n",
       "      <td>https://www.airbnb.com/rooms/278830</td>\n",
       "      <td>20160104002432</td>\n",
       "      <td>2016-01-04</td>\n",
       "      <td>Charming craftsman 3 bdm house</td>\n",
       "      <td>Cozy family craftman house in beautiful neighb...</td>\n",
       "      <td>Cozy family craftman house in beautiful neighb...</td>\n",
       "      <td>Cozy family craftman house in beautiful neighb...</td>\n",
       "      <td>none</td>\n",
       "      <td>We are in the beautiful neighborhood of Queen ...</td>\n",
       "      <td>Belltown</td>\n",
       "      <td>The nearest public transit bus (D Line) is 2 b...</td>\n",
       "      <td>NaN</td>\n",
       "      <td>NaN</td>\n",
       "      <td>https://a1.muscache.com/ac/pictures/6120468/b0...</td>\n",
       "      <td>NaN</td>\n",
       "      <td>1452570</td>\n",
       "      <td>https://www.airbnb.com/users/show/1452570</td>\n",
       "      <td>Emily</td>\n",
       "      <td>2011-11-29</td>\n",
       "      <td>Seattle, Washington, United States</td>\n",
       "      <td>Hi, I live in Seattle, Washington but I'm orig...</td>\n",
       "      <td>within an hour</td>\n",
       "      <td>100%</td>\n",
       "      <td>NaN</td>\n",
       "      <td>f</td>\n",
       "      <td>https://a0.muscache.com/ac/users/1452570/profi...</td>\n",
       "      <td>https://a0.muscache.com/ac/users/1452570/profi...</td>\n",
       "      <td>Queen Anne</td>\n",
       "      <td>2.0</td>\n",
       "      <td>2.0</td>\n",
       "      <td>['email', 'phone', 'facebook', 'reviews', 'kba']</td>\n",
       "      <td>t</td>\n",
       "      <td>t</td>\n",
       "      <td>14th Ave W, Seattle, WA 98119, United States</td>\n",
       "      <td>Queen Anne</td>\n",
       "      <td>West Queen Anne</td>\n",
       "      <td>Queen Anne</td>\n",
       "      <td>Seattle</td>\n",
       "      <td>WA</td>\n",
       "      <td>98119</td>\n",
       "      <td>Seattle</td>\n",
       "      <td>Seattle, WA</td>\n",
       "      <td>US</td>\n",
       "      <td>United States</td>\n",
       "      <td>47.632918</td>\n",
       "      <td>-122.372471</td>\n",
       "      <td>t</td>\n",
       "      <td>House</td>\n",
       "      <td>Entire home/apt</td>\n",
       "      <td>6</td>\n",
       "      <td>2.0</td>\n",
       "      <td>3.0</td>\n",
       "      <td>3.0</td>\n",
       "      <td>Real Bed</td>\n",
       "      <td>{TV,\"Cable TV\",Internet,\"Wireless Internet\",Ki...</td>\n",
       "      <td>NaN</td>\n",
       "      <td>$450.00</td>\n",
       "      <td>NaN</td>\n",
       "      <td>NaN</td>\n",
       "      <td>$700.00</td>\n",
       "      <td>$125.00</td>\n",
       "      <td>6</td>\n",
       "      <td>$15.00</td>\n",
       "      <td>1</td>\n",
       "      <td>1125</td>\n",
       "      <td>7 weeks ago</td>\n",
       "      <td>t</td>\n",
       "      <td>30</td>\n",
       "      <td>60</td>\n",
       "      <td>90</td>\n",
       "      <td>365</td>\n",
       "      <td>2016-01-04</td>\n",
       "      <td>38</td>\n",
       "      <td>2012-07-10</td>\n",
       "      <td>2015-10-24</td>\n",
       "      <td>92.0</td>\n",
       "      <td>9.0</td>\n",
       "      <td>9.0</td>\n",
       "      <td>10.0</td>\n",
       "      <td>10.0</td>\n",
       "      <td>9.0</td>\n",
       "      <td>9.0</td>\n",
       "      <td>f</td>\n",
       "      <td>NaN</td>\n",
       "      <td>WASHINGTON</td>\n",
       "      <td>f</td>\n",
       "      <td>strict</td>\n",
       "      <td>f</td>\n",
       "      <td>f</td>\n",
       "      <td>1</td>\n",
       "      <td>0.89</td>\n",
       "    </tr>\n",
       "  </tbody>\n",
       "</table>\n",
       "</div>"
      ],
      "text/plain": [
       "        id                           listing_url       scrape_id last_scraped  \\\n",
       "0   241032   https://www.airbnb.com/rooms/241032  20160104002432   2016-01-04   \n",
       "1   953595   https://www.airbnb.com/rooms/953595  20160104002432   2016-01-04   \n",
       "2  3308979  https://www.airbnb.com/rooms/3308979  20160104002432   2016-01-04   \n",
       "3  7421966  https://www.airbnb.com/rooms/7421966  20160104002432   2016-01-04   \n",
       "4   278830   https://www.airbnb.com/rooms/278830  20160104002432   2016-01-04   \n",
       "\n",
       "                                  name  \\\n",
       "0         Stylish Queen Anne Apartment   \n",
       "1   Bright & Airy Queen Anne Apartment   \n",
       "2  New Modern House-Amazing water view   \n",
       "3                   Queen Anne Chateau   \n",
       "4       Charming craftsman 3 bdm house   \n",
       "\n",
       "                                             summary  \\\n",
       "0                                                NaN   \n",
       "1  Chemically sensitive? We've removed the irrita...   \n",
       "2  New modern house built in 2013.  Spectacular s...   \n",
       "3  A charming apartment that sits atop Queen Anne...   \n",
       "4  Cozy family craftman house in beautiful neighb...   \n",
       "\n",
       "                                               space  \\\n",
       "0  Make your self at home in this charming one-be...   \n",
       "1  Beautiful, hypoallergenic apartment in an extr...   \n",
       "2  Our house is modern, light and fresh with a wa...   \n",
       "3                                                NaN   \n",
       "4  Cozy family craftman house in beautiful neighb...   \n",
       "\n",
       "                                         description experiences_offered  \\\n",
       "0  Make your self at home in this charming one-be...                none   \n",
       "1  Chemically sensitive? We've removed the irrita...                none   \n",
       "2  New modern house built in 2013.  Spectacular s...                none   \n",
       "3  A charming apartment that sits atop Queen Anne...                none   \n",
       "4  Cozy family craftman house in beautiful neighb...                none   \n",
       "\n",
       "                               neighborhood_overview  \\\n",
       "0                                                NaN   \n",
       "1  Queen Anne is a wonderful, truly functional vi...   \n",
       "2  Upper Queen Anne is a charming neighborhood fu...   \n",
       "3                                                NaN   \n",
       "4  We are in the beautiful neighborhood of Queen ...   \n",
       "\n",
       "                                               notes  \\\n",
       "0                                                NaN   \n",
       "1  What's up with the free pillows?  Our home was...   \n",
       "2  Our house is located just 5 short blocks to To...   \n",
       "3                                                NaN   \n",
       "4                                          Belltown    \n",
       "\n",
       "                                             transit  \\\n",
       "0                                                NaN   \n",
       "1  Convenient bus stops are just down the block, ...   \n",
       "2  A bus stop is just 2 blocks away.   Easy bus a...   \n",
       "3                                                NaN   \n",
       "4  The nearest public transit bus (D Line) is 2 b...   \n",
       "\n",
       "                                       thumbnail_url  \\\n",
       "0                                                NaN   \n",
       "1  https://a0.muscache.com/ac/pictures/14409893/f...   \n",
       "2                                                NaN   \n",
       "3                                                NaN   \n",
       "4                                                NaN   \n",
       "\n",
       "                                          medium_url  \\\n",
       "0                                                NaN   \n",
       "1  https://a0.muscache.com/im/pictures/14409893/f...   \n",
       "2                                                NaN   \n",
       "3                                                NaN   \n",
       "4                                                NaN   \n",
       "\n",
       "                                         picture_url  \\\n",
       "0  https://a1.muscache.com/ac/pictures/67560560/c...   \n",
       "1  https://a0.muscache.com/ac/pictures/14409893/f...   \n",
       "2  https://a2.muscache.com/ac/pictures/b4324e0f-a...   \n",
       "3  https://a0.muscache.com/ac/pictures/94146944/6...   \n",
       "4  https://a1.muscache.com/ac/pictures/6120468/b0...   \n",
       "\n",
       "                                      xl_picture_url   host_id  \\\n",
       "0                                                NaN    956883   \n",
       "1  https://a0.muscache.com/ac/pictures/14409893/f...   5177328   \n",
       "2                                                NaN  16708587   \n",
       "3                                                NaN   9851441   \n",
       "4                                                NaN   1452570   \n",
       "\n",
       "                                     host_url host_name  host_since  \\\n",
       "0    https://www.airbnb.com/users/show/956883     Maija  2011-08-11   \n",
       "1   https://www.airbnb.com/users/show/5177328    Andrea  2013-02-21   \n",
       "2  https://www.airbnb.com/users/show/16708587      Jill  2014-06-12   \n",
       "3   https://www.airbnb.com/users/show/9851441     Emily  2013-11-06   \n",
       "4   https://www.airbnb.com/users/show/1452570     Emily  2011-11-29   \n",
       "\n",
       "                        host_location  \\\n",
       "0  Seattle, Washington, United States   \n",
       "1  Seattle, Washington, United States   \n",
       "2  Seattle, Washington, United States   \n",
       "3  Seattle, Washington, United States   \n",
       "4  Seattle, Washington, United States   \n",
       "\n",
       "                                          host_about  host_response_time  \\\n",
       "0  I am an artist, interior designer, and run a s...  within a few hours   \n",
       "1  Living east coast/left coast/overseas.  Time i...      within an hour   \n",
       "2  i love living in Seattle.  i grew up in the mi...  within a few hours   \n",
       "3                                                NaN                 NaN   \n",
       "4  Hi, I live in Seattle, Washington but I'm orig...      within an hour   \n",
       "\n",
       "  host_response_rate host_acceptance_rate host_is_superhost  \\\n",
       "0                96%                 100%                 f   \n",
       "1                98%                 100%                 t   \n",
       "2                67%                 100%                 f   \n",
       "3                NaN                  NaN                 f   \n",
       "4               100%                  NaN                 f   \n",
       "\n",
       "                                  host_thumbnail_url  \\\n",
       "0  https://a0.muscache.com/ac/users/956883/profil...   \n",
       "1  https://a0.muscache.com/ac/users/5177328/profi...   \n",
       "2  https://a1.muscache.com/ac/users/16708587/prof...   \n",
       "3  https://a2.muscache.com/ac/users/9851441/profi...   \n",
       "4  https://a0.muscache.com/ac/users/1452570/profi...   \n",
       "\n",
       "                                    host_picture_url host_neighbourhood  \\\n",
       "0  https://a0.muscache.com/ac/users/956883/profil...         Queen Anne   \n",
       "1  https://a0.muscache.com/ac/users/5177328/profi...         Queen Anne   \n",
       "2  https://a1.muscache.com/ac/users/16708587/prof...         Queen Anne   \n",
       "3  https://a2.muscache.com/ac/users/9851441/profi...         Queen Anne   \n",
       "4  https://a0.muscache.com/ac/users/1452570/profi...         Queen Anne   \n",
       "\n",
       "   host_listings_count  host_total_listings_count  \\\n",
       "0                  3.0                        3.0   \n",
       "1                  6.0                        6.0   \n",
       "2                  2.0                        2.0   \n",
       "3                  1.0                        1.0   \n",
       "4                  2.0                        2.0   \n",
       "\n",
       "                                  host_verifications host_has_profile_pic  \\\n",
       "0               ['email', 'phone', 'reviews', 'kba']                    t   \n",
       "1  ['email', 'phone', 'facebook', 'linkedin', 're...                    t   \n",
       "2   ['email', 'phone', 'google', 'reviews', 'jumio']                    t   \n",
       "3  ['email', 'phone', 'facebook', 'reviews', 'jum...                    t   \n",
       "4   ['email', 'phone', 'facebook', 'reviews', 'kba']                    t   \n",
       "\n",
       "  host_identity_verified                                             street  \\\n",
       "0                      t      Gilman Dr W, Seattle, WA 98119, United States   \n",
       "1                      t  7th Avenue West, Seattle, WA 98119, United States   \n",
       "2                      t  West Lee Street, Seattle, WA 98119, United States   \n",
       "3                      t  8th Avenue West, Seattle, WA 98119, United States   \n",
       "4                      t       14th Ave W, Seattle, WA 98119, United States   \n",
       "\n",
       "  neighbourhood neighbourhood_cleansed neighbourhood_group_cleansed     city  \\\n",
       "0    Queen Anne        West Queen Anne                   Queen Anne  Seattle   \n",
       "1    Queen Anne        West Queen Anne                   Queen Anne  Seattle   \n",
       "2    Queen Anne        West Queen Anne                   Queen Anne  Seattle   \n",
       "3    Queen Anne        West Queen Anne                   Queen Anne  Seattle   \n",
       "4    Queen Anne        West Queen Anne                   Queen Anne  Seattle   \n",
       "\n",
       "  state zipcode   market smart_location country_code        country  \\\n",
       "0    WA   98119  Seattle    Seattle, WA           US  United States   \n",
       "1    WA   98119  Seattle    Seattle, WA           US  United States   \n",
       "2    WA   98119  Seattle    Seattle, WA           US  United States   \n",
       "3    WA   98119  Seattle    Seattle, WA           US  United States   \n",
       "4    WA   98119  Seattle    Seattle, WA           US  United States   \n",
       "\n",
       "    latitude   longitude is_location_exact property_type        room_type  \\\n",
       "0  47.636289 -122.371025                 t     Apartment  Entire home/apt   \n",
       "1  47.639123 -122.365666                 t     Apartment  Entire home/apt   \n",
       "2  47.629724 -122.369483                 t         House  Entire home/apt   \n",
       "3  47.638473 -122.369279                 t     Apartment  Entire home/apt   \n",
       "4  47.632918 -122.372471                 t         House  Entire home/apt   \n",
       "\n",
       "   accommodates  bathrooms  bedrooms  beds  bed_type  \\\n",
       "0             4        1.0       1.0   1.0  Real Bed   \n",
       "1             4        1.0       1.0   1.0  Real Bed   \n",
       "2            11        4.5       5.0   7.0  Real Bed   \n",
       "3             3        1.0       0.0   2.0  Real Bed   \n",
       "4             6        2.0       3.0   3.0  Real Bed   \n",
       "\n",
       "                                           amenities  square_feet    price  \\\n",
       "0  {TV,\"Cable TV\",Internet,\"Wireless Internet\",\"A...          NaN   $85.00   \n",
       "1  {TV,Internet,\"Wireless Internet\",Kitchen,\"Free...          NaN  $150.00   \n",
       "2  {TV,\"Cable TV\",Internet,\"Wireless Internet\",\"A...          NaN  $975.00   \n",
       "3  {Internet,\"Wireless Internet\",Kitchen,\"Indoor ...          NaN  $100.00   \n",
       "4  {TV,\"Cable TV\",Internet,\"Wireless Internet\",Ki...          NaN  $450.00   \n",
       "\n",
       "  weekly_price monthly_price security_deposit cleaning_fee  guests_included  \\\n",
       "0          NaN           NaN              NaN          NaN                2   \n",
       "1    $1,000.00     $3,000.00          $100.00       $40.00                1   \n",
       "2          NaN           NaN        $1,000.00      $300.00               10   \n",
       "3      $650.00     $2,300.00              NaN          NaN                1   \n",
       "4          NaN           NaN          $700.00      $125.00                6   \n",
       "\n",
       "  extra_people  minimum_nights  maximum_nights calendar_updated  \\\n",
       "0        $5.00               1             365      4 weeks ago   \n",
       "1        $0.00               2              90            today   \n",
       "2       $25.00               4              30      5 weeks ago   \n",
       "3        $0.00               1            1125     6 months ago   \n",
       "4       $15.00               1            1125      7 weeks ago   \n",
       "\n",
       "  has_availability  availability_30  availability_60  availability_90  \\\n",
       "0                t               14               41               71   \n",
       "1                t               13               13               16   \n",
       "2                t                1                6               17   \n",
       "3                t                0                0                0   \n",
       "4                t               30               60               90   \n",
       "\n",
       "   availability_365 calendar_last_scraped  number_of_reviews first_review  \\\n",
       "0               346            2016-01-04                207   2011-11-01   \n",
       "1               291            2016-01-04                 43   2013-08-19   \n",
       "2               220            2016-01-04                 20   2014-07-30   \n",
       "3               143            2016-01-04                  0          NaN   \n",
       "4               365            2016-01-04                 38   2012-07-10   \n",
       "\n",
       "  last_review  review_scores_rating  review_scores_accuracy  \\\n",
       "0  2016-01-02                  95.0                    10.0   \n",
       "1  2015-12-29                  96.0                    10.0   \n",
       "2  2015-09-03                  97.0                    10.0   \n",
       "3         NaN                   NaN                     NaN   \n",
       "4  2015-10-24                  92.0                     9.0   \n",
       "\n",
       "   review_scores_cleanliness  review_scores_checkin  \\\n",
       "0                       10.0                   10.0   \n",
       "1                       10.0                   10.0   \n",
       "2                       10.0                   10.0   \n",
       "3                        NaN                    NaN   \n",
       "4                        9.0                   10.0   \n",
       "\n",
       "   review_scores_communication  review_scores_location  review_scores_value  \\\n",
       "0                         10.0                     9.0                 10.0   \n",
       "1                         10.0                    10.0                 10.0   \n",
       "2                         10.0                    10.0                 10.0   \n",
       "3                          NaN                     NaN                  NaN   \n",
       "4                         10.0                     9.0                  9.0   \n",
       "\n",
       "  requires_license  license jurisdiction_names instant_bookable  \\\n",
       "0                f      NaN         WASHINGTON                f   \n",
       "1                f      NaN         WASHINGTON                f   \n",
       "2                f      NaN         WASHINGTON                f   \n",
       "3                f      NaN         WASHINGTON                f   \n",
       "4                f      NaN         WASHINGTON                f   \n",
       "\n",
       "  cancellation_policy require_guest_profile_picture  \\\n",
       "0            moderate                             f   \n",
       "1              strict                             t   \n",
       "2              strict                             f   \n",
       "3            flexible                             f   \n",
       "4              strict                             f   \n",
       "\n",
       "  require_guest_phone_verification  calculated_host_listings_count  \\\n",
       "0                                f                               2   \n",
       "1                                t                               6   \n",
       "2                                f                               2   \n",
       "3                                f                               1   \n",
       "4                                f                               1   \n",
       "\n",
       "   reviews_per_month  \n",
       "0               4.07  \n",
       "1               1.48  \n",
       "2               1.15  \n",
       "3                NaN  \n",
       "4               0.89  "
      ]
     },
     "execution_count": 4,
     "metadata": {},
     "output_type": "execute_result"
    }
   ],
   "source": [
    "#As this table has 92 columns I will cancel the default max columns displayed (and set it back at 20 later on)\n",
    "pd.set_option('display.max_columns',None)\n",
    "\n",
    "df_list.head()\n",
    "\n"
   ]
  },
  {
   "cell_type": "code",
   "execution_count": 5,
   "id": "798bc305",
   "metadata": {},
   "outputs": [
    {
     "name": "stdout",
     "output_type": "stream",
     "text": [
      "<class 'pandas.core.frame.DataFrame'>\n",
      "RangeIndex: 3818 entries, 0 to 3817\n",
      "Data columns (total 92 columns):\n",
      " #   Column                            Non-Null Count  Dtype  \n",
      "---  ------                            --------------  -----  \n",
      " 0   id                                3818 non-null   int64  \n",
      " 1   listing_url                       3818 non-null   object \n",
      " 2   scrape_id                         3818 non-null   int64  \n",
      " 3   last_scraped                      3818 non-null   object \n",
      " 4   name                              3818 non-null   object \n",
      " 5   summary                           3641 non-null   object \n",
      " 6   space                             3249 non-null   object \n",
      " 7   description                       3818 non-null   object \n",
      " 8   experiences_offered               3818 non-null   object \n",
      " 9   neighborhood_overview             2786 non-null   object \n",
      " 10  notes                             2212 non-null   object \n",
      " 11  transit                           2884 non-null   object \n",
      " 12  thumbnail_url                     3498 non-null   object \n",
      " 13  medium_url                        3498 non-null   object \n",
      " 14  picture_url                       3818 non-null   object \n",
      " 15  xl_picture_url                    3498 non-null   object \n",
      " 16  host_id                           3818 non-null   int64  \n",
      " 17  host_url                          3818 non-null   object \n",
      " 18  host_name                         3816 non-null   object \n",
      " 19  host_since                        3816 non-null   object \n",
      " 20  host_location                     3810 non-null   object \n",
      " 21  host_about                        2959 non-null   object \n",
      " 22  host_response_time                3295 non-null   object \n",
      " 23  host_response_rate                3295 non-null   object \n",
      " 24  host_acceptance_rate              3045 non-null   object \n",
      " 25  host_is_superhost                 3816 non-null   object \n",
      " 26  host_thumbnail_url                3816 non-null   object \n",
      " 27  host_picture_url                  3816 non-null   object \n",
      " 28  host_neighbourhood                3518 non-null   object \n",
      " 29  host_listings_count               3816 non-null   float64\n",
      " 30  host_total_listings_count         3816 non-null   float64\n",
      " 31  host_verifications                3818 non-null   object \n",
      " 32  host_has_profile_pic              3816 non-null   object \n",
      " 33  host_identity_verified            3816 non-null   object \n",
      " 34  street                            3818 non-null   object \n",
      " 35  neighbourhood                     3402 non-null   object \n",
      " 36  neighbourhood_cleansed            3818 non-null   object \n",
      " 37  neighbourhood_group_cleansed      3818 non-null   object \n",
      " 38  city                              3818 non-null   object \n",
      " 39  state                             3818 non-null   object \n",
      " 40  zipcode                           3811 non-null   object \n",
      " 41  market                            3818 non-null   object \n",
      " 42  smart_location                    3818 non-null   object \n",
      " 43  country_code                      3818 non-null   object \n",
      " 44  country                           3818 non-null   object \n",
      " 45  latitude                          3818 non-null   float64\n",
      " 46  longitude                         3818 non-null   float64\n",
      " 47  is_location_exact                 3818 non-null   object \n",
      " 48  property_type                     3817 non-null   object \n",
      " 49  room_type                         3818 non-null   object \n",
      " 50  accommodates                      3818 non-null   int64  \n",
      " 51  bathrooms                         3802 non-null   float64\n",
      " 52  bedrooms                          3812 non-null   float64\n",
      " 53  beds                              3817 non-null   float64\n",
      " 54  bed_type                          3818 non-null   object \n",
      " 55  amenities                         3818 non-null   object \n",
      " 56  square_feet                       97 non-null     float64\n",
      " 57  price                             3818 non-null   object \n",
      " 58  weekly_price                      2009 non-null   object \n",
      " 59  monthly_price                     1517 non-null   object \n",
      " 60  security_deposit                  1866 non-null   object \n",
      " 61  cleaning_fee                      2788 non-null   object \n",
      " 62  guests_included                   3818 non-null   int64  \n",
      " 63  extra_people                      3818 non-null   object \n",
      " 64  minimum_nights                    3818 non-null   int64  \n",
      " 65  maximum_nights                    3818 non-null   int64  \n",
      " 66  calendar_updated                  3818 non-null   object \n",
      " 67  has_availability                  3818 non-null   object \n",
      " 68  availability_30                   3818 non-null   int64  \n",
      " 69  availability_60                   3818 non-null   int64  \n",
      " 70  availability_90                   3818 non-null   int64  \n",
      " 71  availability_365                  3818 non-null   int64  \n",
      " 72  calendar_last_scraped             3818 non-null   object \n",
      " 73  number_of_reviews                 3818 non-null   int64  \n",
      " 74  first_review                      3191 non-null   object \n",
      " 75  last_review                       3191 non-null   object \n",
      " 76  review_scores_rating              3171 non-null   float64\n",
      " 77  review_scores_accuracy            3160 non-null   float64\n",
      " 78  review_scores_cleanliness         3165 non-null   float64\n",
      " 79  review_scores_checkin             3160 non-null   float64\n",
      " 80  review_scores_communication       3167 non-null   float64\n",
      " 81  review_scores_location            3163 non-null   float64\n",
      " 82  review_scores_value               3162 non-null   float64\n",
      " 83  requires_license                  3818 non-null   object \n",
      " 84  license                           0 non-null      float64\n",
      " 85  jurisdiction_names                3818 non-null   object \n",
      " 86  instant_bookable                  3818 non-null   object \n",
      " 87  cancellation_policy               3818 non-null   object \n",
      " 88  require_guest_profile_picture     3818 non-null   object \n",
      " 89  require_guest_phone_verification  3818 non-null   object \n",
      " 90  calculated_host_listings_count    3818 non-null   int64  \n",
      " 91  reviews_per_month                 3191 non-null   float64\n",
      "dtypes: float64(17), int64(13), object(62)\n",
      "memory usage: 2.7+ MB\n",
      "None\n"
     ]
    }
   ],
   "source": [
    "print(df_list.info())\n",
    "\n",
    "pd.set_option('display.max_columns',20)\n"
   ]
  },
  {
   "cell_type": "markdown",
   "id": "ef0a13bc",
   "metadata": {},
   "source": [
    "> Price is object type and we saw earlier that it is in currency format (e.g. $85.00). That will definitely need some cleaning at a later stage."
   ]
  },
  {
   "cell_type": "markdown",
   "id": "951bae11",
   "metadata": {},
   "source": [
    "Quick investigation in id (looks like the primary key)"
   ]
  },
  {
   "cell_type": "code",
   "execution_count": 6,
   "id": "4f8121f6",
   "metadata": {},
   "outputs": [
    {
     "data": {
      "text/plain": [
       "3818"
      ]
     },
     "execution_count": 6,
     "metadata": {},
     "output_type": "execute_result"
    }
   ],
   "source": [
    "\n",
    "df_list['id'].nunique()"
   ]
  },
  {
   "cell_type": "markdown",
   "id": "6031f02b",
   "metadata": {},
   "source": [
    "> Number of distinct ids = Number of rows. It definetily is the primary key"
   ]
  },
  {
   "cell_type": "markdown",
   "id": "77098db6",
   "metadata": {},
   "source": [
    "What about Calendar dataset?"
   ]
  },
  {
   "cell_type": "code",
   "execution_count": 7,
   "id": "b2f94339",
   "metadata": {},
   "outputs": [
    {
     "name": "stdout",
     "output_type": "stream",
     "text": [
      "   listing_id        date available   price\n",
      "0      241032  2016-01-04         t  $85.00\n",
      "1      241032  2016-01-05         t  $85.00\n",
      "2      241032  2016-01-06         f     NaN\n",
      "3      241032  2016-01-07         f     NaN\n",
      "4      241032  2016-01-08         f     NaN\n",
      "<class 'pandas.core.frame.DataFrame'>\n",
      "RangeIndex: 1393570 entries, 0 to 1393569\n",
      "Data columns (total 4 columns):\n",
      " #   Column      Non-Null Count    Dtype \n",
      "---  ------      --------------    ----- \n",
      " 0   listing_id  1393570 non-null  int64 \n",
      " 1   date        1393570 non-null  object\n",
      " 2   available   1393570 non-null  object\n",
      " 3   price       934542 non-null   object\n",
      "dtypes: int64(1), object(3)\n",
      "memory usage: 42.5+ MB\n",
      "None\n"
     ]
    }
   ],
   "source": [
    "print(df_cal.head())\n",
    "print(df_cal.info())"
   ]
  },
  {
   "cell_type": "markdown",
   "id": "d094d248",
   "metadata": {},
   "source": [
    ">Same issue with price here. \n",
    ">Date will also need some cleaning as it is object type too. \n"
   ]
  },
  {
   "cell_type": "markdown",
   "id": "7871e32d",
   "metadata": {},
   "source": [
    "Let's understand a bit more about date field"
   ]
  },
  {
   "cell_type": "code",
   "execution_count": 8,
   "id": "8b8849ad",
   "metadata": {},
   "outputs": [
    {
     "name": "stdout",
     "output_type": "stream",
     "text": [
      "2016-01-04\n",
      "2017-01-02\n",
      "365\n"
     ]
    }
   ],
   "source": [
    "# Min and max date. Also number of dates\n",
    "print(df_cal['date'].min())\n",
    "print(df_cal['date'].max())\n",
    "print(df_cal['date'].nunique())\n"
   ]
  },
  {
   "cell_type": "markdown",
   "id": "7d37c4db",
   "metadata": {},
   "source": [
    ">Notice that number of listings (3818 ids in previous dataset) times number of dates here (365) is 3818*365=1393570. That's as many rows as we have in this table. So in the calendar we have the availability of each of the listings for each of the following (from 4th Jan 2016) 365 days.Availability given by column 'available' as true (t) or false (f)"
   ]
  },
  {
   "cell_type": "markdown",
   "id": "3dd62eba",
   "metadata": {},
   "source": [
    "Let's investigate on column 'available'. From a rough look at the data above it seems that there is no price when the listing is unavailable."
   ]
  },
  {
   "cell_type": "code",
   "execution_count": 9,
   "id": "8a7b6202",
   "metadata": {},
   "outputs": [
    {
     "name": "stdout",
     "output_type": "stream",
     "text": [
      "100.0\n",
      "0.0\n"
     ]
    }
   ],
   "source": [
    "print(df_cal[df_cal.available=='f']['price'].isnull().mean()*100)\n",
    "print(df_cal[df_cal.available=='t']['price'].isnull().mean()*100)"
   ]
  },
  {
   "cell_type": "markdown",
   "id": "39757583",
   "metadata": {},
   "source": [
    ">The code above confirms that our assumption is true. The days when the listing is booked might need to be dropped in the analysis below."
   ]
  },
  {
   "cell_type": "markdown",
   "id": "39ed7ac0",
   "metadata": {},
   "source": [
    "Finally, some data assessment in the reviews table"
   ]
  },
  {
   "cell_type": "code",
   "execution_count": 10,
   "id": "7a830c5c",
   "metadata": {},
   "outputs": [
    {
     "name": "stdout",
     "output_type": "stream",
     "text": [
      "   listing_id        id        date  reviewer_id reviewer_name  \\\n",
      "0     7202016  38917982  2015-07-19     28943674        Bianca   \n",
      "1     7202016  39087409  2015-07-20     32440555         Frank   \n",
      "2     7202016  39820030  2015-07-26     37722850           Ian   \n",
      "3     7202016  40813543  2015-08-02     33671805        George   \n",
      "4     7202016  41986501  2015-08-10     34959538          Ming   \n",
      "\n",
      "                                            comments  \n",
      "0  Cute and cozy place. Perfect location to every...  \n",
      "1  Kelly has a great room in a very central locat...  \n",
      "2  Very spacious apartment, and in a great neighb...  \n",
      "3  Close to Seattle Center and all it has to offe...  \n",
      "4  Kelly was a great host and very accommodating ...  \n",
      "<class 'pandas.core.frame.DataFrame'>\n",
      "RangeIndex: 84849 entries, 0 to 84848\n",
      "Data columns (total 6 columns):\n",
      " #   Column         Non-Null Count  Dtype \n",
      "---  ------         --------------  ----- \n",
      " 0   listing_id     84849 non-null  int64 \n",
      " 1   id             84849 non-null  int64 \n",
      " 2   date           84849 non-null  object\n",
      " 3   reviewer_id    84849 non-null  int64 \n",
      " 4   reviewer_name  84849 non-null  object\n",
      " 5   comments       84831 non-null  object\n",
      "dtypes: int64(3), object(3)\n",
      "memory usage: 3.9+ MB\n",
      "None\n"
     ]
    }
   ],
   "source": [
    "print(df_rev.head())\n",
    "print(df_rev.info())"
   ]
  },
  {
   "cell_type": "markdown",
   "id": "7953edd7",
   "metadata": {},
   "source": [
    "It would be interesting to see what the date range is"
   ]
  },
  {
   "cell_type": "code",
   "execution_count": 11,
   "id": "e7382dc0",
   "metadata": {},
   "outputs": [
    {
     "name": "stdout",
     "output_type": "stream",
     "text": [
      "2009-06-07\n",
      "2016-01-03\n",
      "1930\n"
     ]
    }
   ],
   "source": [
    "print(df_rev['date'].min())\n",
    "print(df_rev['date'].max())\n",
    "print(df_rev['date'].nunique())"
   ]
  },
  {
   "cell_type": "markdown",
   "id": "c01ea524",
   "metadata": {},
   "source": [
    "> We have data from the previous 6 and a half years. \n",
    "\n"
   ]
  },
  {
   "cell_type": "markdown",
   "id": "e0e8ae34",
   "metadata": {},
   "source": [
    "### Let's see what data can be used for each question\n",
    "\n",
    "* Question 1: The data from reviews table (previous 6 years) can be used to count reviews (therefore bookings) by calendar month. This will show the busiest months of the year. Then the calendar table will show avarage price by month for the current calendar year (2016). We can then compare the trends from the two tables\n",
    "\n",
    "\n",
    "* Question 2: The data from reviews table can also be summarised by year in order to reveal the year by year increase in the number of listings and in the number of bookings (assuming that most customers provide a review). \n",
    "\n",
    "\n",
    "* Question 3: We will be mainly based in data from listings table as there are is plenty of factors that potentially affect the price. "
   ]
  },
  {
   "cell_type": "markdown",
   "id": "b6e67d38",
   "metadata": {},
   "source": [
    "# Section 3: Data preparation\n",
    "\n",
    "### Data cleaning\n"
   ]
  },
  {
   "cell_type": "markdown",
   "id": "89f4570a",
   "metadata": {},
   "source": [
    "Firstly we use the date from reviews table to create two extra columns for question 1: \n",
    "    \n",
    "* Calendar month (will be used in the graph)\n",
    "* Month as a number (1 to 12 - will help with sorting)\n"
   ]
  },
  {
   "cell_type": "code",
   "execution_count": 12,
   "id": "5946568a",
   "metadata": {},
   "outputs": [],
   "source": [
    "df_rev['month_name']=pd.to_datetime(df_rev['date'],format='%Y-%m-%d').dt.month_name()\n",
    "df_rev['month']=pd.to_datetime(df_rev['date'],format='%Y-%m-%d').dt.month"
   ]
  },
  {
   "cell_type": "markdown",
   "id": "6a2fd66a",
   "metadata": {},
   "source": [
    "Let's test if it worked"
   ]
  },
  {
   "cell_type": "code",
   "execution_count": 13,
   "id": "71757c92",
   "metadata": {},
   "outputs": [
    {
     "data": {
      "text/html": [
       "<div>\n",
       "<style scoped>\n",
       "    .dataframe tbody tr th:only-of-type {\n",
       "        vertical-align: middle;\n",
       "    }\n",
       "\n",
       "    .dataframe tbody tr th {\n",
       "        vertical-align: top;\n",
       "    }\n",
       "\n",
       "    .dataframe thead th {\n",
       "        text-align: right;\n",
       "    }\n",
       "</style>\n",
       "<table border=\"1\" class=\"dataframe\">\n",
       "  <thead>\n",
       "    <tr style=\"text-align: right;\">\n",
       "      <th></th>\n",
       "      <th>listing_id</th>\n",
       "      <th>id</th>\n",
       "      <th>date</th>\n",
       "      <th>reviewer_id</th>\n",
       "      <th>reviewer_name</th>\n",
       "      <th>comments</th>\n",
       "      <th>month_name</th>\n",
       "      <th>month</th>\n",
       "    </tr>\n",
       "  </thead>\n",
       "  <tbody>\n",
       "    <tr>\n",
       "      <th>0</th>\n",
       "      <td>7202016</td>\n",
       "      <td>38917982</td>\n",
       "      <td>2015-07-19</td>\n",
       "      <td>28943674</td>\n",
       "      <td>Bianca</td>\n",
       "      <td>Cute and cozy place. Perfect location to every...</td>\n",
       "      <td>July</td>\n",
       "      <td>7</td>\n",
       "    </tr>\n",
       "    <tr>\n",
       "      <th>1</th>\n",
       "      <td>7202016</td>\n",
       "      <td>39087409</td>\n",
       "      <td>2015-07-20</td>\n",
       "      <td>32440555</td>\n",
       "      <td>Frank</td>\n",
       "      <td>Kelly has a great room in a very central locat...</td>\n",
       "      <td>July</td>\n",
       "      <td>7</td>\n",
       "    </tr>\n",
       "    <tr>\n",
       "      <th>2</th>\n",
       "      <td>7202016</td>\n",
       "      <td>39820030</td>\n",
       "      <td>2015-07-26</td>\n",
       "      <td>37722850</td>\n",
       "      <td>Ian</td>\n",
       "      <td>Very spacious apartment, and in a great neighb...</td>\n",
       "      <td>July</td>\n",
       "      <td>7</td>\n",
       "    </tr>\n",
       "    <tr>\n",
       "      <th>3</th>\n",
       "      <td>7202016</td>\n",
       "      <td>40813543</td>\n",
       "      <td>2015-08-02</td>\n",
       "      <td>33671805</td>\n",
       "      <td>George</td>\n",
       "      <td>Close to Seattle Center and all it has to offe...</td>\n",
       "      <td>August</td>\n",
       "      <td>8</td>\n",
       "    </tr>\n",
       "    <tr>\n",
       "      <th>4</th>\n",
       "      <td>7202016</td>\n",
       "      <td>41986501</td>\n",
       "      <td>2015-08-10</td>\n",
       "      <td>34959538</td>\n",
       "      <td>Ming</td>\n",
       "      <td>Kelly was a great host and very accommodating ...</td>\n",
       "      <td>August</td>\n",
       "      <td>8</td>\n",
       "    </tr>\n",
       "  </tbody>\n",
       "</table>\n",
       "</div>"
      ],
      "text/plain": [
       "   listing_id        id        date  reviewer_id reviewer_name  \\\n",
       "0     7202016  38917982  2015-07-19     28943674        Bianca   \n",
       "1     7202016  39087409  2015-07-20     32440555         Frank   \n",
       "2     7202016  39820030  2015-07-26     37722850           Ian   \n",
       "3     7202016  40813543  2015-08-02     33671805        George   \n",
       "4     7202016  41986501  2015-08-10     34959538          Ming   \n",
       "\n",
       "                                            comments month_name  month  \n",
       "0  Cute and cozy place. Perfect location to every...       July      7  \n",
       "1  Kelly has a great room in a very central locat...       July      7  \n",
       "2  Very spacious apartment, and in a great neighb...       July      7  \n",
       "3  Close to Seattle Center and all it has to offe...     August      8  \n",
       "4  Kelly was a great host and very accommodating ...     August      8  "
      ]
     },
     "execution_count": 13,
     "metadata": {},
     "output_type": "execute_result"
    }
   ],
   "source": [
    "df_rev.head()"
   ]
  },
  {
   "cell_type": "markdown",
   "id": "53ccca63",
   "metadata": {},
   "source": [
    "Let's drop any missing prices in the calendar table. The rest of the data is more than enough for inferences to be made\n",
    "\n"
   ]
  },
  {
   "cell_type": "code",
   "execution_count": 14,
   "id": "3f745e76",
   "metadata": {},
   "outputs": [],
   "source": [
    "df_cal_prices=df_cal.dropna(subset='price',axis=0)\n"
   ]
  },
  {
   "cell_type": "markdown",
   "id": "c82489b0",
   "metadata": {},
   "source": [
    "Some more data preparation is also needed as price comes in currency format (string has been used in the dataset)\n",
    "We need to change it to numeric\n"
   ]
  },
  {
   "cell_type": "code",
   "execution_count": 15,
   "id": "c9b1f4de",
   "metadata": {},
   "outputs": [
    {
     "name": "stderr",
     "output_type": "stream",
     "text": [
      "C:\\Users\\KokkinopoulosG\\AppData\\Local\\Temp\\ipykernel_4496\\289769154.py:1: FutureWarning: The default value of regex will change from True to False in a future version. In addition, single character regular expressions will *not* be treated as literal strings when regex=True.\n",
      "  df_cal_prices['price_num']=df_cal_prices['price'].str.replace('$','').str.replace(',','').astype('float')\n",
      "C:\\Users\\KokkinopoulosG\\AppData\\Local\\Temp\\ipykernel_4496\\289769154.py:1: SettingWithCopyWarning: \n",
      "A value is trying to be set on a copy of a slice from a DataFrame.\n",
      "Try using .loc[row_indexer,col_indexer] = value instead\n",
      "\n",
      "See the caveats in the documentation: https://pandas.pydata.org/pandas-docs/stable/user_guide/indexing.html#returning-a-view-versus-a-copy\n",
      "  df_cal_prices['price_num']=df_cal_prices['price'].str.replace('$','').str.replace(',','').astype('float')\n"
     ]
    }
   ],
   "source": [
    "df_cal_prices['price_num']=df_cal_prices['price'].str.replace('$','').str.replace(',','').astype('float')"
   ]
  },
  {
   "cell_type": "markdown",
   "id": "587d4e85",
   "metadata": {},
   "source": [
    "Same as with reviews table. Let's create month name and month number 1-12 (will help with sorting) in the calendar table\n"
   ]
  },
  {
   "cell_type": "code",
   "execution_count": 16,
   "id": "544cffa0",
   "metadata": {},
   "outputs": [
    {
     "name": "stderr",
     "output_type": "stream",
     "text": [
      "C:\\Users\\KokkinopoulosG\\AppData\\Local\\Temp\\ipykernel_4496\\539232523.py:1: SettingWithCopyWarning: \n",
      "A value is trying to be set on a copy of a slice from a DataFrame.\n",
      "Try using .loc[row_indexer,col_indexer] = value instead\n",
      "\n",
      "See the caveats in the documentation: https://pandas.pydata.org/pandas-docs/stable/user_guide/indexing.html#returning-a-view-versus-a-copy\n",
      "  df_cal_prices['month_name']=pd.to_datetime(df_cal_prices['date'],format='%Y-%m-%d').dt.month_name()\n",
      "C:\\Users\\KokkinopoulosG\\AppData\\Local\\Temp\\ipykernel_4496\\539232523.py:2: SettingWithCopyWarning: \n",
      "A value is trying to be set on a copy of a slice from a DataFrame.\n",
      "Try using .loc[row_indexer,col_indexer] = value instead\n",
      "\n",
      "See the caveats in the documentation: https://pandas.pydata.org/pandas-docs/stable/user_guide/indexing.html#returning-a-view-versus-a-copy\n",
      "  df_cal_prices['month']=pd.to_datetime(df_cal_prices['date'],format='%Y-%m-%d').dt.month\n"
     ]
    }
   ],
   "source": [
    "df_cal_prices['month_name']=pd.to_datetime(df_cal_prices['date'],format='%Y-%m-%d').dt.month_name()\n",
    "df_cal_prices['month']=pd.to_datetime(df_cal_prices['date'],format='%Y-%m-%d').dt.month\n"
   ]
  },
  {
   "cell_type": "markdown",
   "id": "250656c2",
   "metadata": {},
   "source": [
    "We are going to need year instead of month for question 2 so let's add it in reviews table as well as month.\n"
   ]
  },
  {
   "cell_type": "code",
   "execution_count": 17,
   "id": "d1f750bc",
   "metadata": {},
   "outputs": [],
   "source": [
    "df_rev['year']=pd.to_datetime(df_rev['date'],format='%Y-%m-%d').dt.year\n"
   ]
  },
  {
   "cell_type": "markdown",
   "id": "082cb08c",
   "metadata": {},
   "source": [
    "For question 3 we will create a copy of listings table where the price format will change to number (as in the calendar dataset above)"
   ]
  },
  {
   "cell_type": "code",
   "execution_count": 18,
   "id": "764505c0",
   "metadata": {},
   "outputs": [
    {
     "name": "stderr",
     "output_type": "stream",
     "text": [
      "C:\\Users\\KokkinopoulosG\\AppData\\Local\\Temp\\ipykernel_4496\\1252348457.py:2: FutureWarning: The default value of regex will change from True to False in a future version. In addition, single character regular expressions will *not* be treated as literal strings when regex=True.\n",
      "  df_list_prices['price_num']=df_list_prices['price'].str.replace('$','').str.replace(',','').astype('float')\n"
     ]
    }
   ],
   "source": [
    "df_list_prices=df_list\n",
    "df_list_prices['price_num']=df_list_prices['price'].str.replace('$','').str.replace(',','').astype('float')\n"
   ]
  },
  {
   "cell_type": "markdown",
   "id": "43724c8d",
   "metadata": {},
   "source": [
    "Let's also pick some of the variables which seem to be of particular effect on the price. We will also include the price in this list which obviously is NOT and independent variable as the name of the list below states - it's the response one. I have just put it here so that I can calculate its correlation with the actually independent ones (all others then)\n",
    "\n"
   ]
  },
  {
   "cell_type": "code",
   "execution_count": 19,
   "id": "5ecbf234",
   "metadata": {},
   "outputs": [],
   "source": [
    "\n",
    "independent_variables=['price_num','host_response_rate','host_acceptance_rate','host_is_superhost','neighbourhood_group_cleansed','property_type',\n",
    "                       'room_type','accommodates','bathrooms','bedrooms','beds','bed_type','security_deposit',\n",
    "                       'cleaning_fee','guests_included','extra_people','minimum_nights','maximum_nights','availability_30',\n",
    "                       'availability_60','availability_90','availability_365','number_of_reviews',\n",
    "                       'review_scores_rating','review_scores_accuracy','review_scores_cleanliness','review_scores_checkin',\n",
    "                       'review_scores_communication','review_scores_location','review_scores_value','instant_bookable',\n",
    "                       'cancellation_policy','require_guest_profile_picture','require_guest_phone_verification','reviews_per_month',\n",
    "                       'is_location_exact'\n",
    "                      ]\n",
    "\n"
   ]
  },
  {
   "cell_type": "markdown",
   "id": "f87812a9",
   "metadata": {},
   "source": [
    "Let's narrow down to the necessary variables (that's the main reason for using this copy table)\n"
   ]
  },
  {
   "cell_type": "code",
   "execution_count": 20,
   "id": "717727b0",
   "metadata": {},
   "outputs": [],
   "source": [
    "df_list_prices=df_list_prices[independent_variables]"
   ]
  },
  {
   "cell_type": "markdown",
   "id": "3842b199",
   "metadata": {},
   "source": [
    "# Section 4: Evaluation\n"
   ]
  },
  {
   "cell_type": "markdown",
   "id": "5f4bd494",
   "metadata": {},
   "source": [
    "## Question 1"
   ]
  },
  {
   "cell_type": "markdown",
   "id": "805c84ea",
   "metadata": {},
   "source": [
    "\n",
    "### Analyse"
   ]
  },
  {
   "cell_type": "markdown",
   "id": "7b3350b4",
   "metadata": {},
   "source": [
    "* We will calculate the number of reviews by calendar month (e.g. how many reviews we had in all Januaries together from 2009 to 2015)"
   ]
  },
  {
   "cell_type": "code",
   "execution_count": 21,
   "id": "2c96248a",
   "metadata": {},
   "outputs": [
    {
     "data": {
      "text/html": [
       "<div>\n",
       "<style scoped>\n",
       "    .dataframe tbody tr th:only-of-type {\n",
       "        vertical-align: middle;\n",
       "    }\n",
       "\n",
       "    .dataframe tbody tr th {\n",
       "        vertical-align: top;\n",
       "    }\n",
       "\n",
       "    .dataframe thead th {\n",
       "        text-align: right;\n",
       "    }\n",
       "</style>\n",
       "<table border=\"1\" class=\"dataframe\">\n",
       "  <thead>\n",
       "    <tr style=\"text-align: right;\">\n",
       "      <th></th>\n",
       "      <th>month_name</th>\n",
       "      <th>month</th>\n",
       "      <th>id</th>\n",
       "    </tr>\n",
       "  </thead>\n",
       "  <tbody>\n",
       "    <tr>\n",
       "      <th>4</th>\n",
       "      <td>January</td>\n",
       "      <td>1</td>\n",
       "      <td>2867</td>\n",
       "    </tr>\n",
       "    <tr>\n",
       "      <th>3</th>\n",
       "      <td>February</td>\n",
       "      <td>2</td>\n",
       "      <td>2643</td>\n",
       "    </tr>\n",
       "    <tr>\n",
       "      <th>7</th>\n",
       "      <td>March</td>\n",
       "      <td>3</td>\n",
       "      <td>4158</td>\n",
       "    </tr>\n",
       "    <tr>\n",
       "      <th>0</th>\n",
       "      <td>April</td>\n",
       "      <td>4</td>\n",
       "      <td>4233</td>\n",
       "    </tr>\n",
       "    <tr>\n",
       "      <th>8</th>\n",
       "      <td>May</td>\n",
       "      <td>5</td>\n",
       "      <td>5854</td>\n",
       "    </tr>\n",
       "    <tr>\n",
       "      <th>6</th>\n",
       "      <td>June</td>\n",
       "      <td>6</td>\n",
       "      <td>8544</td>\n",
       "    </tr>\n",
       "    <tr>\n",
       "      <th>5</th>\n",
       "      <td>July</td>\n",
       "      <td>7</td>\n",
       "      <td>10503</td>\n",
       "    </tr>\n",
       "    <tr>\n",
       "      <th>1</th>\n",
       "      <td>August</td>\n",
       "      <td>8</td>\n",
       "      <td>13018</td>\n",
       "    </tr>\n",
       "    <tr>\n",
       "      <th>11</th>\n",
       "      <td>September</td>\n",
       "      <td>9</td>\n",
       "      <td>11677</td>\n",
       "    </tr>\n",
       "    <tr>\n",
       "      <th>10</th>\n",
       "      <td>October</td>\n",
       "      <td>10</td>\n",
       "      <td>8955</td>\n",
       "    </tr>\n",
       "    <tr>\n",
       "      <th>9</th>\n",
       "      <td>November</td>\n",
       "      <td>11</td>\n",
       "      <td>6665</td>\n",
       "    </tr>\n",
       "    <tr>\n",
       "      <th>2</th>\n",
       "      <td>December</td>\n",
       "      <td>12</td>\n",
       "      <td>5732</td>\n",
       "    </tr>\n",
       "  </tbody>\n",
       "</table>\n",
       "</div>"
      ],
      "text/plain": [
       "   month_name  month     id\n",
       "4     January      1   2867\n",
       "3    February      2   2643\n",
       "7       March      3   4158\n",
       "0       April      4   4233\n",
       "8         May      5   5854\n",
       "6        June      6   8544\n",
       "5        July      7  10503\n",
       "1      August      8  13018\n",
       "11  September      9  11677\n",
       "10    October     10   8955\n",
       "9    November     11   6665\n",
       "2    December     12   5732"
      ]
     },
     "execution_count": 21,
     "metadata": {},
     "output_type": "execute_result"
    }
   ],
   "source": [
    "df_rev_by_month=df_rev.groupby(['month_name','month']).id.nunique().reset_index().sort_values(['month'])\n",
    "df_rev_by_month"
   ]
  },
  {
   "cell_type": "markdown",
   "id": "6ad7319a",
   "metadata": {},
   "source": [
    "> Quite obvious from the table above that Seattle is a summer destination.\n",
    "> However an informative graph is always better than mere numbers. Let's give it a try then\n"
   ]
  },
  {
   "cell_type": "markdown",
   "id": "f975c20f",
   "metadata": {},
   "source": [
    "\n",
    "### Visualise"
   ]
  },
  {
   "cell_type": "code",
   "execution_count": 22,
   "id": "2645e2b0",
   "metadata": {},
   "outputs": [
    {
     "data": {
      "image/png": "[encoded data removed]",
      "text/plain": [
       "<Figure size 432x288 with 1 Axes>"
      ]
     },
     "metadata": {
      "needs_background": "light"
     },
     "output_type": "display_data"
    }
   ],
   "source": [
    "plt.bar(df_rev_by_month.month_name,df_rev_by_month.id);\n",
    "plt.title('Bookings by month');\n",
    "plt.xticks(rotation=60);"
   ]
  },
  {
   "cell_type": "markdown",
   "id": "63b7813a",
   "metadata": {},
   "source": [
    "\n",
    "* Looks like Normal distribution peaked around August, slightly negatively skewed towards fall rather than winter.\n",
    "* Does this reflect on the prices of the listings at all? The calendar dataset has the prices for 2016 for the dates\n",
    "in which each listing is available. Let's see what it tells us."
   ]
  },
  {
   "cell_type": "markdown",
   "id": "161d1f10",
   "metadata": {},
   "source": [
    "#### Let's do the same steps for prices"
   ]
  },
  {
   "cell_type": "markdown",
   "id": "36ff3834",
   "metadata": {},
   "source": [
    "As earlier let's group price by month (in this case it is for 2016 only from calendar table). Average price will be calculated\n"
   ]
  },
  {
   "cell_type": "code",
   "execution_count": 23,
   "id": "159475ea",
   "metadata": {},
   "outputs": [],
   "source": [
    "df_cal_prices_monthly=df_cal_prices.groupby(['month_name','month']).mean()['price_num'].reset_index().sort_values(['month'])\n"
   ]
  },
  {
   "cell_type": "code",
   "execution_count": 24,
   "id": "f6860762",
   "metadata": {},
   "outputs": [
    {
     "data": {
      "text/html": [
       "<div>\n",
       "<style scoped>\n",
       "    .dataframe tbody tr th:only-of-type {\n",
       "        vertical-align: middle;\n",
       "    }\n",
       "\n",
       "    .dataframe tbody tr th {\n",
       "        vertical-align: top;\n",
       "    }\n",
       "\n",
       "    .dataframe thead th {\n",
       "        text-align: right;\n",
       "    }\n",
       "</style>\n",
       "<table border=\"1\" class=\"dataframe\">\n",
       "  <thead>\n",
       "    <tr style=\"text-align: right;\">\n",
       "      <th></th>\n",
       "      <th>month_name</th>\n",
       "      <th>month</th>\n",
       "      <th>price_num</th>\n",
       "    </tr>\n",
       "  </thead>\n",
       "  <tbody>\n",
       "    <tr>\n",
       "      <th>4</th>\n",
       "      <td>January</td>\n",
       "      <td>1</td>\n",
       "      <td>122.912176</td>\n",
       "    </tr>\n",
       "    <tr>\n",
       "      <th>3</th>\n",
       "      <td>February</td>\n",
       "      <td>2</td>\n",
       "      <td>124.293927</td>\n",
       "    </tr>\n",
       "    <tr>\n",
       "      <th>7</th>\n",
       "      <td>March</td>\n",
       "      <td>3</td>\n",
       "      <td>128.644488</td>\n",
       "    </tr>\n",
       "    <tr>\n",
       "      <th>0</th>\n",
       "      <td>April</td>\n",
       "      <td>4</td>\n",
       "      <td>135.097005</td>\n",
       "    </tr>\n",
       "    <tr>\n",
       "      <th>8</th>\n",
       "      <td>May</td>\n",
       "      <td>5</td>\n",
       "      <td>139.538183</td>\n",
       "    </tr>\n",
       "    <tr>\n",
       "      <th>6</th>\n",
       "      <td>June</td>\n",
       "      <td>6</td>\n",
       "      <td>147.473137</td>\n",
       "    </tr>\n",
       "    <tr>\n",
       "      <th>5</th>\n",
       "      <td>July</td>\n",
       "      <td>7</td>\n",
       "      <td>152.094150</td>\n",
       "    </tr>\n",
       "    <tr>\n",
       "      <th>1</th>\n",
       "      <td>August</td>\n",
       "      <td>8</td>\n",
       "      <td>150.656594</td>\n",
       "    </tr>\n",
       "    <tr>\n",
       "      <th>11</th>\n",
       "      <td>September</td>\n",
       "      <td>9</td>\n",
       "      <td>143.255949</td>\n",
       "    </tr>\n",
       "    <tr>\n",
       "      <th>10</th>\n",
       "      <td>October</td>\n",
       "      <td>10</td>\n",
       "      <td>137.031939</td>\n",
       "    </tr>\n",
       "    <tr>\n",
       "      <th>9</th>\n",
       "      <td>November</td>\n",
       "      <td>11</td>\n",
       "      <td>135.688738</td>\n",
       "    </tr>\n",
       "    <tr>\n",
       "      <th>2</th>\n",
       "      <td>December</td>\n",
       "      <td>12</td>\n",
       "      <td>137.251835</td>\n",
       "    </tr>\n",
       "  </tbody>\n",
       "</table>\n",
       "</div>"
      ],
      "text/plain": [
       "   month_name  month   price_num\n",
       "4     January      1  122.912176\n",
       "3    February      2  124.293927\n",
       "7       March      3  128.644488\n",
       "0       April      4  135.097005\n",
       "8         May      5  139.538183\n",
       "6        June      6  147.473137\n",
       "5        July      7  152.094150\n",
       "1      August      8  150.656594\n",
       "11  September      9  143.255949\n",
       "10    October     10  137.031939\n",
       "9    November     11  135.688738\n",
       "2    December     12  137.251835"
      ]
     },
     "execution_count": 24,
     "metadata": {},
     "output_type": "execute_result"
    }
   ],
   "source": [
    "df_cal_prices_monthly"
   ]
  },
  {
   "cell_type": "markdown",
   "id": "a9acb669",
   "metadata": {},
   "source": [
    ">Similar inference with previous table - summer being a bit more pricey.But the graph tells more of the truth not caught by eye in the table\n",
    " \n"
   ]
  },
  {
   "cell_type": "code",
   "execution_count": 25,
   "id": "319a2348",
   "metadata": {},
   "outputs": [
    {
     "data": {
      "image/png": "[encoded data removed]",
      "text/plain": [
       "<Figure size 432x288 with 1 Axes>"
      ]
     },
     "metadata": {
      "needs_background": "light"
     },
     "output_type": "display_data"
    }
   ],
   "source": [
    "plt.bar(df_cal_prices_monthly.month_name,df_cal_prices_monthly.price_num);\n",
    "plt.title('Average price by month');\n",
    "plt.xticks(rotation=60);"
   ]
  },
  {
   "cell_type": "markdown",
   "id": "e13dd0b6",
   "metadata": {},
   "source": [
    ">Yet another slightly negatively (towards fall) skewed Normal distribution. So prices tend to follow demand. But does it happen quite proportionately? See calculation below:"
   ]
  },
  {
   "cell_type": "code",
   "execution_count": 26,
   "id": "7d6a5d4b",
   "metadata": {},
   "outputs": [
    {
     "name": "stdout",
     "output_type": "stream",
     "text": [
      "Total bookings in August of previous years:  13018\n",
      "Total bookings in January of previous years:  2867\n",
      "That's an increase of  354.1 %\n"
     ]
    }
   ],
   "source": [
    "print('Total bookings in August of previous years: ',list(df_rev_by_month[df_rev_by_month.month_name=='August']['id'])[0]),\n",
    "print('Total bookings in January of previous years: ',list(df_rev_by_month[df_rev_by_month.month_name=='January']['id'])[0])\n",
    "print(\"That's an increase of \",round((list(df_rev_by_month[df_rev_by_month.month_name=='August']['id'])[0]/\n",
    "list(df_rev_by_month[df_rev_by_month.month_name=='January']['id'])[0]-1)*100,1),'%')\n"
   ]
  },
  {
   "cell_type": "code",
   "execution_count": 27,
   "id": "72d2252b",
   "metadata": {},
   "outputs": [
    {
     "name": "stdout",
     "output_type": "stream",
     "text": [
      "Average price in August for current year: $ 150.66\n",
      "Average price in January for current year: $ 122.91\n",
      "That's an increase of  22.6 %\n"
     ]
    }
   ],
   "source": [
    "print('Average price in August for current year: $',round(list(df_cal_prices_monthly[df_cal_prices_monthly.month_name=='August']['price_num'])[0],2)),\n",
    "print('Average price in January for current year: $',round(list(df_cal_prices_monthly[df_cal_prices_monthly.month_name=='January']['price_num'])[0],2)),\n",
    "print(\"That's an increase of \",round((list(df_cal_prices_monthly[df_cal_prices_monthly.month_name=='August']['price_num'])[0]/\n",
    "list(df_cal_prices_monthly[df_cal_prices_monthly.month_name=='January']['price_num'])[0]-1)*100,1),'%')\n"
   ]
  },
  {
   "cell_type": "markdown",
   "id": "c0d322e6",
   "metadata": {},
   "source": [
    ">The price increase is not as big as the increase in demand"
   ]
  },
  {
   "cell_type": "markdown",
   "id": "4ec7a034",
   "metadata": {},
   "source": [
    "#### Is there an explanation for this difference?"
   ]
  },
  {
   "cell_type": "markdown",
   "id": "56d4be68",
   "metadata": {},
   "source": [
    "Let's calculate the percantage of listings with a flat rate throughout  the year applied"
   ]
  },
  {
   "cell_type": "code",
   "execution_count": 28,
   "id": "cbccdf74",
   "metadata": {},
   "outputs": [
    {
     "name": "stdout",
     "output_type": "stream",
     "text": [
      "43.2 % of the listings apply a flat rate throught the year\n"
     ]
    }
   ],
   "source": [
    "distinct_prices_per_listing=df_cal_prices.groupby(['listing_id']).price.nunique()\n",
    "flat_rate_listings=distinct_prices_per_listing==1\n",
    "flat_rate_listings_percent=round(flat_rate_listings.mean()*100,1)\n",
    "print(flat_rate_listings_percent,'% of the listings apply a flat rate throught the year')"
   ]
  },
  {
   "cell_type": "markdown",
   "id": "9e135ce3",
   "metadata": {},
   "source": [
    ">It seems not all owners price their properties in the summer as high as they could which keeps the spike down"
   ]
  },
  {
   "cell_type": "markdown",
   "id": "eb230c5b",
   "metadata": {},
   "source": [
    "## Question 2"
   ]
  },
  {
   "cell_type": "markdown",
   "id": "ddb24a63",
   "metadata": {},
   "source": [
    "### Analyse"
   ]
  },
  {
   "cell_type": "markdown",
   "id": "62d87f18",
   "metadata": {},
   "source": [
    "Excluding the first 3 days of the current year (2016) and any reviews been made so far, let's calculate the number of listings been reviewed over the years as well as the number of reviews (id) and number of unique reviewers (reviewer_id)\n"
   ]
  },
  {
   "cell_type": "code",
   "execution_count": 29,
   "id": "b4171806",
   "metadata": {},
   "outputs": [
    {
     "name": "stderr",
     "output_type": "stream",
     "text": [
      "C:\\Users\\KokkinopoulosG\\AppData\\Local\\Temp\\ipykernel_4496\\3495608446.py:1: FutureWarning: Indexing with multiple keys (implicitly converted to a tuple of keys) will be deprecated, use a list instead.\n",
      "  df_rev_summary_year=df_rev[df_rev.year!=2016].groupby(['year'])['listing_id','id','reviewer_id'].nunique().reset_index()\n"
     ]
    }
   ],
   "source": [
    "df_rev_summary_year=df_rev[df_rev.year!=2016].groupby(['year'])['listing_id','id','reviewer_id'].nunique().reset_index()"
   ]
  },
  {
   "cell_type": "code",
   "execution_count": 30,
   "id": "d73891cd",
   "metadata": {},
   "outputs": [
    {
     "data": {
      "text/html": [
       "<div>\n",
       "<style scoped>\n",
       "    .dataframe tbody tr th:only-of-type {\n",
       "        vertical-align: middle;\n",
       "    }\n",
       "\n",
       "    .dataframe tbody tr th {\n",
       "        vertical-align: top;\n",
       "    }\n",
       "\n",
       "    .dataframe thead th {\n",
       "        text-align: right;\n",
       "    }\n",
       "</style>\n",
       "<table border=\"1\" class=\"dataframe\">\n",
       "  <thead>\n",
       "    <tr style=\"text-align: right;\">\n",
       "      <th></th>\n",
       "      <th>year</th>\n",
       "      <th>listing_id</th>\n",
       "      <th>id</th>\n",
       "      <th>reviewer_id</th>\n",
       "    </tr>\n",
       "  </thead>\n",
       "  <tbody>\n",
       "    <tr>\n",
       "      <th>0</th>\n",
       "      <td>2009</td>\n",
       "      <td>4</td>\n",
       "      <td>17</td>\n",
       "      <td>16</td>\n",
       "    </tr>\n",
       "    <tr>\n",
       "      <th>1</th>\n",
       "      <td>2010</td>\n",
       "      <td>35</td>\n",
       "      <td>254</td>\n",
       "      <td>238</td>\n",
       "    </tr>\n",
       "    <tr>\n",
       "      <th>2</th>\n",
       "      <td>2011</td>\n",
       "      <td>96</td>\n",
       "      <td>1169</td>\n",
       "      <td>1107</td>\n",
       "    </tr>\n",
       "    <tr>\n",
       "      <th>3</th>\n",
       "      <td>2012</td>\n",
       "      <td>232</td>\n",
       "      <td>3251</td>\n",
       "      <td>3051</td>\n",
       "    </tr>\n",
       "    <tr>\n",
       "      <th>4</th>\n",
       "      <td>2013</td>\n",
       "      <td>508</td>\n",
       "      <td>7077</td>\n",
       "      <td>6644</td>\n",
       "    </tr>\n",
       "    <tr>\n",
       "      <th>5</th>\n",
       "      <td>2014</td>\n",
       "      <td>1203</td>\n",
       "      <td>20365</td>\n",
       "      <td>18928</td>\n",
       "    </tr>\n",
       "    <tr>\n",
       "      <th>6</th>\n",
       "      <td>2015</td>\n",
       "      <td>3091</td>\n",
       "      <td>52493</td>\n",
       "      <td>48089</td>\n",
       "    </tr>\n",
       "  </tbody>\n",
       "</table>\n",
       "</div>"
      ],
      "text/plain": [
       "   year  listing_id     id  reviewer_id\n",
       "0  2009           4     17           16\n",
       "1  2010          35    254          238\n",
       "2  2011          96   1169         1107\n",
       "3  2012         232   3251         3051\n",
       "4  2013         508   7077         6644\n",
       "5  2014        1203  20365        18928\n",
       "6  2015        3091  52493        48089"
      ]
     },
     "execution_count": 30,
     "metadata": {},
     "output_type": "execute_result"
    }
   ],
   "source": [
    "df_rev_summary_year"
   ]
  },
  {
   "cell_type": "markdown",
   "id": "6484d544",
   "metadata": {},
   "source": [
    ">As expected, an upward trend in all 3 metrics but the variation in the numbers make it hard for inference.Let's put another bar chart then (grouped this time)\n"
   ]
  },
  {
   "cell_type": "markdown",
   "id": "6e9d4dd5",
   "metadata": {},
   "source": [
    "### Visualise"
   ]
  },
  {
   "cell_type": "code",
   "execution_count": 31,
   "id": "da25de28",
   "metadata": {},
   "outputs": [],
   "source": [
    "sns.set(style=\"white\")\n",
    "sns.set(style=\"whitegrid\", color_codes=True)"
   ]
  },
  {
   "cell_type": "markdown",
   "id": "a8ab4a4e",
   "metadata": {},
   "source": [
    "Let's also create a function for this visualisation in case we need to use it again"
   ]
  },
  {
   "cell_type": "code",
   "execution_count": 32,
   "id": "35fafe5e",
   "metadata": {},
   "outputs": [],
   "source": [
    "def grouped_bar_chart(df,col1,col2,col3):\n",
    "    '''\n",
    "    It provides the count of values by year from 3 different columns in a dataframe\n",
    "    \n",
    "    Input: The data frame and the 3 column names\n",
    "    \n",
    "    Output: Grouped bar chart with all 3 metrics\n",
    "    \n",
    "    '''\n",
    "    \n",
    "    years = np.arange(len(df['year']))\n",
    "    listings=df[col1]\n",
    "    reviews=df[col2]\n",
    "    reviewers=df[col3]\n",
    "    width=0.2\n",
    "    \n",
    "    plt.bar(years-width, listings, width, color='green')\n",
    "    plt.bar(years, reviewers, width, color='blue')\n",
    "    plt.bar(years+width, reviews, width, color='red')\n",
    "\n",
    "    plt.xticks(years, list(df['year']))\n",
    "    plt.xlabel(\"Years\")\n",
    "    plt.ylabel(\"Totals\")\n",
    "    plt.legend([\"Listings\",\"Reviewers\", \"Reviews\" ])\n",
    "\n",
    "    plt.show()\n",
    "    \n",
    "    "
   ]
  },
  {
   "cell_type": "code",
   "execution_count": 33,
   "id": "53ff4922",
   "metadata": {},
   "outputs": [
    {
     "data": {
      "image/png": "[encoded data removed]",
      "text/plain": [
       "<Figure size 432x288 with 1 Axes>"
      ]
     },
     "metadata": {},
     "output_type": "display_data"
    }
   ],
   "source": [
    "grouped_bar_chart(df_rev_summary_year,'listing_id','id','reviewer_id')"
   ]
  },
  {
   "cell_type": "markdown",
   "id": "e976a028",
   "metadata": {},
   "source": [
    "First 3-4 years really tiny compared to subsequent ones. Absolute numbers don't tell much of the truth here...\n",
    "Shall we look into percentage increase instead?"
   ]
  },
  {
   "cell_type": "markdown",
   "id": "dca0f4cd",
   "metadata": {},
   "source": [
    "Calculations. Let's create a temporary table with % increase (will be renamed to permanent table if ready to be used)"
   ]
  },
  {
   "cell_type": "code",
   "execution_count": 34,
   "id": "c8fa4973",
   "metadata": {},
   "outputs": [],
   "source": [
    "df_rev_pct_change_temp=df_rev_summary_year.set_index('year').pct_change()*100"
   ]
  },
  {
   "cell_type": "code",
   "execution_count": 35,
   "id": "9e222e87",
   "metadata": {},
   "outputs": [],
   "source": [
    "df_rev_pct_change_temp_rounded=round(df_rev_pct_change_temp,0)"
   ]
  },
  {
   "cell_type": "code",
   "execution_count": 36,
   "id": "f3211449",
   "metadata": {},
   "outputs": [
    {
     "data": {
      "text/html": [
       "<div>\n",
       "<style scoped>\n",
       "    .dataframe tbody tr th:only-of-type {\n",
       "        vertical-align: middle;\n",
       "    }\n",
       "\n",
       "    .dataframe tbody tr th {\n",
       "        vertical-align: top;\n",
       "    }\n",
       "\n",
       "    .dataframe thead th {\n",
       "        text-align: right;\n",
       "    }\n",
       "</style>\n",
       "<table border=\"1\" class=\"dataframe\">\n",
       "  <thead>\n",
       "    <tr style=\"text-align: right;\">\n",
       "      <th></th>\n",
       "      <th>listing_id</th>\n",
       "      <th>id</th>\n",
       "      <th>reviewer_id</th>\n",
       "    </tr>\n",
       "    <tr>\n",
       "      <th>year</th>\n",
       "      <th></th>\n",
       "      <th></th>\n",
       "      <th></th>\n",
       "    </tr>\n",
       "  </thead>\n",
       "  <tbody>\n",
       "    <tr>\n",
       "      <th>2009</th>\n",
       "      <td>NaN</td>\n",
       "      <td>NaN</td>\n",
       "      <td>NaN</td>\n",
       "    </tr>\n",
       "    <tr>\n",
       "      <th>2010</th>\n",
       "      <td>775.0</td>\n",
       "      <td>1394.0</td>\n",
       "      <td>1388.0</td>\n",
       "    </tr>\n",
       "    <tr>\n",
       "      <th>2011</th>\n",
       "      <td>174.0</td>\n",
       "      <td>360.0</td>\n",
       "      <td>365.0</td>\n",
       "    </tr>\n",
       "    <tr>\n",
       "      <th>2012</th>\n",
       "      <td>142.0</td>\n",
       "      <td>178.0</td>\n",
       "      <td>176.0</td>\n",
       "    </tr>\n",
       "    <tr>\n",
       "      <th>2013</th>\n",
       "      <td>119.0</td>\n",
       "      <td>118.0</td>\n",
       "      <td>118.0</td>\n",
       "    </tr>\n",
       "    <tr>\n",
       "      <th>2014</th>\n",
       "      <td>137.0</td>\n",
       "      <td>188.0</td>\n",
       "      <td>185.0</td>\n",
       "    </tr>\n",
       "    <tr>\n",
       "      <th>2015</th>\n",
       "      <td>157.0</td>\n",
       "      <td>158.0</td>\n",
       "      <td>154.0</td>\n",
       "    </tr>\n",
       "  </tbody>\n",
       "</table>\n",
       "</div>"
      ],
      "text/plain": [
       "      listing_id      id  reviewer_id\n",
       "year                                 \n",
       "2009         NaN     NaN          NaN\n",
       "2010       775.0  1394.0       1388.0\n",
       "2011       174.0   360.0        365.0\n",
       "2012       142.0   178.0        176.0\n",
       "2013       119.0   118.0        118.0\n",
       "2014       137.0   188.0        185.0\n",
       "2015       157.0   158.0        154.0"
      ]
     },
     "execution_count": 36,
     "metadata": {},
     "output_type": "execute_result"
    }
   ],
   "source": [
    "df_rev_pct_change_temp_rounded"
   ]
  },
  {
   "cell_type": "markdown",
   "id": "1aedf716",
   "metadata": {},
   "source": [
    "First year obviously needs to be discarded and this is going to be the final table\n"
   ]
  },
  {
   "cell_type": "code",
   "execution_count": 37,
   "id": "2aad066a",
   "metadata": {},
   "outputs": [],
   "source": [
    "df_rev_pct_change=df_rev_pct_change_temp_rounded.reset_index()[1:]"
   ]
  },
  {
   "cell_type": "code",
   "execution_count": 38,
   "id": "065ef510",
   "metadata": {},
   "outputs": [
    {
     "data": {
      "text/html": [
       "<div>\n",
       "<style scoped>\n",
       "    .dataframe tbody tr th:only-of-type {\n",
       "        vertical-align: middle;\n",
       "    }\n",
       "\n",
       "    .dataframe tbody tr th {\n",
       "        vertical-align: top;\n",
       "    }\n",
       "\n",
       "    .dataframe thead th {\n",
       "        text-align: right;\n",
       "    }\n",
       "</style>\n",
       "<table border=\"1\" class=\"dataframe\">\n",
       "  <thead>\n",
       "    <tr style=\"text-align: right;\">\n",
       "      <th></th>\n",
       "      <th>year</th>\n",
       "      <th>listing_id</th>\n",
       "      <th>id</th>\n",
       "      <th>reviewer_id</th>\n",
       "    </tr>\n",
       "  </thead>\n",
       "  <tbody>\n",
       "    <tr>\n",
       "      <th>1</th>\n",
       "      <td>2010</td>\n",
       "      <td>775.0</td>\n",
       "      <td>1394.0</td>\n",
       "      <td>1388.0</td>\n",
       "    </tr>\n",
       "    <tr>\n",
       "      <th>2</th>\n",
       "      <td>2011</td>\n",
       "      <td>174.0</td>\n",
       "      <td>360.0</td>\n",
       "      <td>365.0</td>\n",
       "    </tr>\n",
       "    <tr>\n",
       "      <th>3</th>\n",
       "      <td>2012</td>\n",
       "      <td>142.0</td>\n",
       "      <td>178.0</td>\n",
       "      <td>176.0</td>\n",
       "    </tr>\n",
       "    <tr>\n",
       "      <th>4</th>\n",
       "      <td>2013</td>\n",
       "      <td>119.0</td>\n",
       "      <td>118.0</td>\n",
       "      <td>118.0</td>\n",
       "    </tr>\n",
       "    <tr>\n",
       "      <th>5</th>\n",
       "      <td>2014</td>\n",
       "      <td>137.0</td>\n",
       "      <td>188.0</td>\n",
       "      <td>185.0</td>\n",
       "    </tr>\n",
       "    <tr>\n",
       "      <th>6</th>\n",
       "      <td>2015</td>\n",
       "      <td>157.0</td>\n",
       "      <td>158.0</td>\n",
       "      <td>154.0</td>\n",
       "    </tr>\n",
       "  </tbody>\n",
       "</table>\n",
       "</div>"
      ],
      "text/plain": [
       "   year  listing_id      id  reviewer_id\n",
       "1  2010       775.0  1394.0       1388.0\n",
       "2  2011       174.0   360.0        365.0\n",
       "3  2012       142.0   178.0        176.0\n",
       "4  2013       119.0   118.0        118.0\n",
       "5  2014       137.0   188.0        185.0\n",
       "6  2015       157.0   158.0        154.0"
      ]
     },
     "execution_count": 38,
     "metadata": {},
     "output_type": "execute_result"
    }
   ],
   "source": [
    "df_rev_pct_change"
   ]
  },
  {
   "cell_type": "markdown",
   "id": "cf821837",
   "metadata": {},
   "source": [
    "It turns out to be a wise decision to create a function for the graph as it will be used for a second graph"
   ]
  },
  {
   "cell_type": "code",
   "execution_count": 39,
   "id": "e7cabe61",
   "metadata": {},
   "outputs": [
    {
     "data": {
      "image/png": "[encoded data removed]",
      "text/plain": [
       "<Figure size 432x288 with 1 Axes>"
      ]
     },
     "metadata": {},
     "output_type": "display_data"
    }
   ],
   "source": [
    "grouped_bar_chart(df_rev_pct_change,'listing_id','id','reviewer_id')"
   ]
  },
  {
   "cell_type": "markdown",
   "id": "39207f3d",
   "metadata": {},
   "source": [
    "### Inference"
   ]
  },
  {
   "cell_type": "markdown",
   "id": "dfc539fc",
   "metadata": {},
   "source": [
    "* We can see that from 2012 onwards the percentage increase in listings and bookings (as shown by reviews) follow each other. \n",
    "* That wasn't particularly the case in the first two years though as the demand there was more rapidly increased than the supply, possibly due to the increasing popularity of Airbnb as a platform"
   ]
  },
  {
   "cell_type": "markdown",
   "id": "5021ba18",
   "metadata": {},
   "source": [
    "## Question 3"
   ]
  },
  {
   "cell_type": "markdown",
   "id": "b2fe5d24",
   "metadata": {},
   "source": [
    "#### Extra data preparation might be needed. Let's see"
   ]
  },
  {
   "cell_type": "markdown",
   "id": "003d5a4c",
   "metadata": {},
   "source": [
    "The table with the independent variables and the response one was created earlier. What if I try to drop missing data in the categorical variables \n"
   ]
  },
  {
   "cell_type": "code",
   "execution_count": 40,
   "id": "3fb28c2c",
   "metadata": {},
   "outputs": [
    {
     "data": {
      "text/plain": [
       "(3815, 36)"
      ]
     },
     "execution_count": 40,
     "metadata": {},
     "output_type": "execute_result"
    }
   ],
   "source": [
    "\n",
    "df_list_prices.dropna(subset=['is_location_exact','neighbourhood_group_cleansed','property_type','room_type','bed_type',\n",
    "                              'host_is_superhost','instant_bookable','cancellation_policy','require_guest_profile_picture',\n",
    "                              'require_guest_phone_verification']\n",
    "                      ,axis=0).shape\n",
    "               "
   ]
  },
  {
   "cell_type": "markdown",
   "id": "d43c62c3",
   "metadata": {},
   "source": [
    ">3815 of the initial 3818 values remain - not a big loss so let's give it a go."
   ]
  },
  {
   "cell_type": "code",
   "execution_count": 41,
   "id": "f46adb69",
   "metadata": {},
   "outputs": [
    {
     "name": "stderr",
     "output_type": "stream",
     "text": [
      "C:\\Users\\KokkinopoulosG\\AppData\\Local\\Temp\\ipykernel_4496\\2782531203.py:1: SettingWithCopyWarning: \n",
      "A value is trying to be set on a copy of a slice from a DataFrame\n",
      "\n",
      "See the caveats in the documentation: https://pandas.pydata.org/pandas-docs/stable/user_guide/indexing.html#returning-a-view-versus-a-copy\n",
      "  df_list_prices.dropna(subset=['is_location_exact','neighbourhood_group_cleansed','property_type','room_type','bed_type',\n"
     ]
    }
   ],
   "source": [
    "df_list_prices.dropna(subset=['is_location_exact','neighbourhood_group_cleansed','property_type','room_type','bed_type',\n",
    "                              'host_is_superhost','instant_bookable','cancellation_policy','require_guest_profile_picture',\n",
    "                              'require_guest_phone_verification']\n",
    "                      ,axis=0,inplace=True)\n",
    "               "
   ]
  },
  {
   "cell_type": "markdown",
   "id": "5b14e045",
   "metadata": {},
   "source": [
    "Are things equally good if I drop missing data in the numeric ones?\n"
   ]
  },
  {
   "cell_type": "code",
   "execution_count": 42,
   "id": "a4c82021",
   "metadata": {},
   "outputs": [
    {
     "data": {
      "text/plain": [
       "(1233, 36)"
      ]
     },
     "execution_count": 42,
     "metadata": {},
     "output_type": "execute_result"
    }
   ],
   "source": [
    "df_list_prices.dropna(subset=['host_acceptance_rate','bathrooms','bedrooms','beds','availability_30','availability_60','availability_90',\n",
    "                              'availability_365','number_of_reviews','review_scores_rating','review_scores_accuracy','review_scores_cleanliness',\n",
    "                              'review_scores_checkin','review_scores_communication','review_scores_location','review_scores_value',\n",
    "                              'reviews_per_month','host_response_rate','accommodates','security_deposit','cleaning_fee','guests_included',\n",
    "                              'extra_people','minimum_nights','maximum_nights'],axis=0).shape"
   ]
  },
  {
   "cell_type": "markdown",
   "id": "ef4c89ae",
   "metadata": {},
   "source": [
    "* Not as good news here. Only 1233 rows (around 30%) remain here.Dropping is not recommended then.\n",
    "* Even imputting (by using mean perhaps) is risky, so let's see the big picture: \n",
    "* Are all these variables considerably correlated with price? Let's see below:"
   ]
  },
  {
   "cell_type": "markdown",
   "id": "9fc619ed",
   "metadata": {},
   "source": [
    "Let's put all numeric explanatory (as well as the response) variables together\n"
   ]
  },
  {
   "cell_type": "code",
   "execution_count": 43,
   "id": "8fd38611",
   "metadata": {},
   "outputs": [],
   "source": [
    "num_vars=['price_num','host_acceptance_rate','bathrooms','bedrooms','beds','availability_30','availability_60','availability_90',\n",
    "                              'availability_365','number_of_reviews','review_scores_rating','review_scores_accuracy','review_scores_cleanliness',\n",
    "                              'review_scores_checkin','review_scores_communication','review_scores_location','review_scores_value',\n",
    "                              'reviews_per_month','host_response_rate','accommodates','security_deposit','cleaning_fee','guests_included',\n",
    "                              'extra_people','minimum_nights','maximum_nights']"
   ]
  },
  {
   "cell_type": "markdown",
   "id": "130dbae7",
   "metadata": {},
   "source": [
    "### Analyse"
   ]
  },
  {
   "cell_type": "markdown",
   "id": "ea4c0e01",
   "metadata": {},
   "source": [
    "I am going to need to see all correlations available so let's change the settings\n"
   ]
  },
  {
   "cell_type": "code",
   "execution_count": 44,
   "id": "01ccb22c",
   "metadata": {},
   "outputs": [],
   "source": [
    "pd.set_option('display.max_rows', None)\n",
    "pd.set_option('display.max_columns', None)\n"
   ]
  },
  {
   "cell_type": "markdown",
   "id": "a0e36acc",
   "metadata": {},
   "source": [
    "Below is the correlations table... or, to be honest, a subset of that looking at price's column only\n"
   ]
  },
  {
   "cell_type": "code",
   "execution_count": 45,
   "id": "b242e849",
   "metadata": {},
   "outputs": [
    {
     "data": {
      "text/plain": [
       "price_num                      1.000000\n",
       "bathrooms                      0.516703\n",
       "bedrooms                       0.628138\n",
       "beds                           0.589924\n",
       "availability_30               -0.037223\n",
       "availability_60               -0.048817\n",
       "availability_90               -0.058222\n",
       "availability_365              -0.014980\n",
       "number_of_reviews             -0.124598\n",
       "review_scores_rating           0.055551\n",
       "review_scores_accuracy         0.019026\n",
       "review_scores_cleanliness      0.054357\n",
       "review_scores_checkin          0.007877\n",
       "review_scores_communication    0.012990\n",
       "review_scores_location         0.075069\n",
       "review_scores_value           -0.041776\n",
       "reviews_per_month             -0.218588\n",
       "accommodates                   0.652665\n",
       "guests_included                0.393150\n",
       "minimum_nights                 0.017329\n",
       "maximum_nights                -0.003448\n",
       "Name: price_num, dtype: float64"
      ]
     },
     "execution_count": 45,
     "metadata": {},
     "output_type": "execute_result"
    }
   ],
   "source": [
    "df_list_prices[num_vars].corr()['price_num']"
   ]
  },
  {
   "cell_type": "markdown",
   "id": "c3211b35",
   "metadata": {},
   "source": [
    "* Bathrooms, bedrooms and beds are quite strongly correlated to price (as expected) as well as accomodates (number of people) and guests included.  \n",
    "* Number of reviews seem to be important too (though negatively) as well as monthly reviews.\n",
    "* But these two sets of variables seem to contain variables correlated to each other as they describe similar or related things.\n",
    "* So let's look closer at the correlation of these variables only to each other\n"
   ]
  },
  {
   "cell_type": "code",
   "execution_count": 46,
   "id": "6742a7aa",
   "metadata": {},
   "outputs": [],
   "source": [
    "\n",
    "num_vars_new=['price_num','bedrooms','bathrooms','beds','reviews_per_month','number_of_reviews',\n",
    "              'accommodates','guests_included']\n"
   ]
  },
  {
   "cell_type": "markdown",
   "id": "ba59a946",
   "metadata": {},
   "source": [
    "A heatmap will make the difference here\n"
   ]
  },
  {
   "cell_type": "code",
   "execution_count": 47,
   "id": "e9ff12c7",
   "metadata": {},
   "outputs": [
    {
     "data": {
      "image/png": "[encoded data removed]",
      "text/plain": [
       "<Figure size 432x288 with 2 Axes>"
      ]
     },
     "metadata": {},
     "output_type": "display_data"
    }
   ],
   "source": [
    "sns.heatmap(df_list_prices[num_vars_new].corr(), annot=True, fmt=\".2f\");"
   ]
  },
  {
   "cell_type": "markdown",
   "id": "01f0df17",
   "metadata": {},
   "source": [
    "* As expected, bathrooms, bedrooms,beds, accomodates and guests included are quite strongly correlated to each other\n",
    "* Same with number of review and reviews per month\n",
    "* Let's see missing values before we decide what is discarded"
   ]
  },
  {
   "cell_type": "code",
   "execution_count": 48,
   "id": "3017637b",
   "metadata": {},
   "outputs": [
    {
     "data": {
      "text/plain": [
       "price_num              0\n",
       "bedrooms               6\n",
       "bathrooms             16\n",
       "beds                   1\n",
       "reviews_per_month    624\n",
       "number_of_reviews      0\n",
       "accommodates           0\n",
       "guests_included        0\n",
       "dtype: int64"
      ]
     },
     "execution_count": 48,
     "metadata": {},
     "output_type": "execute_result"
    }
   ],
   "source": [
    "df_list_prices[num_vars_new].isnull().sum()"
   ]
  },
  {
   "cell_type": "markdown",
   "id": "a07c9c6f",
   "metadata": {},
   "source": [
    "* It seems that bedrooms is a good option (only 6 missing values and very high correlation)\n",
    "* On the other hand reviews per month has bigger correlation with price (0.22 to 0.12) than number of reviews but it drops 624 rows (around 16%) so the latter will be selected\n"
   ]
  },
  {
   "cell_type": "code",
   "execution_count": 49,
   "id": "74934efb",
   "metadata": {},
   "outputs": [],
   "source": [
    "num_vars_3=['bedrooms','number_of_reviews']"
   ]
  },
  {
   "cell_type": "code",
   "execution_count": 50,
   "id": "92fd101c",
   "metadata": {},
   "outputs": [],
   "source": [
    "# Bring settings back to default\n",
    "pd.set_option('display.max_rows', 10)\n",
    "pd.set_option('display.max_columns', 20)"
   ]
  },
  {
   "cell_type": "markdown",
   "id": "82b37092",
   "metadata": {},
   "source": [
    "Let's remove missing values\n"
   ]
  },
  {
   "cell_type": "code",
   "execution_count": 51,
   "id": "5b9a61f1",
   "metadata": {},
   "outputs": [
    {
     "name": "stderr",
     "output_type": "stream",
     "text": [
      "C:\\Users\\KokkinopoulosG\\AppData\\Local\\Temp\\ipykernel_4496\\3761314149.py:1: SettingWithCopyWarning: \n",
      "A value is trying to be set on a copy of a slice from a DataFrame\n",
      "\n",
      "See the caveats in the documentation: https://pandas.pydata.org/pandas-docs/stable/user_guide/indexing.html#returning-a-view-versus-a-copy\n",
      "  df_list_prices.dropna(subset='bedrooms',axis=0,inplace=True)\n"
     ]
    }
   ],
   "source": [
    "df_list_prices.dropna(subset='bedrooms',axis=0,inplace=True)"
   ]
  },
  {
   "cell_type": "markdown",
   "id": "42d892d6",
   "metadata": {},
   "source": [
    "Let's see what happens with the categorical variables \n"
   ]
  },
  {
   "cell_type": "code",
   "execution_count": 52,
   "id": "d48fd5af",
   "metadata": {},
   "outputs": [],
   "source": [
    "cat_vars=['is_location_exact','neighbourhood_group_cleansed','property_type','room_type','bed_type',\n",
    "                              'host_is_superhost','instant_bookable','cancellation_policy','require_guest_profile_picture',\n",
    "                              'require_guest_phone_verification']"
   ]
  },
  {
   "cell_type": "markdown",
   "id": "e536fe8f",
   "metadata": {},
   "source": [
    "We will create the dummy ones\n"
   ]
  },
  {
   "cell_type": "code",
   "execution_count": 53,
   "id": "8581e7bb",
   "metadata": {},
   "outputs": [],
   "source": [
    "for var in  cat_vars:\n",
    "        \n",
    "        df_list_prices = pd.concat([df_list_prices.drop(var, axis=1), pd.get_dummies(df_list_prices[var], prefix=var, prefix_sep='_')], axis=1)\n",
    "    "
   ]
  },
  {
   "cell_type": "markdown",
   "id": "456c5b01",
   "metadata": {},
   "source": [
    "Finally let's drop the variables that have been discarded\n"
   ]
  },
  {
   "cell_type": "code",
   "execution_count": 54,
   "id": "af5bdd18",
   "metadata": {},
   "outputs": [],
   "source": [
    "df_list_prices.drop(['host_acceptance_rate','accommodates','bathrooms','beds','availability_30','availability_60','availability_90','availability_365',\n",
    "                     'review_scores_rating','review_scores_accuracy','review_scores_cleanliness','review_scores_checkin',\n",
    "                     'review_scores_communication','review_scores_location','review_scores_value','reviews_per_month','host_response_rate',\n",
    "                      'security_deposit','cleaning_fee','guests_included','extra_people','minimum_nights',\n",
    "                     'maximum_nights'],axis=1,inplace=True)"
   ]
  },
  {
   "cell_type": "code",
   "execution_count": 55,
   "id": "ff51b8f4",
   "metadata": {},
   "outputs": [
    {
     "data": {
      "text/plain": [
       "(3809, 57)"
      ]
     },
     "execution_count": 55,
     "metadata": {},
     "output_type": "execute_result"
    }
   ],
   "source": [
    "df_list_prices.shape"
   ]
  },
  {
   "cell_type": "markdown",
   "id": "4f2f803c",
   "metadata": {},
   "source": [
    "## Data Modeling"
   ]
  },
  {
   "cell_type": "markdown",
   "id": "cc7c3dba",
   "metadata": {},
   "source": [
    "Let's separate the independent variables from the response one and split into training and testing set\n"
   ]
  },
  {
   "cell_type": "code",
   "execution_count": 56,
   "id": "716bba6d",
   "metadata": {},
   "outputs": [],
   "source": [
    "y=df_list_prices['price_num']\n",
    "X=df_list_prices.drop(['price_num'],axis=1)\n",
    "X_train, X_test, y_train, y_test = train_test_split(X, y, test_size=0.3, random_state=42)\n"
   ]
  },
  {
   "cell_type": "markdown",
   "id": "979bcc7a",
   "metadata": {},
   "source": [
    "\n",
    "### Fit the model"
   ]
  },
  {
   "cell_type": "code",
   "execution_count": 57,
   "id": "f4428e32",
   "metadata": {},
   "outputs": [
    {
     "name": "stderr",
     "output_type": "stream",
     "text": [
      "c:\\Miniconda\\Miniconda3\\envs\\basic_env\\lib\\site-packages\\sklearn\\linear_model\\_base.py:141: FutureWarning: 'normalize' was deprecated in version 1.0 and will be removed in 1.2.\n",
      "If you wish to scale the data, use Pipeline with a StandardScaler in a preprocessing stage. To reproduce the previous behavior:\n",
      "\n",
      "from sklearn.pipeline import make_pipeline\n",
      "\n",
      "model = make_pipeline(StandardScaler(with_mean=False), LinearRegression())\n",
      "\n",
      "If you wish to pass a sample_weight parameter, you need to pass it as a fit parameter to each step of the pipeline as follows:\n",
      "\n",
      "kwargs = {s[0] + '__sample_weight': sample_weight for s in model.steps}\n",
      "model.fit(X, y, **kwargs)\n",
      "\n",
      "\n",
      "  warnings.warn(\n"
     ]
    },
    {
     "data": {
      "text/plain": [
       "LinearRegression(normalize=True)"
      ]
     },
     "execution_count": 57,
     "metadata": {},
     "output_type": "execute_result"
    }
   ],
   "source": [
    "\n",
    "lm_model = LinearRegression(normalize=True) \n",
    "lm_model.fit(X_train, y_train) \n",
    "\n",
    "\n",
    "    "
   ]
  },
  {
   "cell_type": "markdown",
   "id": "5b08cc49",
   "metadata": {},
   "source": [
    "### And validate the model"
   ]
  },
  {
   "cell_type": "code",
   "execution_count": 58,
   "id": "9caed18e",
   "metadata": {},
   "outputs": [],
   "source": [
    "#Predict using your model\n",
    "y_test_preds = lm_model.predict(X_test)\n",
    "y_train_preds = lm_model.predict(X_train)\n",
    "\n",
    "#Score using your model\n",
    "test_score = r2_score(y_test, y_test_preds)\n",
    "train_score = r2_score(y_train, y_train_preds)\n"
   ]
  },
  {
   "cell_type": "markdown",
   "id": "9dc74310",
   "metadata": {},
   "source": [
    "So let's test our work\n"
   ]
  },
  {
   "cell_type": "code",
   "execution_count": 59,
   "id": "5da1fcf9",
   "metadata": {},
   "outputs": [
    {
     "name": "stdout",
     "output_type": "stream",
     "text": [
      "The rsquared on the training data was 0.5508444680471313.  The rsquared on the test data was -1.239683540223447e+22.\n"
     ]
    }
   ],
   "source": [
    "print(\"The rsquared on the training data was {}.  The rsquared on the test data was {}.\".format(train_score, test_score))"
   ]
  },
  {
   "cell_type": "markdown",
   "id": "c873e338",
   "metadata": {},
   "source": [
    "* Training data is good but test data is almost 0. Too much overfitting\n",
    "* Did we discard any categorical variables at all?\n",
    "* What if there is correlation between them?\n"
   ]
  },
  {
   "cell_type": "markdown",
   "id": "e2f9ffbe",
   "metadata": {},
   "source": [
    "Let's isolote the numeric ones first and do the same steps.We will look into categorical ones later"
   ]
  },
  {
   "cell_type": "code",
   "execution_count": 60,
   "id": "affee8fe",
   "metadata": {},
   "outputs": [],
   "source": [
    "X2=df_list_prices[num_vars_3]\n",
    "X2_train, X2_test, y2_train, y2_test = train_test_split(X2, y, test_size=0.3, random_state=42)\n"
   ]
  },
  {
   "cell_type": "code",
   "execution_count": 61,
   "id": "b22be3d7",
   "metadata": {},
   "outputs": [
    {
     "name": "stderr",
     "output_type": "stream",
     "text": [
      "c:\\Miniconda\\Miniconda3\\envs\\basic_env\\lib\\site-packages\\sklearn\\linear_model\\_base.py:141: FutureWarning: 'normalize' was deprecated in version 1.0 and will be removed in 1.2.\n",
      "If you wish to scale the data, use Pipeline with a StandardScaler in a preprocessing stage. To reproduce the previous behavior:\n",
      "\n",
      "from sklearn.pipeline import make_pipeline\n",
      "\n",
      "model = make_pipeline(StandardScaler(with_mean=False), LinearRegression())\n",
      "\n",
      "If you wish to pass a sample_weight parameter, you need to pass it as a fit parameter to each step of the pipeline as follows:\n",
      "\n",
      "kwargs = {s[0] + '__sample_weight': sample_weight for s in model.steps}\n",
      "model.fit(X, y, **kwargs)\n",
      "\n",
      "\n",
      "  warnings.warn(\n"
     ]
    }
   ],
   "source": [
    "\n",
    "lm_model2 = LinearRegression(normalize=True) # Instantiate\n",
    "lm_model2.fit(X2_train, y2_train) #Fit\n",
    "\n",
    "#Predict using your model\n",
    "y2_test_preds = lm_model2.predict(X2_test)\n",
    "y2_train_preds = lm_model2.predict(X2_train)\n",
    "\n",
    "#Score using your model\n",
    "test_score = r2_score(y2_test, y2_test_preds)\n",
    "train_score = r2_score(y2_train, y2_train_preds)\n"
   ]
  },
  {
   "cell_type": "markdown",
   "id": "a3d4a2d0",
   "metadata": {},
   "source": [
    "Test results again\n"
   ]
  },
  {
   "cell_type": "code",
   "execution_count": 62,
   "id": "357139a0",
   "metadata": {},
   "outputs": [
    {
     "name": "stdout",
     "output_type": "stream",
     "text": [
      "The rsquared on the training data was 0.3989135084603903.  The rsquared on the test data was 0.39554074990083854.\n"
     ]
    }
   ],
   "source": [
    "print(\"The rsquared on the training data was {}.  The rsquared on the test data was {}.\".format(train_score, test_score))"
   ]
  },
  {
   "cell_type": "markdown",
   "id": "f242b038",
   "metadata": {},
   "source": [
    "> Test set does equally good here.It seems that the numeric variables we picked was a good choice. Let's see the coefficients then"
   ]
  },
  {
   "cell_type": "code",
   "execution_count": 63,
   "id": "750d5d65",
   "metadata": {},
   "outputs": [
    {
     "name": "stdout",
     "output_type": "stream",
     "text": [
      "[62.68345    -0.14729674]\n",
      "48.96391374915629\n"
     ]
    },
    {
     "name": "stderr",
     "output_type": "stream",
     "text": [
      "c:\\Miniconda\\Miniconda3\\envs\\basic_env\\lib\\site-packages\\sklearn\\linear_model\\_base.py:141: FutureWarning: 'normalize' was deprecated in version 1.0 and will be removed in 1.2.\n",
      "If you wish to scale the data, use Pipeline with a StandardScaler in a preprocessing stage. To reproduce the previous behavior:\n",
      "\n",
      "from sklearn.pipeline import make_pipeline\n",
      "\n",
      "model = make_pipeline(StandardScaler(with_mean=False), LinearRegression())\n",
      "\n",
      "If you wish to pass a sample_weight parameter, you need to pass it as a fit parameter to each step of the pipeline as follows:\n",
      "\n",
      "kwargs = {s[0] + '__sample_weight': sample_weight for s in model.steps}\n",
      "model.fit(X, y, **kwargs)\n",
      "\n",
      "\n",
      "  warnings.warn(\n",
      "c:\\Miniconda\\Miniconda3\\envs\\basic_env\\lib\\site-packages\\sklearn\\linear_model\\_base.py:141: FutureWarning: 'normalize' was deprecated in version 1.0 and will be removed in 1.2.\n",
      "If you wish to scale the data, use Pipeline with a StandardScaler in a preprocessing stage. To reproduce the previous behavior:\n",
      "\n",
      "from sklearn.pipeline import make_pipeline\n",
      "\n",
      "model = make_pipeline(StandardScaler(with_mean=False), LinearRegression())\n",
      "\n",
      "If you wish to pass a sample_weight parameter, you need to pass it as a fit parameter to each step of the pipeline as follows:\n",
      "\n",
      "kwargs = {s[0] + '__sample_weight': sample_weight for s in model.steps}\n",
      "model.fit(X, y, **kwargs)\n",
      "\n",
      "\n",
      "  warnings.warn(\n"
     ]
    }
   ],
   "source": [
    "print(lm_model.fit(X2_train, y2_train).coef_)\n",
    "print(lm_model.fit(X2_train, y2_train).intercept_)\n"
   ]
  },
  {
   "cell_type": "markdown",
   "id": "5c73ecd5",
   "metadata": {},
   "source": [
    "### Further analyse"
   ]
  },
  {
   "cell_type": "markdown",
   "id": "d4619ec1",
   "metadata": {},
   "source": [
    "Let's investigate if there are any categorical variables that affect price more than others\n"
   ]
  },
  {
   "cell_type": "code",
   "execution_count": 64,
   "id": "2eb58618",
   "metadata": {},
   "outputs": [],
   "source": [
    "cat_vars2=list(df_list_prices.select_dtypes(include='uint8').columns)\n",
    "cat_vars2.insert(0,'price_num')"
   ]
  },
  {
   "cell_type": "markdown",
   "id": "8a924720",
   "metadata": {},
   "source": [
    "Below is the correlations table\n"
   ]
  },
  {
   "cell_type": "code",
   "execution_count": 65,
   "id": "b5506cee",
   "metadata": {},
   "outputs": [
    {
     "name": "stdout",
     "output_type": "stream",
     "text": [
      "price_num                                           1.000000\n",
      "is_location_exact_f                                -0.016068\n",
      "is_location_exact_t                                 0.016068\n",
      "neighbourhood_group_cleansed_Ballard               -0.009247\n",
      "neighbourhood_group_cleansed_Beacon Hill           -0.065948\n",
      "neighbourhood_group_cleansed_Capitol Hill           0.012803\n",
      "neighbourhood_group_cleansed_Cascade                0.020767\n",
      "neighbourhood_group_cleansed_Central Area           0.001313\n",
      "neighbourhood_group_cleansed_Delridge              -0.072035\n",
      "neighbourhood_group_cleansed_Downtown               0.117111\n",
      "neighbourhood_group_cleansed_Interbay              -0.010876\n",
      "neighbourhood_group_cleansed_Lake City             -0.052314\n",
      "neighbourhood_group_cleansed_Magnolia               0.070206\n",
      "neighbourhood_group_cleansed_Northgate             -0.063949\n",
      "neighbourhood_group_cleansed_Other neighborhoods   -0.045508\n",
      "neighbourhood_group_cleansed_Queen Anne             0.093840\n",
      "neighbourhood_group_cleansed_Rainier Valley        -0.083519\n",
      "neighbourhood_group_cleansed_Seward Park           -0.023343\n",
      "neighbourhood_group_cleansed_University District   -0.069168\n",
      "neighbourhood_group_cleansed_West Seattle           0.035672\n",
      "property_type_Apartment                            -0.050560\n",
      "property_type_Bed & Breakfast                      -0.017463\n",
      "property_type_Boat                                  0.078439\n",
      "property_type_Bungalow                             -0.008011\n",
      "property_type_Cabin                                -0.019219\n",
      "property_type_Camper/RV                            -0.004870\n",
      "property_type_Chalet                               -0.007482\n",
      "property_type_Condominium                           0.040077\n",
      "property_type_Dorm                                 -0.022457\n",
      "property_type_House                                 0.044434\n",
      "property_type_Loft                                  0.008811\n",
      "property_type_Other                                -0.028917\n",
      "property_type_Tent                                 -0.029700\n",
      "property_type_Townhouse                             0.002932\n",
      "property_type_Treehouse                            -0.008387\n",
      "property_type_Yurt                                 -0.005020\n",
      "room_type_Entire home/apt                           0.436081\n",
      "room_type_Private room                             -0.387880\n",
      "room_type_Shared room                              -0.158552\n",
      "bed_type_Airbed                                    -0.050538\n",
      "bed_type_Couch                                     -0.041260\n",
      "bed_type_Futon                                     -0.085966\n",
      "bed_type_Pull-out Sofa                             -0.062014\n",
      "bed_type_Real Bed                                   0.126046\n",
      "host_is_superhost_f                                -0.012138\n",
      "host_is_superhost_t                                 0.012138\n",
      "instant_bookable_f                                  0.031128\n",
      "instant_bookable_t                                 -0.031128\n",
      "cancellation_policy_flexible                       -0.135110\n",
      "cancellation_policy_moderate                       -0.101608\n",
      "cancellation_policy_strict                          0.227130\n",
      "require_guest_profile_picture_f                    -0.063923\n",
      "require_guest_profile_picture_t                     0.063923\n",
      "require_guest_phone_verification_f                 -0.058168\n",
      "require_guest_phone_verification_t                  0.058168\n",
      "Name: price_num, dtype: float64\n"
     ]
    }
   ],
   "source": [
    "pd.set_option('display.max_rows',None)\n",
    "print(df_list_prices[cat_vars2].corr()['price_num'])\n",
    "pd.set_option('display.max_rows',10)"
   ]
  },
  {
   "cell_type": "markdown",
   "id": "b5142e0f",
   "metadata": {},
   "source": [
    ">It seems that variables related to room type and cancellation policy are the most important ones.So let's add them to the numerical ones"
   ]
  },
  {
   "cell_type": "code",
   "execution_count": 66,
   "id": "782f1f08",
   "metadata": {},
   "outputs": [],
   "source": [
    "mixed_vars=['bedrooms','number_of_reviews','room_type_Entire home/apt','room_type_Private room','room_type_Shared room',\n",
    "'cancellation_policy_flexible','cancellation_policy_moderate','cancellation_policy_strict']"
   ]
  },
  {
   "cell_type": "markdown",
   "id": "673adbcd",
   "metadata": {},
   "source": [
    "## Data modelling 2"
   ]
  },
  {
   "cell_type": "code",
   "execution_count": 67,
   "id": "fbda589e",
   "metadata": {},
   "outputs": [
    {
     "name": "stderr",
     "output_type": "stream",
     "text": [
      "c:\\Miniconda\\Miniconda3\\envs\\basic_env\\lib\\site-packages\\sklearn\\linear_model\\_base.py:141: FutureWarning: 'normalize' was deprecated in version 1.0 and will be removed in 1.2.\n",
      "If you wish to scale the data, use Pipeline with a StandardScaler in a preprocessing stage. To reproduce the previous behavior:\n",
      "\n",
      "from sklearn.pipeline import make_pipeline\n",
      "\n",
      "model = make_pipeline(StandardScaler(with_mean=False), LinearRegression())\n",
      "\n",
      "If you wish to pass a sample_weight parameter, you need to pass it as a fit parameter to each step of the pipeline as follows:\n",
      "\n",
      "kwargs = {s[0] + '__sample_weight': sample_weight for s in model.steps}\n",
      "model.fit(X, y, **kwargs)\n",
      "\n",
      "\n",
      "  warnings.warn(\n"
     ]
    }
   ],
   "source": [
    "X3=df_list_prices[mixed_vars]\n",
    "\n",
    "X3_train, X3_test, y3_train, y3_test = train_test_split(X3, y, test_size=0.3, random_state=42)\n",
    "\n",
    "lm_model3 = LinearRegression(normalize=True) # Instantiate\n",
    "lm_model3.fit(X3_train, y3_train) #Fit\n",
    "\n",
    "#Predict using your model\n",
    "y3_test_preds = lm_model3.predict(X3_test)\n",
    "y3_train_preds = lm_model3.predict(X3_train)\n",
    "\n",
    "#Score using your model\n",
    "test_score = r2_score(y3_test, y3_test_preds)\n",
    "train_score = r2_score(y3_train, y3_train_preds)\n"
   ]
  },
  {
   "cell_type": "markdown",
   "id": "94539b09",
   "metadata": {},
   "source": [
    "## Evaluate "
   ]
  },
  {
   "cell_type": "code",
   "execution_count": 68,
   "id": "b6b4bd32",
   "metadata": {},
   "outputs": [
    {
     "name": "stdout",
     "output_type": "stream",
     "text": [
      "The rsquared on the training data was 0.4894220447278539.  The rsquared on the test data was 0.4843623938828233.\n",
      "Coefficients are:  [ 54.30813831  -0.13381161  29.00708272 -22.61063674 -55.05768324\n",
      "  -2.84829265  -5.20850281   7.50734196]\n",
      "Intercept is:  48.54190422211971\n"
     ]
    },
    {
     "name": "stderr",
     "output_type": "stream",
     "text": [
      "c:\\Miniconda\\Miniconda3\\envs\\basic_env\\lib\\site-packages\\sklearn\\linear_model\\_base.py:141: FutureWarning: 'normalize' was deprecated in version 1.0 and will be removed in 1.2.\n",
      "If you wish to scale the data, use Pipeline with a StandardScaler in a preprocessing stage. To reproduce the previous behavior:\n",
      "\n",
      "from sklearn.pipeline import make_pipeline\n",
      "\n",
      "model = make_pipeline(StandardScaler(with_mean=False), LinearRegression())\n",
      "\n",
      "If you wish to pass a sample_weight parameter, you need to pass it as a fit parameter to each step of the pipeline as follows:\n",
      "\n",
      "kwargs = {s[0] + '__sample_weight': sample_weight for s in model.steps}\n",
      "model.fit(X, y, **kwargs)\n",
      "\n",
      "\n",
      "  warnings.warn(\n",
      "c:\\Miniconda\\Miniconda3\\envs\\basic_env\\lib\\site-packages\\sklearn\\linear_model\\_base.py:141: FutureWarning: 'normalize' was deprecated in version 1.0 and will be removed in 1.2.\n",
      "If you wish to scale the data, use Pipeline with a StandardScaler in a preprocessing stage. To reproduce the previous behavior:\n",
      "\n",
      "from sklearn.pipeline import make_pipeline\n",
      "\n",
      "model = make_pipeline(StandardScaler(with_mean=False), LinearRegression())\n",
      "\n",
      "If you wish to pass a sample_weight parameter, you need to pass it as a fit parameter to each step of the pipeline as follows:\n",
      "\n",
      "kwargs = {s[0] + '__sample_weight': sample_weight for s in model.steps}\n",
      "model.fit(X, y, **kwargs)\n",
      "\n",
      "\n",
      "  warnings.warn(\n"
     ]
    }
   ],
   "source": [
    "\n",
    "print(\"The rsquared on the training data was {}.  The rsquared on the test data was {}.\".format(train_score, test_score))\n",
    "print('Coefficients are: ',lm_model.fit(X3_train, y3_train).coef_)\n",
    "print('Intercept is: ',lm_model.fit(X3_train, y3_train).intercept_)"
   ]
  },
  {
   "cell_type": "markdown",
   "id": "aa4cd27c",
   "metadata": {},
   "source": [
    "* Substantially better than earlier the first model\n",
    "* R squared is at 48% up from 39% and it's almost the same in both sets so this model fits perfectly to the test set\n",
    "* An extra room would increase the price by 54 dollars whereas Entire apartments are about 51 dollars (difference between 29 and -22) more expensive than private rooms.\n",
    "* Finally, a strict cancellation policy plays a positive role in the price compared to flexible and moderate (10 dollars up \n",
    "compared to flexible)"
   ]
  },
  {
   "cell_type": "code",
   "execution_count": null,
   "id": "f0fda9a4",
   "metadata": {},
   "outputs": [],
   "source": []
  }
 ],
 "metadata": {
  "kernelspec": {
   "display_name": "Python 3 (ipykernel)",
   "language": "python",
   "name": "python3"
  },
  "language_info": {
   "codemirror_mode": {
    "name": "ipython",
    "version": 3
   },
   "file_extension": ".py",
   "mimetype": "text/x-python",
   "name": "python",
   "nbconvert_exporter": "python",
   "pygments_lexer": "ipython3",
   "version": "3.10.4"
  }
 },
 "nbformat": 4,
 "nbformat_minor": 5
}
