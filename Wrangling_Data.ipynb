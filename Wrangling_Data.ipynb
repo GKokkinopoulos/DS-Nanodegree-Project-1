{
 "cells": [
  {
   "cell_type": "code",
   "execution_count": 1,
   "id": "84f237d4",
   "metadata": {},
   "outputs": [],
   "source": [
    "import numpy as np\n",
    "import pandas as pd\n",
    "import plotly.graph_objs as go\n",
    "import json"
   ]
  },
  {
   "cell_type": "code",
   "execution_count": 2,
   "id": "62deb9e4",
   "metadata": {},
   "outputs": [],
   "source": [
    "def year(week):\n",
    "    if week>=1 and week<=52:\n",
    "        return 1\n",
    "    elif week>=53 and week<=104:\n",
    "        return 2\n",
    "    else: \n",
    "        return 3"
   ]
  },
  {
   "cell_type": "code",
   "execution_count": 3,
   "id": "4ac05591",
   "metadata": {},
   "outputs": [],
   "source": [
    "def week_of_year(week):\n",
    "    if week>=1 and week<=52:\n",
    "        return week\n",
    "    elif week>=53 and week<=104:\n",
    "        return week-52\n",
    "    else: \n",
    "        return week-104"
   ]
  },
  {
   "cell_type": "code",
   "execution_count": 4,
   "id": "85075ab8",
   "metadata": {},
   "outputs": [],
   "source": [
    "def full_data_preparation():\n",
    "    meals=pd.read_csv('meal_info.csv')\n",
    "    history=pd.read_csv('historic_data.csv')\n",
    "    full_dataset=history.merge(meals,'left')\n",
    "    full_dataset['week_of_year']=full_dataset['week'].apply(week_of_year)\n",
    "    full_dataset['year']=full_dataset['week'].apply(year)\n",
    "    return full_dataset\n"
   ]
  },
  {
   "cell_type": "code",
   "execution_count": 5,
   "id": "f2e1b008",
   "metadata": {},
   "outputs": [],
   "source": [
    "def weekly_data_preparation(data):\n",
    "    return data.groupby('week_of_year').mean()['num_orders'].reset_index()"
   ]
  },
  {
   "cell_type": "code",
   "execution_count": 6,
   "id": "8efcd10f",
   "metadata": {},
   "outputs": [],
   "source": [
    "def yearly_data_preparation(data):\n",
    "    return data.groupby('year').mean()['num_orders'].reset_index()"
   ]
  },
  {
   "cell_type": "code",
   "execution_count": 7,
   "id": "c92ddd73",
   "metadata": {},
   "outputs": [],
   "source": [
    "import matplotlib.pyplot as plt\n",
    "%matplotlib inline\n"
   ]
  },
  {
   "cell_type": "code",
   "execution_count": 9,
   "id": "f1f8ea25",
   "metadata": {},
   "outputs": [],
   "source": [
    "full_dataset=full_data_preparation()"
   ]
  },
  {
   "cell_type": "code",
   "execution_count": 10,
   "id": "2223edc8",
   "metadata": {},
   "outputs": [
    {
     "name": "stderr",
     "output_type": "stream",
     "text": [
      "C:\\Users\\georg\\AppData\\Local\\Temp\\ipykernel_10632\\1002822839.py:1: FutureWarning: The default value of numeric_only in DataFrameGroupBy.sum is deprecated. In a future version, numeric_only will default to False. Either specify numeric_only or select only columns which should be valid for the function.\n",
      "  full_dataset_cuisine=full_dataset.groupby('cuisine').sum()['num_orders'].reset_index()\n"
     ]
    }
   ],
   "source": [
    "full_dataset_cuisine=full_dataset.groupby('cuisine').sum()['num_orders'].reset_index()"
   ]
  },
  {
   "cell_type": "code",
   "execution_count": null,
   "id": "36ca887a",
   "metadata": {},
   "outputs": [],
   "source": []
  }
 ],
 "metadata": {
  "kernelspec": {
   "display_name": "Python 3 (ipykernel)",
   "language": "python",
   "name": "python3"
  },
  "language_info": {
   "codemirror_mode": {
    "name": "ipython",
    "version": 3
   },
   "file_extension": ".py",
   "mimetype": "text/x-python",
   "name": "python",
   "nbconvert_exporter": "python",
   "pygments_lexer": "ipython3",
   "version": "3.10.9"
  }
 },
 "nbformat": 4,
 "nbformat_minor": 5
}
